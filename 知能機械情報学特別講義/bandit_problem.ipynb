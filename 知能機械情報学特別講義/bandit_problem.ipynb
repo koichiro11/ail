{
 "cells": [
  {
   "cell_type": "markdown",
   "metadata": {},
   "source": [
    "# Bandit Problem"
   ]
  },
  {
   "cell_type": "markdown",
   "metadata": {},
   "source": [
    "## UCB algorithm"
   ]
  },
  {
   "cell_type": "markdown",
   "metadata": {},
   "source": [
    "USB algorithm evaluates arm A as follows:"
   ]
  },
  {
   "cell_type": "markdown",
   "metadata": {},
   "source": [
    "$$\\hat{\\mu_{i}} + \\sqrt{\\frac{log(t)}{2N_{i}(t)}}$$"
   ]
  },
  {
   "cell_type": "markdown",
   "metadata": {},
   "source": [
    "## implement "
   ]
  },
  {
   "cell_type": "code",
   "execution_count": 46,
   "metadata": {},
   "outputs": [],
   "source": [
    "%matplotlib inline \n",
    "import sys\n",
    "import numpy as np\n",
    "import random\n",
    "import matplotlib.pyplot as plt\n",
    "import seaborn as sns"
   ]
  },
  {
   "cell_type": "markdown",
   "metadata": {},
   "source": [
    "### Bandit probelm setting: rewords folloing Bernoulli distributions "
   ]
  },
  {
   "cell_type": "code",
   "execution_count": 24,
   "metadata": {},
   "outputs": [],
   "source": [
    "class Bandit(object):\n",
    "    def __init__(self, prob):\n",
    "        \"\"\"\n",
    "        Bandit\n",
    "        :param prob: probability of 1 reward\n",
    "        :return: None\n",
    "        \"\"\"\n",
    "        self.prob = prob\n",
    "\n",
    "    def get_reward(self):\n",
    "        \"\"\"\n",
    "        calculate reward\n",
    "        :return: reward\n",
    "        \"\"\"\n",
    "        return np.random.binomial(1, self.prob)\n",
    "\n",
    "\n",
    "class BanditProblem(object):\n",
    "    def __init__(self, probs):\n",
    "        \"\"\"\n",
    "        Bandit problem class\n",
    "        :param probs: list of probability of 1 reward\n",
    "        :return: None\n",
    "        \"\"\"\n",
    "        self.number = len(probs)\n",
    "        self.bandits = [Bandit(prob) for prob in probs]"
   ]
  },
  {
   "cell_type": "markdown",
   "metadata": {},
   "source": [
    "### UCB Algorithms"
   ]
  },
  {
   "cell_type": "code",
   "execution_count": 47,
   "metadata": {},
   "outputs": [],
   "source": [
    "class UCBSolver(object):\n",
    "    \"\"\"\n",
    "    ref: http://nonbiri-tereka.hatenablog.com/entry/2016/07/04/073151\n",
    "    \"\"\"\n",
    "\n",
    "    def solve(self, bandits, times=10000):\n",
    "        \"\"\"\n",
    "        solve the bandit problem\n",
    "        :param bandits: bandits\n",
    "        :param times: times(e_greedy estimation)\n",
    "        :return: None\n",
    "        \"\"\"\n",
    "        total_rewards = 0.0\n",
    "        count = 0\n",
    "        average_score = []\n",
    "        selected_indexs = []\n",
    "        scores = [0.0 for number in range(bandits.number)]\n",
    "        counter = [0.0 for number in range(bandits.number)]\n",
    "\n",
    "        for time in range(times):\n",
    "            # select\n",
    "            selected_index = self.select_action(scores, counter)\n",
    "            # get score of selected bandits\n",
    "            score = bandits.bandits[selected_index].get_reward()\n",
    "            # update counter and scores\n",
    "            counter[selected_index] += 1\n",
    "            scores[selected_index] = (scores[selected_index] * (counter[selected_index] - 1) + score) / counter[selected_index]\n",
    "            total_rewards += score\n",
    "            selected_indexs.append(selected_index)\n",
    "\n",
    "            count += 1\n",
    "            average_score.append(total_rewards / count)\n",
    "\n",
    "        return average_score, counter, scores\n",
    "\n",
    "    def select_action(self, scores, counter):\n",
    "        return np.argmax(scores + np.sqrt(np.log(np.sum(counter)+ sys.float_info.epsilon) / 2* np.array(counter)))\n"
   ]
  },
  {
   "cell_type": "markdown",
   "metadata": {},
   "source": [
    "### problem setting & test"
   ]
  },
  {
   "cell_type": "code",
   "execution_count": 92,
   "metadata": {},
   "outputs": [
    {
     "data": {
      "text/plain": [
       "[0.01, 0.1, 0.02, 0.02, 0.05, 0.05, 0.01, 0.05, 0.01, 0.02]"
      ]
     },
     "execution_count": 92,
     "metadata": {},
     "output_type": "execute_result"
    }
   ],
   "source": [
    "probs = [0.1,  0.05,  0.05,  0.05,  0.02,  0.02,  0.02,  0.01,  0.01,  0.01]\n",
    "random.shuffle(probs)\n",
    "bandits = BanditProblem(probs)\n",
    "probs"
   ]
  },
  {
   "cell_type": "code",
   "execution_count": 94,
   "metadata": {},
   "outputs": [
    {
     "name": "stdout",
     "output_type": "stream",
     "text": [
      "94\n"
     ]
    }
   ],
   "source": [
    "# check get reword \n",
    "_sum = 0\n",
    "for i in range(1000):\n",
    "    _sum += bandits.bandits[1].get_reward()\n",
    "print(_sum)"
   ]
  },
  {
   "cell_type": "code",
   "execution_count": 95,
   "metadata": {},
   "outputs": [],
   "source": [
    "solver = UCBSolver()"
   ]
  },
  {
   "cell_type": "code",
   "execution_count": 96,
   "metadata": {},
   "outputs": [],
   "source": [
    "average_score, counter, scores = solver.solve(bandits, times=10000)"
   ]
  },
  {
   "cell_type": "code",
   "execution_count": 97,
   "metadata": {},
   "outputs": [
    {
     "data": {
      "text/plain": [
       "[<matplotlib.lines.Line2D at 0x1180a94e0>]"
      ]
     },
     "execution_count": 97,
     "metadata": {},
     "output_type": "execute_result"
    },
    {
     "data": {
      "image/png": "[encoded data removed]",
      "text/plain": [
       "<Figure size 432x288 with 1 Axes>"
      ]
     },
     "metadata": {},
     "output_type": "display_data"
    }
   ],
   "source": [
    "plt.plot(range(len(average_score)), average_score)"
   ]
  },
  {
   "cell_type": "markdown",
   "metadata": {},
   "source": [
    "### 100 independent trials"
   ]
  },
  {
   "cell_type": "code",
   "execution_count": 98,
   "metadata": {},
   "outputs": [],
   "source": [
    "list_of_average_score = []\n",
    "list_of_counter = []\n",
    "list_of_scores = []\n",
    "for i in range(100):\n",
    "    average_score, counter, scores = solver.solve(bandits, times=10000)\n",
    "    list_of_average_score.append(average_score)\n",
    "    list_of_counter.append(counter)\n",
    "    list_of_scores.append(scores)\n"
   ]
  },
  {
   "cell_type": "code",
   "execution_count": 99,
   "metadata": {},
   "outputs": [],
   "source": [
    "final_average_score = np.mean(np.array(list_of_average_score),axis=0)\n",
    "final_counter = np.mean(np.array(list_of_counter),axis=0)\n",
    "final_scores = np.mean(np.array(list_of_scores),axis=0)"
   ]
  },
  {
   "cell_type": "code",
   "execution_count": 100,
   "metadata": {},
   "outputs": [
    {
     "data": {
      "text/plain": [
       "[<matplotlib.lines.Line2D at 0x1180a1278>]"
      ]
     },
     "execution_count": 100,
     "metadata": {},
     "output_type": "execute_result"
    },
    {
     "data": {
      "image/png": "[encoded data removed]",
      "text/plain": [
       "<Figure size 432x288 with 1 Axes>"
      ]
     },
     "metadata": {},
     "output_type": "display_data"
    }
   ],
   "source": [
    "plt.plot(range(len(final_average_score)), final_average_score)"
   ]
  },
  {
   "cell_type": "code",
   "execution_count": 101,
   "metadata": {},
   "outputs": [
    {
     "data": {
      "text/plain": [
       "array([10000.,     0.,     0.,     0.,     0.,     0.,     0.,     0.,\n",
       "           0.,     0.])"
      ]
     },
     "execution_count": 101,
     "metadata": {},
     "output_type": "execute_result"
    }
   ],
   "source": [
    "final_counter"
   ]
  },
  {
   "cell_type": "code",
   "execution_count": 102,
   "metadata": {},
   "outputs": [
    {
     "data": {
      "text/plain": [
       "array([0.010036, 0.      , 0.      , 0.      , 0.      , 0.      ,\n",
       "       0.      , 0.      , 0.      , 0.      ])"
      ]
     },
     "execution_count": 102,
     "metadata": {},
     "output_type": "execute_result"
    }
   ],
   "source": [
    "final_scores"
   ]
  },
  {
   "cell_type": "code",
   "execution_count": null,
   "metadata": {},
   "outputs": [],
   "source": []
  }
 ],
 "metadata": {
  "kernelspec": {
   "display_name": "Python 3",
   "language": "python",
   "name": "python3"
  },
  "language_info": {
   "codemirror_mode": {
    "name": "ipython",
    "version": 3
   },
   "file_extension": ".py",
   "mimetype": "text/x-python",
   "name": "python",
   "nbconvert_exporter": "python",
   "pygments_lexer": "ipython3",
   "version": "3.6.5"
  }
 },
 "nbformat": 4,
 "nbformat_minor": 2
}
