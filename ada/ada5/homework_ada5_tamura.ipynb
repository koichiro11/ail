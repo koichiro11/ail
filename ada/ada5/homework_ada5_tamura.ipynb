{
 "cells": [
  {
   "cell_type": "markdown",
   "metadata": {},
   "source": [
    "# Homework ada5"
   ]
  },
  {
   "cell_type": "markdown",
   "metadata": {},
   "source": [
    "### TMI M1 37-176839 Koichiro Tamura"
   ]
  },
  {
   "cell_type": "markdown",
   "metadata": {},
   "source": [
    "### homework1"
   ]
  },
  {
   "cell_type": "markdown",
   "metadata": {},
   "source": [
    "以下の設定を元に，最小二乗分類に\n",
    "\n",
    "$$\\hat{\\theta} = \\min _{ \\theta }{ \\frac{1}{2}\\sum_{i=1}{n}{(f_{\\theta}(x_{i}) - y_{i})^2}} $$\n",
    "によって得られる識別境界の向きは，フィッシャー判別分析と同じ\n",
    "$${N}{(m_{1}- m_{2})}$$\n",
    "であることを示せ。"
   ]
  },
  {
   "cell_type": "markdown",
   "metadata": {},
   "source": [
    "### proof:"
   ]
  },
  {
   "cell_type": "markdown",
   "metadata": {},
   "source": [
    "損失関数Lは\n",
    "$$L = \\frac{1}{2}\\sum_{n=1}^{N}{(\\mathbf{w^{T}x_{n}} + w_{0} - t_{n})}$$\n",
    "とすることができる。\n",
    "\n",
    "\n",
    "損失関数Lを$w_{0}$で偏微分すると，\n",
    "$$\\sum_{n=1}^{N}{(\\mathbf{w^Tx_{n}} - w_{0} - t_{n} )} = 0$$\n",
    "よって，\n",
    "$$w_{0} = - \\mathbf{w^{T}m}$$\n",
    "$$\\mathbf{m} = \\frac{1}{N}(N_{1}\\mathbf{m_{1}} + N_{2}\\mathbf{m_{2}})$$\n",
    "\n",
    "損失関数Lを$\\mathbf{w}$で偏微分すると，\n",
    "$$\\sum_{n=1}^{N}{(\\mathbf{w^Tx_{n}} - w_{0} - t_{n} )}\\mathbf{x_{n}} = 0$$\n",
    "\n",
    "\n",
    "\\begin{eqnarray}\n",
    "\\sum_{n=1}^{N}{(\\mathbf{w^Tx_{n}} - w_{0} - t_{n} )}\\mathbf{x_{n}} = \\sum_{n=1}^{N}{(\\mathbf{w^Tx_{n}} - \\mathbf{w^Tm} - t_{n} )}\\mathbf{x_{n}}   \\\\\n",
    "= (\\sum_{n \\in C_{1}}{\\mathbf{x_{m}x_{m}^{T}} - N_{1}\\mathbf{m_{1}m^{T}}})\\mathbf{w} - N_{1}\\mathbf{m_{1}}\\frac{N}{N_{1}}   \n",
    "    + (\\sum_{n \\in C_{2}}{\\mathbf{x_{m}x_{m}^{T}} - N_{2}\\mathbf{m_{2}m^{T}}})\\mathbf{w} + N_{2}\\mathbf{m_{2}}\\frac{N}{N_{2}} \\\\\n",
    "= (S_{w} + N_{1}\\mathbf{m_{1}m_{1}^T}  + N_{2}\\mathbf{m_{2}m_{2}^T} - (N_{1}\\mathbf{m_{1}} + N_{2}\\mathbf{m_{2}} )\\frac{1}{N} (N_{1}\\mathbf{m_{1}} + N_{2}\\mathbf{m_{2}} )) \\mathbf{w}  - N(\\mathbf{m_{1}} - \\mathbf{m_{2}}) \\\\\n",
    "= (S_{w} + \\frac{N_{2}N_{1}}{N}S_{B}) \\mathbf{w} - N(\\mathbf{m_{1}} - \\mathbf{m_{2}}) = 0\n",
    "\\end{eqnarray}\n",
    "\n",
    "$S_{B}\\mathbf{w}$が常に$(\\mathbf{m_{1}} - \\mathbf{m_{2}})$と同じ方向になるので，\n",
    "\n",
    "$$w \\propto  S_{w}^{-1}(\\mathbf{m_{1}} - \\mathbf{m_{2}})$$\n",
    "\n",
    "\n",
    "\n",
    "\n"
   ]
  },
  {
   "cell_type": "markdown",
   "metadata": {},
   "source": [
    "<div style=\"text-align: right;\">\n",
    "【Q.E.D】\n",
    "</div>"
   ]
  },
  {
   "cell_type": "markdown",
   "metadata": {},
   "source": [
    "### homework2"
   ]
  },
  {
   "cell_type": "markdown",
   "metadata": {},
   "source": [
    "訓練標本:0~9まで各500文字ずつ計5000文字\n",
    "テスト標本: 各200文字ずつ計2000文字\n",
    "\n",
    "ガウスカーネルに対する最小二乗回帰により、パターン認識を行え\n",
    "\n",
    "参考url: https://openbook4.me/sections/1454"
   ]
  },
  {
   "cell_type": "markdown",
   "metadata": {},
   "source": [
    "### answer"
   ]
  },
  {
   "cell_type": "code",
   "execution_count": 1,
   "metadata": {
    "collapsed": true
   },
   "outputs": [],
   "source": [
    "%matplotlib inline\n",
    "\n",
    "import matplotlib.pyplot as plt\n",
    "import pandas as pd\n",
    "import numpy as np\n",
    "import os \n",
    "import math\n",
    "from sklearn.utils import shuffle\n",
    "from sklearn.preprocessing import OneHotEncoder"
   ]
  },
  {
   "cell_type": "code",
   "execution_count": 2,
   "metadata": {
    "collapsed": true
   },
   "outputs": [],
   "source": [
    "def draw_digit(data):\n",
    "    size = 16\n",
    "    plt.figure(figsize=(2.5, 3))\n",
    "\n",
    "    X, Y = np.meshgrid(range(size),range(size))\n",
    "    Z = data.reshape(size,size)   # convert from vector to 28x28 matrix\n",
    "    Z = Z[::-1,:]             # flip vertical\n",
    "    plt.xlim(0,16)\n",
    "    plt.ylim(0,16)\n",
    "    plt.pcolor(X, Y, Z)\n",
    "    plt.gray()\n",
    "    plt.tick_params(labelbottom=\"off\")\n",
    "    plt.tick_params(labelleft=\"off\")\n",
    "\n",
    "    plt.show()\n"
   ]
  },
  {
   "cell_type": "code",
   "execution_count": 3,
   "metadata": {},
   "outputs": [],
   "source": [
    "class GaussKernelModel(object):\n",
    "    \"\"\"ガウスカーネルモデル\"\"\"\n",
    "    def __init__(self, h=0.3, _lambda=0.1):\n",
    "        # hyperparameter \n",
    "        self.h = h\n",
    "        self._lambda = _lambda\n",
    "        self.weight = {}\n",
    "        self.train_x = None\n",
    "        self.K = None\n",
    "    \n",
    "    @staticmethod\n",
    "    def sign(y, _class):\n",
    "            if y == _class:\n",
    "                return 1\n",
    "            else:\n",
    "                return-1\n",
    "    \n",
    "    def get_kernel(self, train_x):\n",
    "        self.train_x = np.array(train_x)\n",
    "        K = np.zeros(train_x.shape[0]*train_x.shape[0]).reshape([train_x.shape[0], train_x.shape[0]])\n",
    "        for i in range(train_x.shape[0]):\n",
    "            for j in range(train_x.shape[0]):\n",
    "                K[i, j] = self.kernel(train_x[i], train_x[j])\n",
    "        self.K = K\n",
    "    \n",
    "    def get_weight(self,train_y, _class):\n",
    "        \"\"\"cal weight of model\"\"\"\n",
    "        train_y = list(map(lambda y: self.sign(y, _class), train_y))\n",
    "        train_y = np.array(train_y)\n",
    "        # trian_y = train_y.reshape([len(train_y), 1])\n",
    "        \n",
    "        # update weight\n",
    "        self.weight[_class] = np.linalg.inv(self.K.T.dot(self.K) + self._lambda*np.eye(self.K.shape[0])).dot(self.K.T).dot(train_y)\n",
    "        \n",
    "    def kernel(self, x, c):\n",
    "        \"\"\"kernel function\"\"\"\n",
    "        return math.exp(-1*np.power(x-c, 2).sum()) / (2*self.h**2)\n",
    "    \n",
    "    def predict(self, test_x):\n",
    "        \"\"\"\n",
    "        predict funcation\n",
    "        :return :predictions\n",
    "        \"\"\"\n",
    "        \n",
    "        predictions = []\n",
    "        for i in range(test_x.shape[0]):\n",
    "            _predicts = []\n",
    "            for _class in range(10):\n",
    "                predict = 0\n",
    "                for j in range(len(self.train_x)):\n",
    "                    predict += self.weight[_class][j]*self.kernel(test_x[i], self.train_x[j])\n",
    "                _predicts.append(predict)\n",
    "                # print(_class, predict)\n",
    "            # print(np.argmax(_predicts))\n",
    "            predictions.append(np.argmax(_predicts))\n",
    "        return np.array(predictions)"
   ]
  },
  {
   "cell_type": "code",
   "execution_count": 4,
   "metadata": {
    "collapsed": true
   },
   "outputs": [],
   "source": [
    "# train\n",
    "train_list = []\n",
    "for i in range(10):\n",
    "    train_list.append(pd.read_csv(\"digit/digit_train%i.csv\"% i, header =None))\n",
    "train_target = []\n",
    "for i in range(10):\n",
    "    for j in range(500):\n",
    "            train_target.append(i)\n",
    "train = pd.concat(train_list)\n",
    "train_x, train_y = shuffle(train, train_target)\n",
    "train_x = np.array(train_x.reset_index().drop(\"index\", axis = 1))  \n",
    "\n",
    "# test\n",
    "test_list = []\n",
    "for i in range(10):\n",
    "    test_list.append(pd.read_csv(\"digit/digit_test%i.csv\"% i, header =None))\n",
    "test = pd.concat(test_list)\n",
    "test_target = []\n",
    "for i in range(10):\n",
    "    for j in range(200):\n",
    "            test_target.append(i)\n",
    "test_x, test_y = shuffle(test, test_target)\n",
    "test_x = np.array(test_x.reset_index().drop(\"index\", axis = 1))"
   ]
  },
  {
   "cell_type": "code",
   "execution_count": 5,
   "metadata": {},
   "outputs": [
    {
     "data": {
      "image/png": "[encoded data removed]",
      "text/plain": [
       "<matplotlib.figure.Figure at 0x104211358>"
      ]
     },
     "metadata": {},
     "output_type": "display_data"
    }
   ],
   "source": [
    "draw_digit(test_x[0])\n",
    "#test_data.ix[1, :].shape"
   ]
  },
  {
   "cell_type": "code",
   "execution_count": 7,
   "metadata": {},
   "outputs": [],
   "source": [
    "# 学習\n",
    "model = GaussKernelModel()\n",
    "model.get_kernel(train_x[:2000])\n",
    "for _class in range(10):\n",
    "    model.get_weight(train_y[:2000], _class)"
   ]
  },
  {
   "cell_type": "code",
   "execution_count": 9,
   "metadata": {},
   "outputs": [],
   "source": [
    "prediction = model.predict(test_x[:400])"
   ]
  },
  {
   "cell_type": "code",
   "execution_count": 16,
   "metadata": {},
   "outputs": [
    {
     "data": {
      "text/html": [
       "<div>\n",
       "<table border=\"1\" class=\"dataframe\">\n",
       "  <thead>\n",
       "    <tr>\n",
       "      <th></th>\n",
       "      <th colspan=\"10\" halign=\"left\">count</th>\n",
       "    </tr>\n",
       "    <tr>\n",
       "      <th>target</th>\n",
       "      <th>0</th>\n",
       "      <th>1</th>\n",
       "      <th>2</th>\n",
       "      <th>3</th>\n",
       "      <th>4</th>\n",
       "      <th>5</th>\n",
       "      <th>6</th>\n",
       "      <th>7</th>\n",
       "      <th>8</th>\n",
       "      <th>9</th>\n",
       "    </tr>\n",
       "    <tr>\n",
       "      <th>pred</th>\n",
       "      <th></th>\n",
       "      <th></th>\n",
       "      <th></th>\n",
       "      <th></th>\n",
       "      <th></th>\n",
       "      <th></th>\n",
       "      <th></th>\n",
       "      <th></th>\n",
       "      <th></th>\n",
       "      <th></th>\n",
       "    </tr>\n",
       "  </thead>\n",
       "  <tbody>\n",
       "    <tr>\n",
       "      <th>0.0</th>\n",
       "      <td>40.0</td>\n",
       "      <td>0.0</td>\n",
       "      <td>1.0</td>\n",
       "      <td>0.0</td>\n",
       "      <td>0.0</td>\n",
       "      <td>0.0</td>\n",
       "      <td>1.0</td>\n",
       "      <td>0.0</td>\n",
       "      <td>0.0</td>\n",
       "      <td>0.0</td>\n",
       "    </tr>\n",
       "    <tr>\n",
       "      <th>1.0</th>\n",
       "      <td>0.0</td>\n",
       "      <td>33.0</td>\n",
       "      <td>0.0</td>\n",
       "      <td>0.0</td>\n",
       "      <td>0.0</td>\n",
       "      <td>0.0</td>\n",
       "      <td>0.0</td>\n",
       "      <td>0.0</td>\n",
       "      <td>0.0</td>\n",
       "      <td>0.0</td>\n",
       "    </tr>\n",
       "    <tr>\n",
       "      <th>2.0</th>\n",
       "      <td>0.0</td>\n",
       "      <td>0.0</td>\n",
       "      <td>43.0</td>\n",
       "      <td>0.0</td>\n",
       "      <td>0.0</td>\n",
       "      <td>0.0</td>\n",
       "      <td>0.0</td>\n",
       "      <td>0.0</td>\n",
       "      <td>0.0</td>\n",
       "      <td>0.0</td>\n",
       "    </tr>\n",
       "    <tr>\n",
       "      <th>3.0</th>\n",
       "      <td>0.0</td>\n",
       "      <td>0.0</td>\n",
       "      <td>0.0</td>\n",
       "      <td>34.0</td>\n",
       "      <td>0.0</td>\n",
       "      <td>2.0</td>\n",
       "      <td>0.0</td>\n",
       "      <td>0.0</td>\n",
       "      <td>1.0</td>\n",
       "      <td>0.0</td>\n",
       "    </tr>\n",
       "    <tr>\n",
       "      <th>4.0</th>\n",
       "      <td>0.0</td>\n",
       "      <td>0.0</td>\n",
       "      <td>0.0</td>\n",
       "      <td>0.0</td>\n",
       "      <td>35.0</td>\n",
       "      <td>0.0</td>\n",
       "      <td>0.0</td>\n",
       "      <td>1.0</td>\n",
       "      <td>0.0</td>\n",
       "      <td>1.0</td>\n",
       "    </tr>\n",
       "    <tr>\n",
       "      <th>5.0</th>\n",
       "      <td>0.0</td>\n",
       "      <td>0.0</td>\n",
       "      <td>0.0</td>\n",
       "      <td>0.0</td>\n",
       "      <td>0.0</td>\n",
       "      <td>43.0</td>\n",
       "      <td>0.0</td>\n",
       "      <td>0.0</td>\n",
       "      <td>1.0</td>\n",
       "      <td>0.0</td>\n",
       "    </tr>\n",
       "    <tr>\n",
       "      <th>6.0</th>\n",
       "      <td>0.0</td>\n",
       "      <td>0.0</td>\n",
       "      <td>0.0</td>\n",
       "      <td>0.0</td>\n",
       "      <td>1.0</td>\n",
       "      <td>1.0</td>\n",
       "      <td>35.0</td>\n",
       "      <td>0.0</td>\n",
       "      <td>0.0</td>\n",
       "      <td>0.0</td>\n",
       "    </tr>\n",
       "    <tr>\n",
       "      <th>7.0</th>\n",
       "      <td>0.0</td>\n",
       "      <td>0.0</td>\n",
       "      <td>0.0</td>\n",
       "      <td>0.0</td>\n",
       "      <td>0.0</td>\n",
       "      <td>0.0</td>\n",
       "      <td>0.0</td>\n",
       "      <td>41.0</td>\n",
       "      <td>0.0</td>\n",
       "      <td>0.0</td>\n",
       "    </tr>\n",
       "    <tr>\n",
       "      <th>8.0</th>\n",
       "      <td>0.0</td>\n",
       "      <td>0.0</td>\n",
       "      <td>1.0</td>\n",
       "      <td>1.0</td>\n",
       "      <td>0.0</td>\n",
       "      <td>0.0</td>\n",
       "      <td>0.0</td>\n",
       "      <td>0.0</td>\n",
       "      <td>36.0</td>\n",
       "      <td>0.0</td>\n",
       "    </tr>\n",
       "    <tr>\n",
       "      <th>9.0</th>\n",
       "      <td>0.0</td>\n",
       "      <td>0.0</td>\n",
       "      <td>0.0</td>\n",
       "      <td>1.0</td>\n",
       "      <td>4.0</td>\n",
       "      <td>0.0</td>\n",
       "      <td>0.0</td>\n",
       "      <td>2.0</td>\n",
       "      <td>1.0</td>\n",
       "      <td>40.0</td>\n",
       "    </tr>\n",
       "  </tbody>\n",
       "</table>\n",
       "</div>"
      ],
      "text/plain": [
       "       count                                                      \n",
       "target     0     1     2     3     4     5     6     7     8     9\n",
       "pred                                                              \n",
       "0.0     40.0   0.0   1.0   0.0   0.0   0.0   1.0   0.0   0.0   0.0\n",
       "1.0      0.0  33.0   0.0   0.0   0.0   0.0   0.0   0.0   0.0   0.0\n",
       "2.0      0.0   0.0  43.0   0.0   0.0   0.0   0.0   0.0   0.0   0.0\n",
       "3.0      0.0   0.0   0.0  34.0   0.0   2.0   0.0   0.0   1.0   0.0\n",
       "4.0      0.0   0.0   0.0   0.0  35.0   0.0   0.0   1.0   0.0   1.0\n",
       "5.0      0.0   0.0   0.0   0.0   0.0  43.0   0.0   0.0   1.0   0.0\n",
       "6.0      0.0   0.0   0.0   0.0   1.0   1.0  35.0   0.0   0.0   0.0\n",
       "7.0      0.0   0.0   0.0   0.0   0.0   0.0   0.0  41.0   0.0   0.0\n",
       "8.0      0.0   0.0   1.0   1.0   0.0   0.0   0.0   0.0  36.0   0.0\n",
       "9.0      0.0   0.0   0.0   1.0   4.0   0.0   0.0   2.0   1.0  40.0"
      ]
     },
     "execution_count": 16,
     "metadata": {},
     "output_type": "execute_result"
    }
   ],
   "source": [
    "df_predict = pd.DataFrame(prediction)\n",
    "pred_and_target = pd.concat([pd.DataFrame(df_predict), pd.DataFrame(test_y)], axis = 1)\n",
    "pred_and_target.columns = [\"pred\", \"target\"]\n",
    "pred_and_target = pd.DataFrame(pred_and_target.groupby([\"pred\", \"target\"]).size()).reset_index()\n",
    "pred_and_target = pred_and_target.rename(columns={0: 'count'})   \n",
    "pred_and_target.pivot(index=\"pred\", columns=\"target\").fillna(0)"
   ]
  },
  {
   "cell_type": "markdown",
   "metadata": {},
   "source": [
    "### **計算時間の関係から訓練及びテストサンプルを減らした"
   ]
  },
  {
   "cell_type": "code",
   "execution_count": null,
   "metadata": {
    "collapsed": true
   },
   "outputs": [],
   "source": []
  }
 ],
 "metadata": {
  "kernelspec": {
   "display_name": "Python 3",
   "language": "python",
   "name": "python3"
  },
  "language_info": {
   "codemirror_mode": {
    "name": "ipython",
    "version": 3
   },
   "file_extension": ".py",
   "mimetype": "text/x-python",
   "name": "python",
   "nbconvert_exporter": "python",
   "pygments_lexer": "ipython3",
   "version": "3.5.2"
  }
 },
 "nbformat": 4,
 "nbformat_minor": 1
}
