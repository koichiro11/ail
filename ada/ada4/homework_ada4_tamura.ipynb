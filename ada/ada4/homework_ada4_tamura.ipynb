{
 "cells": [
  {
   "cell_type": "markdown",
   "metadata": {},
   "source": [
    "# Homework ada4"
   ]
  },
  {
   "cell_type": "markdown",
   "metadata": {},
   "source": [
    "### TMI M1 37-176839 Koichiro Tamura"
   ]
  },
  {
   "cell_type": "markdown",
   "metadata": {},
   "source": [
    "### homework1"
   ]
  },
  {
   "cell_type": "markdown",
   "metadata": {},
   "source": [
    "線形モデル\n",
    "$$f_{\\theta}(\\mathbf{x}) =\\sum_{j=1}^{b}{\\theta_{j}\\phi_{j}(\\mathbf{x})} $$\n",
    "に対する重み付き最小二乗法\n",
    "$$\\min _{\\theta}{\\frac{1}{2}\\sum_{i=1}^{n}{\\tilde {w_{i}}} (f_{\\theta}(\\mathbf{x_{i}})  - y_{i})^2} $$\n",
    "の解が次式で与えられることを示せ.\n",
    "$$\\mathbf{\\hat{\\theta}} = (\\mathbf{\\Phi}^{T} \\mathbf{\\tilde{W}} \\mathbf{\\Phi})^{-1} \\mathbf{\\Phi}^{T}\\mathbf{\\tilde{W}}\\mathbf{y}$$\n"
   ]
  },
  {
   "cell_type": "markdown",
   "metadata": {
    "collapsed": true
   },
   "source": [
    "#### proof:"
   ]
  },
  {
   "cell_type": "markdown",
   "metadata": {},
   "source": [
    "\\begin{eqnarray} L & = & {\\frac{1}{2}\\sum_{i=1}^{n}{\\tilde {w_{i}}} (f_{\\theta}(\\mathbf{x_{i}})  - y_{i})^2} \\\\  \n",
    "                        & = &  \\frac{1}{2} \\mathbf{\\tilde{W}} (\\mathbf{\\Phi} \\mathbf{\\theta} - \\mathbf{y})^{T} (\\mathbf{\\Phi} \\mathbf{\\theta} - \\mathbf{y})\\end{eqnarray}\n",
    "                        \n",
    "$$\\therefore  \\space \\nabla _{\\mathbf{\\theta}} L = \\mathbf{\\Phi}^{T} \\mathbf{\\tilde{W}} \\mathbf{\\Phi} \\mathbf{\\theta} - \\mathbf{\\Phi}^{T}\\mathbf{\\tilde{W}}\\mathbf{y} = 0$$\n",
    "\n",
    "$$\\therefore \\space \\mathbf{\\hat{\\theta}} = (\\mathbf{\\Phi}^{T} \\mathbf{\\tilde{W}} \\mathbf{\\Phi})^{-1} \\mathbf{\\Phi}^{T}\\mathbf{\\tilde{W}}\\mathbf{y}$$"
   ]
  },
  {
   "cell_type": "markdown",
   "metadata": {},
   "source": [
    "<div style=\"text-align: right;\">\n",
    "【Q.E.D】\n",
    "</div>"
   ]
  },
  {
   "cell_type": "markdown",
   "metadata": {},
   "source": [
    "### homework2"
   ]
  },
  {
   "cell_type": "markdown",
   "metadata": {},
   "source": [
    "微分可能で対象な損失$\\rho(r)$に対して$\\tilde{r}$で接する二次上界は存在するなら次式で与えられることを示せ．"
   ]
  },
  {
   "cell_type": "markdown",
   "metadata": {},
   "source": [
    "$$\\tilde{\\rho} = \\frac{\\tilde{w}}{2} r^{2} + const$$\n",
    "\n",
    "$$\\tilde{w} =  \\frac{\\acute {\\rho (\\tilde{r})}}{\\tilde{r}} $$"
   ]
  },
  {
   "cell_type": "markdown",
   "metadata": {},
   "source": [
    "#### proof:"
   ]
  },
  {
   "cell_type": "markdown",
   "metadata": {},
   "source": [
    "対象な2次上限は\n",
    "$$\\tilde{\\rho}(r) = ar^2 + b$$\n",
    "と与えられる．\n",
    "\n",
    "このとき，$\\tilde{r}$で接するので，\n",
    " $$\\acute {\\rho (\\tilde{r})} = \\acute {f (\\tilde{r})}$$\n",
    " \n",
    " $$\\therefore \\space \\acute {\\rho (\\tilde{r})} = 2a\\tilde{r}$$\n",
    " \n",
    " $$\\therefore \\space a = \\frac{\\acute {\\rho (\\tilde{r})}}{2 \\tilde{r}}$$\n",
    " \n",
    "  \n",
    " $$\\therefore \\space \\tilde{\\rho}(r) = \\frac{\\tilde{w}}{2} r^{2} + const$$\n",
    " $$\\tilde{w} =  \\frac{\\acute {\\rho (\\tilde{r})}}{\\tilde{r}} $$"
   ]
  },
  {
   "cell_type": "markdown",
   "metadata": {},
   "source": [
    "<div style=\"text-align: right;\">\n",
    "【Q.E.D】\n",
    "</div>"
   ]
  },
  {
   "cell_type": "markdown",
   "metadata": {},
   "source": [
    "### homework3"
   ]
  },
  {
   "cell_type": "markdown",
   "metadata": {},
   "source": [
    "直線モデル$f_{\\theta}(x) = \\theta_{1} + \\theta_{2}x$に対して，テューキー回帰の繰り返し最小二乗アルゴリズムを実装せよ"
   ]
  },
  {
   "cell_type": "code",
   "execution_count": 5,
   "metadata": {
    "collapsed": true
   },
   "outputs": [],
   "source": [
    "%matplotlib inline\n",
    "\n",
    "import numpy as np\n",
    "import math\n",
    "import random\n",
    "import matplotlib.pyplot as plt"
   ]
  },
  {
   "cell_type": "code",
   "execution_count": 7,
   "metadata": {
    "collapsed": true
   },
   "outputs": [],
   "source": [
    "def func(x):\n",
    "    return x"
   ]
  },
  {
   "cell_type": "code",
   "execution_count": 16,
   "metadata": {},
   "outputs": [],
   "source": [
    "# データセット\n",
    "train_x = np.linspace(-3, 3, 10)\n",
    "# np.random.shuffle(train_x)\n",
    "train_y = np.array([func(train_x[i]) for i in range(len(train_x))] + (np.random.rand(len(train_x)) - 0.5)*0.2)\n",
    "train_y[5] = -4\n",
    "train_y[8] = -4\n",
    "train_y[9]  = -4"
   ]
  },
  {
   "cell_type": "code",
   "execution_count": 17,
   "metadata": {},
   "outputs": [
    {
     "data": {
      "text/plain": [
       "[<matplotlib.lines.Line2D at 0x10a773828>]"
      ]
     },
     "execution_count": 17,
     "metadata": {},
     "output_type": "execute_result"
    },
    {
     "data": {
      "image/png": "[encoded data removed]",
      "text/plain": [
       "<matplotlib.figure.Figure at 0x10a5de550>"
      ]
     },
     "metadata": {},
     "output_type": "display_data"
    }
   ],
   "source": [
    "plt.plot(train_y)"
   ]
  },
  {
   "cell_type": "code",
   "execution_count": 61,
   "metadata": {},
   "outputs": [],
   "source": [
    "# cal phi\n",
    "Phi =  np.ones(2*len(train_x)).reshape([len(train_x), 2])\n",
    "\n",
    "for i in range(len(train_x)):\n",
    "        Phi[i, 1] = train_x[i]\n",
    "# Phi"
   ]
  },
  {
   "cell_type": "code",
   "execution_count": 62,
   "metadata": {},
   "outputs": [],
   "source": [
    "# initialize W\n",
    "W = np.zeros([len(train_x), len(train_x)])\n",
    "for i in range(len(train_x)):\n",
    "    W[i, i] = 1/6\n",
    "# W"
   ]
  },
  {
   "cell_type": "code",
   "execution_count": 63,
   "metadata": {
    "collapsed": true
   },
   "outputs": [],
   "source": [
    "def get_theta(Phi, W, train_y):\n",
    "    return np.linalg.inv(Phi.T.dot(W).dot(Phi)).dot(Phi.T).dot(W).dot(train_y)"
   ]
  },
  {
   "cell_type": "code",
   "execution_count": 64,
   "metadata": {},
   "outputs": [],
   "source": [
    "theta = get_theta(Phi, W, train_y)"
   ]
  },
  {
   "cell_type": "code",
   "execution_count": 65,
   "metadata": {},
   "outputs": [
    {
     "data": {
      "text/plain": [
       "array([-1.78936136, -0.00640233])"
      ]
     },
     "execution_count": 65,
     "metadata": {},
     "output_type": "execute_result"
    }
   ],
   "source": [
    "theta"
   ]
  },
  {
   "cell_type": "code",
   "execution_count": 66,
   "metadata": {
    "collapsed": true
   },
   "outputs": [],
   "source": [
    "def predict(train_x, theta):\n",
    "    return 1* theta[0] + train_x*theta[1]"
   ]
  },
  {
   "cell_type": "code",
   "execution_count": 67,
   "metadata": {
    "collapsed": true
   },
   "outputs": [],
   "source": [
    "def update_W(W, theta, train_x, train_y, eta=1):\n",
    "    r = predict(train_x, theta) - train_y\n",
    "    for i in range(len(r)):\n",
    "        if np.abs(r[i]) > eta:\n",
    "            W[i][i] = 0\n",
    "        else:\n",
    "            W[i][i] = ((1-r[i]**2)/eta**2)**2\n",
    "    return W\n",
    "    "
   ]
  },
  {
   "cell_type": "code",
   "execution_count": 68,
   "metadata": {
    "scrolled": true
   },
   "outputs": [],
   "source": [
    "for step in range(100):\n",
    "    W = update_W(W, theta, train_x, train_y)\n",
    "    # print(W.shape)\n",
    "    theta = get_theta(Phi, W, train_y)"
   ]
  },
  {
   "cell_type": "code",
   "execution_count": 69,
   "metadata": {},
   "outputs": [
    {
     "data": {
      "text/plain": [
       "[<matplotlib.lines.Line2D at 0x10d3729b0>]"
      ]
     },
     "execution_count": 69,
     "metadata": {},
     "output_type": "execute_result"
    },
    {
     "data": {
      "image/png": "[encoded data removed]",
      "text/plain": [
       "<matplotlib.figure.Figure at 0x10d3336d8>"
      ]
     },
     "metadata": {},
     "output_type": "display_data"
    }
   ],
   "source": [
    "predictions = predict(train_x, theta)\n",
    "plt.plot(predictions)"
   ]
  },
  {
   "cell_type": "code",
   "execution_count": null,
   "metadata": {
    "collapsed": true
   },
   "outputs": [],
   "source": []
  }
 ],
 "metadata": {
  "kernelspec": {
   "display_name": "Python 3",
   "language": "python",
   "name": "python3"
  },
  "language_info": {
   "codemirror_mode": {
    "name": "ipython",
    "version": 3
   },
   "file_extension": ".py",
   "mimetype": "text/x-python",
   "name": "python",
   "nbconvert_exporter": "python",
   "pygments_lexer": "ipython3",
   "version": "3.5.2"
  }
 },
 "nbformat": 4,
 "nbformat_minor": 1
}
