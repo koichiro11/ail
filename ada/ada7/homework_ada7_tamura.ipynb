{
 "cells": [
  {
   "cell_type": "markdown",
   "metadata": {},
   "source": [
    "# Homework ada7"
   ]
  },
  {
   "cell_type": "markdown",
   "metadata": {},
   "source": [
    "### TMI M1 37-176839 Koichiro Tamura"
   ]
  },
  {
   "cell_type": "markdown",
   "metadata": {},
   "source": [
    "### homework1"
   ]
  },
  {
   "cell_type": "markdown",
   "metadata": {},
   "source": [
    "ガウスカーネルモデル\n",
    "$$q(y | \\mathbf{x}; \\mathbf{\\theta}^{(y)}) = \\sum_{j: y_{j} = y}{\\theta_{j}^{(y)} exp(-\\frac{\\left\\| \\mathbf{x} - \\mathbf{x_{j}} \\right\\| ^{2}}{2h^{2}})}$$\n",
    "\n",
    "に対して最小二乗確率的分類を実装せよ"
   ]
  },
  {
   "cell_type": "markdown",
   "metadata": {},
   "source": [
    "### answer "
   ]
  },
  {
   "cell_type": "code",
   "execution_count": 36,
   "metadata": {
    "collapsed": true
   },
   "outputs": [],
   "source": [
    "%matplotlib inline\n",
    "\n",
    "import numpy as np\n",
    "import pandas as pd\n",
    "import math\n",
    "import random\n",
    "import matplotlib.pyplot as plt\n",
    "from sklearn.utils import shuffle\n",
    "from sklearn.metrics import *\n",
    "from sklearn.preprocessing import OneHotEncoder"
   ]
  },
  {
   "cell_type": "code",
   "execution_count": 33,
   "metadata": {
    "collapsed": true
   },
   "outputs": [],
   "source": [
    "class GaussKernelModel(object):\n",
    "    \"\"\"GaussKernelModel of probability \"\"\"\n",
    "    def __init__(self, h=0.3, _lambda=0.1):\n",
    "        # hyperparameter \n",
    "        self.h = h\n",
    "        self._lambda = _lambda\n",
    "        self.theta = None\n",
    "        self.z = None\n",
    "        self.u = None\n",
    "        self.train_x = None\n",
    "        self.sigma = 0.1\n",
    "    \n",
    "    def one_to_hot(self, y):\n",
    "        self.classes = np.unique(y)\n",
    "        Y = np.zeros([y.shape[0], len(self.classes)])\n",
    "        for i, column in enumerate(self.classes):\n",
    "            Y[np.where(y==column), i] = 1\n",
    "        return Y\n",
    "    \n",
    "    def kernel(self, x, c):\n",
    "        \"\"\"kernel function\"\"\"\n",
    "        return math.exp(-1*np.power(x-c, 2).sum()) / (2*self.h**2)\n",
    "    \n",
    "    def get_theta(self, train_y):\n",
    "        \"\"\"\n",
    "        get specific theta\n",
    "        :params train_y : the vector which describes whether the class is y or not (1 or 0).\n",
    "        \"\"\"\n",
    "        return np.linalg.inv(self.K.T.dot(self.K) + self._lambda*np.eye(self.K.shape[0])).dot(self.K.T).dot(train_y)\n",
    "    \n",
    "    def fit(self, train_x, train_y):\n",
    "        \"\"\"cal each theta for one class\"\"\"\n",
    "        self.train_x = np.array(train_x)\n",
    "        train_y = np.array(train_y)\n",
    "        train_y = train_y.reshape([len(train_y), 1])\n",
    "        train_y = self.one_to_hot(train_y)\n",
    "        \n",
    "        # cal K\n",
    "        self.K =  np.zeros(len(train_x)*len(train_x)).reshape([len(train_x), len(train_x)])\n",
    "\n",
    "        for i in range(len(train_x)):\n",
    "            for j in range(len(train_x)):\n",
    "                self.K[i, j] = self.kernel(train_x[i], train_x[j])\n",
    "                \n",
    "        # cal theta for each class (theta is a matrix)\n",
    "        \n",
    "        theta_list = []\n",
    "        for _class in range(train_y.shape[1]):\n",
    "            theta = self.get_theta(train_y[:, _class])\n",
    "            theta = theta.reshape((-1, 1))\n",
    "            theta_list.append(theta)\n",
    "        self.theta = np.concatenate(theta_list, axis=1)\n",
    "    \n",
    "    def predict(self, test_x):\n",
    "        \"\"\"\n",
    "        predict funcation\n",
    "        :return :predictions\n",
    "        \"\"\"\n",
    "        # 基底をガウスカーネル基底に\n",
    "        kernel_test_x = np.zeros([test_x.shape[0], self.train_x.shape[0]])\n",
    "        for i in range(test_x.shape[0]):\n",
    "            for j in range(self.train_x.shape[0]):\n",
    "                kernel_test_x[i, j] = self.kernel(test_x[i], self.train_x[j])\n",
    "\n",
    "        \n",
    "        probabilities = np.matmul(kernel_test_x, self.theta)\n",
    "        \n",
    "        return np.argmax(probabilities, axis=1)\n",
    "        "
   ]
  },
  {
   "cell_type": "markdown",
   "metadata": {},
   "source": [
    "#### 数字の画像データで検証"
   ]
  },
  {
   "cell_type": "code",
   "execution_count": 8,
   "metadata": {},
   "outputs": [],
   "source": [
    "# train\n",
    "train_list = []\n",
    "for i in range(10):\n",
    "    train_list.append(pd.read_csv(\"digit/digit_train%i.csv\"% i, header =None))\n",
    "train_target = []\n",
    "for i in range(10):\n",
    "    for j in range(500):\n",
    "            train_target.append(i)\n",
    "train = pd.concat(train_list)\n",
    "train_x, train_y = shuffle(train, train_target)\n",
    "train_x = np.array(train_x.reset_index().drop(\"index\", axis = 1))  \n",
    "\n",
    "# test\n",
    "test_list = []\n",
    "for i in range(10):\n",
    "    test_list.append(pd.read_csv(\"digit/digit_test%i.csv\"% i, header =None))\n",
    "test = pd.concat(test_list)\n",
    "test_target = []\n",
    "for i in range(10):\n",
    "    for j in range(200):\n",
    "            test_target.append(i)\n",
    "test_x, test_y = shuffle(test, test_target)\n",
    "test_x = np.array(test_x.reset_index().drop(\"index\", axis = 1))"
   ]
  },
  {
   "cell_type": "code",
   "execution_count": 34,
   "metadata": {},
   "outputs": [],
   "source": [
    "model = GaussKernelModel()\n",
    "model.fit(train_x[:1000], train_y[:1000])\n",
    "predict = model.predict(test_x[:500])"
   ]
  },
  {
   "cell_type": "code",
   "execution_count": 40,
   "metadata": {},
   "outputs": [
    {
     "data": {
      "text/plain": [
       "0.93310818304631193"
      ]
     },
     "execution_count": 40,
     "metadata": {},
     "output_type": "execute_result"
    }
   ],
   "source": [
    "f1_score(test_y[:500], predict[:500], average=\"macro\")"
   ]
  },
  {
   "cell_type": "markdown",
   "metadata": {},
   "source": [
    "実験的に行なったがf-scoreが0.93と学習及び予測ができていることがわかる"
   ]
  },
  {
   "cell_type": "markdown",
   "metadata": {},
   "source": [
    "### homework2"
   ]
  },
  {
   "cell_type": "markdown",
   "metadata": {},
   "source": [
    "$$B_{\\tau}(y) = \\sum^{c}_{y^{(\\tau + 1)} = 1,,,y^{(m_{i})} = 1}{exp(\\sum_{k=\\tau+2}^{m_{i}}{\\mathbf{\\zeta }^T \\mathbf{\\varphi }(\\mathbf{x_{i}}^{k}, y^{k}, y^{k-1}  )} + \\mathbf{\\zeta }^T \\mathbf{\\varphi }(\\mathbf{x_{i}}^{\\tau+1}, y^{\\tau+1}, y  ))}$$\n",
    "\n",
    "は以下のように再帰表現できることを示せ"
   ]
  },
  {
   "cell_type": "markdown",
   "metadata": {},
   "source": [
    "$$B_{\\tau}(y^{\\tau}) = \\sum^{c}_{y^{(\\tau + 1)} = 1}{B_{\\tau+1}(y^{\\tau+1}) exp(\\mathbf{\\zeta }^T \\mathbf{\\varphi }(\\mathbf{x_{i}}^{\\tau+1}, y^{\\tau+1}, y^{\\tau}  ))}$$"
   ]
  },
  {
   "cell_type": "markdown",
   "metadata": {},
   "source": [
    "### answer"
   ]
  },
  {
   "cell_type": "markdown",
   "metadata": {},
   "source": [
    "##### proof):"
   ]
  },
  {
   "cell_type": "markdown",
   "metadata": {},
   "source": [
    "\\begin{eqnarray}B_{\\tau}(y^{\\tau}) & = & \\sum^{c}_{y^{(\\tau + 1)} = 1}{B_{\\tau+1}(y^{\\tau+1}) exp(\\mathbf{\\zeta }^T \\mathbf{\\varphi }(\\mathbf{x_{i}}^{\\tau+1}, y^{\\tau+1}, y^{\\tau}  ))}  \\\\ \n",
    "& = & \\sum^{c}_{y^{(\\tau + 1)} = 1}{\\sum^{c}_{y^{(\\tau + 2)} = 1}{B_{\\tau+2}(y^{\\tau+2}) exp(\\mathbf{\\zeta }^T \\mathbf{\\varphi }(\\mathbf{x_{i}}^{\\tau+2}, y^{\\tau+2}, y^{\\tau+1}  ))} exp(\\mathbf{\\zeta }^T \\mathbf{\\varphi }(\\mathbf{x_{i}}^{\\tau+1}, y^{\\tau+1}, y^{\\tau}  ))}\n",
    "\\end{eqnarray}"
   ]
  },
  {
   "cell_type": "markdown",
   "metadata": {},
   "source": [
    "ここで， 一般に$e^{a} e^{b} = e^{a+b}$なので"
   ]
  },
  {
   "cell_type": "markdown",
   "metadata": {},
   "source": [
    "\\begin{eqnarray}\n",
    "B_{\\tau}(y^{\\tau}) &=& \\sum^{c}_{y^{(\\tau + 1)} = 1}{\\sum^{c}_{y^{(\\tau + 2)} = 1}{B_{\\tau+2}(y^{\\tau+2}) exp(\\mathbf{\\zeta }^T \\mathbf{\\varphi }(\\mathbf{x_{i}}^{\\tau+2}, y^{\\tau+2}, y^{\\tau+1}  )} + \\mathbf{\\zeta }^T \\mathbf{\\varphi }(\\mathbf{x_{i}}^{\\tau+1}, y^{\\tau+1}, y^{\\tau}  ))} \\\\\n",
    "&=& \\sum^{c}_{y^{(\\tau + 1) }= 1, y^{(\\tau + 2)} = 1}{{B_{\\tau+2}(y^{\\tau+2}) exp(\\mathbf{\\zeta }^T \\mathbf{\\varphi }(\\mathbf{x_{i}}^{\\tau+2}, y^{\\tau+2}, y^{\\tau+1}  )} + \\mathbf{\\zeta }^T \\mathbf{\\varphi }(\\mathbf{x_{i}}^{\\tau+1}, y^{\\tau+1}, y^{\\tau}  ))}\n",
    "\\end{eqnarray}"
   ]
  },
  {
   "cell_type": "markdown",
   "metadata": {},
   "source": [
    "以上の操作を繰り返すと，"
   ]
  },
  {
   "cell_type": "markdown",
   "metadata": {},
   "source": [
    "$$B_{m_{i}}(y^{m_{i}})  = \\sum^{c}_{y^{(\\tau + 1)} = 1}{exp(\\mathbf{\\zeta }^T \\mathbf{\\varphi }(\\mathbf{x_{i}}^{m_{i}}, y^{m_{i}}, y^{m_{i}-1}  ))}$$\n",
    "\n",
    "であるから，"
   ]
  },
  {
   "cell_type": "markdown",
   "metadata": {},
   "source": [
    "$$B_{\\tau}(y) = \\sum^{c}_{y^{(\\tau + 1)} = 1,,,y^{(m_{i})} = 1}{exp(\\sum_{k=\\tau+2}^{m_{i}}{\\mathbf{\\zeta }^T \\mathbf{\\varphi }(\\mathbf{x_{i}}^{k}, y^{k}, y^{k-1}  )} + \\mathbf{\\zeta }^T \\mathbf{\\varphi }(\\mathbf{x_{i}}^{\\tau+1}, y^{\\tau+1}, y  ))}$$"
   ]
  },
  {
   "cell_type": "markdown",
   "metadata": {},
   "source": [
    "よって， 題意は満たされた。"
   ]
  },
  {
   "cell_type": "markdown",
   "metadata": {},
   "source": [
    "<div style=\"text-align: right;\">\n",
    "【Q.E.D】\n",
    "</div>"
   ]
  },
  {
   "cell_type": "markdown",
   "metadata": {},
   "source": [
    "### homework3"
   ]
  },
  {
   "cell_type": "markdown",
   "metadata": {},
   "source": [
    "$$P_{\\tau}(y) = \\max _{ y^{1},,,y^{\\tau-1} \\in {(1,2,,,c)} }{\\left[ {\\sum_{k=1}^{\\tau-1}{\\mathbf{\\zeta }^T \\mathbf{\\varphi }(\\mathbf{x_{i}}^{k}, y^{k}, y^{k-1}  )} + \\mathbf{\\zeta }^T \\mathbf{\\varphi }(\\mathbf{x_{i}}^{\\tau}, y, y^{\\tau -1}  )} \\right]} $$\n",
    "\n",
    "は以下のように再帰表現できることを示せ"
   ]
  },
  {
   "cell_type": "markdown",
   "metadata": {},
   "source": [
    "$$P_{\\tau}(y^{\\tau}) = \\max _{ y^{\\tau-1} \\in (1,2,,,c)}{ \\left[  P_{\\tau}(y^{\\tau-1}) + \\mathbf{\\zeta }^T \\mathbf{\\varphi }(\\mathbf{x_{i}}^{\\tau}, y^{\\tau}, y^{\\tau -1}  ) \\right] } $$"
   ]
  },
  {
   "cell_type": "markdown",
   "metadata": {},
   "source": [
    "### answer"
   ]
  },
  {
   "cell_type": "markdown",
   "metadata": {},
   "source": [
    "##### proof):"
   ]
  },
  {
   "cell_type": "markdown",
   "metadata": {},
   "source": [
    "\\begin{eqnarray}\n",
    "P_{\\tau}(y^{\\tau}) &=&\n",
    "\\max _{ y^{\\tau-1} \\in (1,2,,,c)}{ \\left[  P_{\\tau}(y^{\\tau-1}) + \\mathbf{\\zeta }^T \\mathbf{\\varphi }(\\mathbf{x_{i}}^{\\tau}, y^{\\tau}, y^{\\tau -1}  ) \\right] } \\\\\n",
    "&=&\n",
    "\\max _{ y^{\\tau-1} \\in (1,2,,,c)}{ \\left[  \\max _{ y^{\\tau-2} \\in (1,2,,,c)}{ \\left[  P_{\\tau-1}(y^{\\tau-2}) + \\mathbf{\\zeta }^T \\mathbf{\\varphi }(\\mathbf{x_{i}}^{\\tau-1}, y^{\\tau-1}, y^{\\tau -2}  ) \\right] }  + \\mathbf{\\zeta }^T \\mathbf{\\varphi }(\\mathbf{x_{i}}^{\\tau}, y^{\\tau}, y^{\\tau -1}  ) \\right] } \n",
    "\\end{eqnarray}"
   ]
  },
  {
   "cell_type": "markdown",
   "metadata": {},
   "source": [
    "ここで，\n",
    "$$\\max _{ y^{\\tau-2} \\in (1,2,,,c)}{ \\left[  P_{\\tau-1}(y^{\\tau-2}) + \\mathbf{\\zeta }^T \\mathbf{\\varphi }(\\mathbf{x_{i}}^{\\tau-1}, y^{\\tau-1}, y^{\\tau -2}  ) \\right] }$$"
   ]
  },
  {
   "cell_type": "markdown",
   "metadata": {},
   "source": [
    "の値は， \n",
    "$\\mathbf{\\zeta }^T \\mathbf{\\varphi }(\\mathbf{x_{i}}^{\\tau}, y^{\\tau}, y^{\\tau -1}  ) $\n",
    "によらないので，"
   ]
  },
  {
   "cell_type": "markdown",
   "metadata": {},
   "source": [
    "$$\\max _{ y^{\\tau-2} \\in (1,2,,,c)}{ \\left[  P_{\\tau-1}(y^{\\tau-2}) + \\mathbf{\\zeta }^T \\mathbf{\\varphi }(\\mathbf{x_{i}}^{\\tau-1}, y^{\\tau-1}, y^{\\tau -2}  ) \\right] }  =  \\max _{ y^{\\tau-2} \\in (1,2,,,c)}{ \\left[  P_{\\tau-1}(y^{\\tau-2}) + \\mathbf{\\zeta }^T \\mathbf{\\varphi }(\\mathbf{x_{i}}^{\\tau-1}, y^{\\tau-1}, y^{\\tau -2}  )  + \\mathbf{\\zeta }^T \\mathbf{\\varphi }(\\mathbf{x_{i}}^{\\tau}, y^{\\tau}, y^{\\tau -1}  )\\right] }$$"
   ]
  },
  {
   "cell_type": "markdown",
   "metadata": {},
   "source": [
    "よって，\n",
    "\\begin{eqnarray}\n",
    "P_{\\tau}(y^{\\tau}) &=&\n",
    "\\max _{ y^{\\tau-1} \\in (1,2,,,c)}{ \\left[  P_{\\tau}(y^{\\tau-1}) + \\mathbf{\\zeta }^T \\mathbf{\\varphi }(\\mathbf{x_{i}}^{\\tau}, y^{\\tau}, y^{\\tau -1}  ) \\right] } \\\\\n",
    "&=&\n",
    "\\max _{ y^{\\tau-2}, y^{\\tau-1} \\in (1,2,,,c)}{ \\left[ P_{\\tau-1}(y^{\\tau-2}) + \\mathbf{\\zeta }^T \\mathbf{\\varphi }(\\mathbf{x_{i}}^{\\tau-1}, y^{\\tau-1}, y^{\\tau -2}  )   + \\mathbf{\\zeta }^T \\mathbf{\\varphi }(\\mathbf{x_{i}}^{\\tau}, y^{\\tau}, y^{\\tau -1}  ) \\right] } \n",
    "\\end{eqnarray}"
   ]
  },
  {
   "cell_type": "markdown",
   "metadata": {},
   "source": [
    "以上の操作を繰り返すと， homework2と同じように，"
   ]
  },
  {
   "cell_type": "markdown",
   "metadata": {},
   "source": [
    "$$P_{\\tau}(y) = \\max _{ y^{1},,,y^{\\tau-1} \\in {(1,2,,,c)} }{\\left[ {\\sum_{k=1}^{\\tau-1}{\\mathbf{\\zeta }^T \\mathbf{\\varphi }(\\mathbf{x_{i}}^{k}, y^{k}, y^{k-1}  )} + \\mathbf{\\zeta }^T \\mathbf{\\varphi }(\\mathbf{x_{i}}^{\\tau}, y, y^{\\tau -1}  )} \\right]} $$"
   ]
  },
  {
   "cell_type": "markdown",
   "metadata": {},
   "source": [
    "よって，題意は示された。"
   ]
  },
  {
   "cell_type": "markdown",
   "metadata": {},
   "source": [
    "<div style=\"text-align: right;\">\n",
    "【Q.E.D】\n",
    "</div>"
   ]
  },
  {
   "cell_type": "code",
   "execution_count": null,
   "metadata": {
    "collapsed": true
   },
   "outputs": [],
   "source": []
  }
 ],
 "metadata": {
  "kernelspec": {
   "display_name": "Python 3",
   "language": "python",
   "name": "python3"
  },
  "language_info": {
   "codemirror_mode": {
    "name": "ipython",
    "version": 3
   },
   "file_extension": ".py",
   "mimetype": "text/x-python",
   "name": "python",
   "nbconvert_exporter": "python",
   "pygments_lexer": "ipython3",
   "version": "3.5.2"
  }
 },
 "nbformat": 4,
 "nbformat_minor": 1
}
