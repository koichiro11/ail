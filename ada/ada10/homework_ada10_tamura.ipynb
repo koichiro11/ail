{
 "cells": [
  {
   "cell_type": "markdown",
   "metadata": {},
   "source": [
    "# Homework ada10"
   ]
  },
  {
   "cell_type": "markdown",
   "metadata": {},
   "source": [
    "### TMI M1 37-176839 Koichrio Tamura"
   ]
  },
  {
   "cell_type": "markdown",
   "metadata": {},
   "source": [
    "#### homework1"
   ]
  },
  {
   "cell_type": "markdown",
   "metadata": {},
   "source": [
    "　次式を証明せよ"
   ]
  },
  {
   "cell_type": "markdown",
   "metadata": {},
   "source": [
    "$$\\sum_{i, i'=1}^{n}{W_{i, i'}\\left\\| \\mathbf{Tx_{i} - Tx_{i'}} \\right\\| ^{2}}= 2tr(\\mathbf{TXLX^{T}T^{T}})$$"
   ]
  },
  {
   "cell_type": "markdown",
   "metadata": {},
   "source": [
    "\\begin{eqnarray}\n",
    "    \\sum_{i, i'=1}^{n}{W_{i, i'}\\left\\| \\mathbf{Tx_{i} - Tx_{i'}} \\right\\| ^{2}} &=&  2\\sum_{i=1}^{n}{\\mathbf{x_{i}^{T}T^{T}W_{i,i'}Tx_{i}}} - 2\\sum_{i'=1}^{n}{\\mathbf{x_{i'}^{T}T^{T}W_{i,i'}Tx_{i'}}}  \\\\\n",
    "            &=& 2\\sum_{i=1}^{n}{tr(\\mathbf{Tx_{i}W_{i,i'}x_{i}^{T}T^{T}})} - 2\\sum_{i'=1}^{n}{tr(\\mathbf{Tx_{i'}W_{i,i'}x_{i'}^{T}T^{T}})}  \\\\\n",
    "                &=& 2tr(\\mathbf{TX(D-W)X^{T}T^{T}})\\\\\n",
    "                &=& 2tr(\\mathbf{TXLX^{T}T^{T}})\n",
    "\\end{eqnarray}"
   ]
  },
  {
   "cell_type": "markdown",
   "metadata": {},
   "source": [
    "<div style=\"text-align: right;\">\n",
    "【Q.E.D】\n",
    "</div>"
   ]
  },
  {
   "cell_type": "markdown",
   "metadata": {},
   "source": [
    "#### homework2"
   ]
  },
  {
   "cell_type": "markdown",
   "metadata": {},
   "source": [
    "適当な類似度行列に対して局所性保存射影を実装せよ"
   ]
  },
  {
   "cell_type": "code",
   "execution_count": 1,
   "metadata": {
    "collapsed": true
   },
   "outputs": [],
   "source": [
    "%matplotlib inline\n",
    "import numpy as np\n",
    "from numpy import random as rnd\n",
    "from scipy import linalg\n",
    "from sklearn.decomposition import PCA\n",
    "from matplotlib import pyplot as plt\n",
    "from matplotlib.font_manager import FontProperties as fp\n",
    "from matplotlib.ticker import *"
   ]
  },
  {
   "cell_type": "code",
   "execution_count": 2,
   "metadata": {
    "collapsed": true
   },
   "outputs": [],
   "source": [
    "class LPP():\n",
    "    def __init__(self,h=0.1):\n",
    "        self.h = h\n",
    "    \n",
    "    def __get_rbf_matrix_(self,x,c,h=1.0):\n",
    "        __Hx_ = np.tile(np.diag(np.dot(x,x.T)),(c.shape[0],1))\n",
    "        __Hc_ = np.tile(np.diag(np.dot(c,c.T)),(x.shape[0],1))\n",
    "        __G_ = np.dot(c,x.T)\n",
    "        __K_ = np.exp(-(__Hx_-2*__G_+__Hc_.T)/(2*self.h**2))\n",
    "        return __K_\n",
    "    \n",
    "    def fit(self,x):\n",
    "        __W_ = self.__get_rbf_matrix_(x,x)\n",
    "        __D_ = np.diag(np.sum(__W_,axis=1))\n",
    "        __L_ = __D_ - __W_\n",
    "        \n",
    "        __A_ = np.dot(np.dot(x.T,__L_),x)\n",
    "        __B_ = np.dot(np.dot(x.T,__D_),x)\n",
    "        \n",
    "        __B_inv_sqrt_ = linalg.inv(linalg.sqrtm(__B_)) \n",
    "        __C_ = np.dot(np.dot(__B_inv_sqrt_,__A_),__B_inv_sqrt_)\n",
    "        \n",
    "        #scipyでは固有値が昇順に並ぶ\n",
    "        self._lambda, self.xi = linalg.eigh(__C_)\n",
    "        \n",
    "        return self\n",
    "    \n",
    "    def first_basis(self,X):\n",
    "        __i_ = len(self.xi) - 1\n",
    "        return self.xi[__i_][1] / self.xi[__i_][0] * X\n",
    "    \n",
    "    def second_basis(self,X):\n",
    "        return self.xi[0][1] / self.xi[0][0] * X"
   ]
  },
  {
   "cell_type": "code",
   "execution_count": 3,
   "metadata": {
    "collapsed": true
   },
   "outputs": [],
   "source": [
    "#dataset\n",
    "n = 100\n",
    "train_x1 = np.c_[2*rnd.normal(0,1,n), rnd.normal(0,1,n)]\n",
    "train_y = np.sign(rnd.uniform(-1,1,n)).astype(int)\n",
    "train_x2 = np.c_[2*rnd.normal(0,1,n), train_y+rnd.normal(0,1,n)/3]"
   ]
  },
  {
   "cell_type": "code",
   "execution_count": 4,
   "metadata": {},
   "outputs": [
    {
     "data": {
      "text/plain": [
       "PCA(copy=True, iterated_power='auto', n_components=None, random_state=None,\n",
       "  svd_solver='auto', tol=0.0, whiten=False)"
      ]
     },
     "execution_count": 4,
     "metadata": {},
     "output_type": "execute_result"
    }
   ],
   "source": [
    "#LPPの実行\n",
    "clf1 = LPP(h=0.1)\n",
    "clf2 = LPP(h=0.1)\n",
    "clf1.fit(train_x1)\n",
    "clf2.fit(train_x2)\n",
    "\n",
    "#比較のため、主成分分析の実行\n",
    "pca1 = PCA()\n",
    "pca2 = PCA()\n",
    "pca1.fit(train_x1)\n",
    "pca2.fit(train_x2)"
   ]
  },
  {
   "cell_type": "code",
   "execution_count": 5,
   "metadata": {},
   "outputs": [
    {
     "name": "stderr",
     "output_type": "stream",
     "text": [
      "/Users/koichiro/.pyenv/versions/anaconda3-2.4.1/lib/python3.5/site-packages/matplotlib/figure.py:397: UserWarning: matplotlib is currently using a non-GUI backend, so cannot show the figure\n",
      "  \"matplotlib is currently using a non-GUI backend, \"\n"
     ]
    },
    {
     "data": {
      "image/png": "[encoded data removed]",
      "text/plain": [
       "<matplotlib.figure.Figure at 0x10d9f79b0>"
      ]
     },
     "metadata": {},
     "output_type": "display_data"
    }
   ],
   "source": [
    "def f(x, xi):\n",
    "    i = len(xi) - 1\n",
    "    y = xi[0][1] / xi[0][0] * x\n",
    "    return y\n",
    "\n",
    "colors = np.array(['r','','b'])\n",
    "X = np.linspace(-6,6,1000)\n",
    "\n",
    "\n",
    "#グラフ描\n",
    "fig = plt.figure(figsize=(12,5))\n",
    "\n",
    "plt.suptitle(\"comparison between LPP and PCA\",fontsize=20)\n",
    "\n",
    "fig.add_subplot(1,2,1)\n",
    "plt.title(\"1 class\",fontsize=15)\n",
    "plt.plot(X, clf1.second_basis(X), color='r', label='LPP')\n",
    "plt.plot(X, f(X,pca1.components_), color='g', label='PCA')\n",
    "plt.scatter(train_x1[:,0],train_x1[:,1],color='b')\n",
    "plt.xlim(-5,5)\n",
    "plt.ylim(-5,5)\n",
    "plt.xlabel('$x^{(1)}$',size=15)\n",
    "plt.ylabel('$x^{(2)}$',size=15)\n",
    "legend = plt.legend(frameon=1,fancybox=True,\\\n",
    "                    bbox_to_anchor=(1.0, -0.01),loc='lower right')\n",
    "frame = legend.get_frame()\n",
    "frame.set_facecolor('wheat')\n",
    "frame.set_edgecolor('None')\n",
    "\n",
    "fig.add_subplot(1,2,2)\n",
    "plt.title('2 class',fontsize=15)\n",
    "plt.plot(X, clf2.first_basis(X), color='r', label='LPP')\n",
    "plt.plot(X, f(X,pca2.components_), color='g', label='PCA')\n",
    "plt.scatter(train_x2[:,0],train_x2[:,1],color='b')\n",
    "plt.xlim(-5,5)\n",
    "plt.ylim(-5,5)\n",
    "plt.xlabel('$x^{(1)}$',size=15)\n",
    "plt.ylabel('$x^{(2)}$',size=15)\n",
    "\n",
    "legend = plt.legend(frameon=1,fancybox=True,\\\n",
    "                    bbox_to_anchor=(1.0, -0.01),loc='lower right')\n",
    "frame = legend.get_frame()\n",
    "frame.set_facecolor('wheat')\n",
    "frame.set_edgecolor('None')\n",
    "\n",
    "plt.subplots_adjust(top=0.85) \n",
    "fig.savefig('ana.png')\n",
    "fig.show()"
   ]
  }
 ],
 "metadata": {
  "kernelspec": {
   "display_name": "Python 3",
   "language": "python",
   "name": "python3"
  },
  "language_info": {
   "codemirror_mode": {
    "name": "ipython",
    "version": 3
   },
   "file_extension": ".py",
   "mimetype": "text/x-python",
   "name": "python",
   "nbconvert_exporter": "python",
   "pygments_lexer": "ipython3",
   "version": "3.5.2"
  }
 },
 "nbformat": 4,
 "nbformat_minor": 1
}
