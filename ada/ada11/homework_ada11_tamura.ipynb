{
 "cells": [
  {
   "cell_type": "markdown",
   "metadata": {},
   "source": [
    "# homework ada11"
   ]
  },
  {
   "cell_type": "markdown",
   "metadata": {},
   "source": [
    "### TMI M1 37-176839 Koichrio Tamura"
   ]
  },
  {
   "cell_type": "markdown",
   "metadata": {},
   "source": [
    "#### homework1"
   ]
  },
  {
   "cell_type": "markdown",
   "metadata": {},
   "source": [
    "フィッシャー判別分析を実装せよ"
   ]
  },
  {
   "cell_type": "markdown",
   "metadata": {},
   "source": [
    "##### answer"
   ]
  },
  {
   "cell_type": "code",
   "execution_count": 5,
   "metadata": {},
   "outputs": [
    {
     "name": "stdout",
     "output_type": "stream",
     "text": [
      "[ 0.9583855   2.99432884] [ 2.77796828  0.97754624]\n"
     ]
    },
    {
     "data": {
      "image/png": "[encoded data removed]",
      "text/plain": [
       "<matplotlib.figure.Figure at 0x106093eb8>"
      ]
     },
     "metadata": {},
     "output_type": "display_data"
    }
   ],
   "source": [
    "%matplotlib inline\n",
    "import numpy as np\n",
    "from  pylab import *\n",
    "from matplotlib import pyplot as plt\n",
    "import sys\n",
    "\n",
    "N = 100  # データ数\n",
    "\n",
    "def f(x, a, b):\n",
    "    return a * x + b\n",
    "\n",
    "if __name__ == \"__main__\":\n",
    "    # 訓練データを作成\n",
    "    cls1 = []\n",
    "    cls2 = []\n",
    "    \n",
    "    # データは正規分布に従って生成\n",
    "    mean1 = [1, 3]  # クラス1の平均\n",
    "    mean2 = [3, 1]  # クラス2の平均\n",
    "    cov = [[2.0,0.0], [0.0, 0.1]]  # 共分散行列（全クラス共通）\n",
    "    \n",
    "    # データ作成\n",
    "    cls1.extend(np.random.multivariate_normal(mean1, cov, int(N/2)))\n",
    "    cls2.extend(np.random.multivariate_normal(mean2, cov, int(N/2)))\n",
    "    \n",
    "    # 各クラスの平均をプロット\n",
    "    m1 = np.mean(cls1, axis=0)\n",
    "    m2 = np.mean(cls2, axis=0)\n",
    "    plt.plot([m1[0]], [m1[1]], 'b+')\n",
    "    plt.plot([m2[0]], [m2[1]], 'r+')\n",
    "    print(m1, m2)\n",
    "    \n",
    "    # 総クラス内共分散行列を計算\n",
    "    Sw = zeros((2, 2))\n",
    "    for n in range(len(cls1)):\n",
    "        xn = matrix(cls1[n]).reshape(2, 1)\n",
    "        m1 = matrix(m1).reshape(2, 1)\n",
    "        Sw += (xn - m1) * transpose(xn - m1)\n",
    "    for n in range(len(cls2)):\n",
    "        xn = matrix(cls2[n]).reshape(2, 1)\n",
    "        m2 = matrix(m2).reshape(2, 1)\n",
    "        Sw += (xn - m2) * transpose(xn - m2)\n",
    "    Sw_inv = np.linalg.inv(Sw)\n",
    "    w = Sw_inv * (m2 - m1)\n",
    "    \n",
    "    # 訓練データを描画\n",
    "    x1, x2 = np.transpose(np.array(cls1))\n",
    "    plt.plot(x1, x2, 'bo')\n",
    "    \n",
    "    x1, x2 = np.transpose(np.array(cls2))\n",
    "    plt.plot(x1, x2, 'ro')\n",
    "    \n",
    "    # 識別境界を描画\n",
    "    # wは識別境界と直交するベクトル\n",
    "    a = - (w[0,0] / w[1,0])  # 識別直線の傾き\n",
    "    \n",
    "    # 傾きがaでmを通る直線のy切片bを求める\n",
    "    m = (m1 + m2) / 2\n",
    "    b = -a * m[0,0] + m[1,0]  # 識別直線のy切片\n",
    "    \n",
    "    x1 = np.linspace(-2, 6, 1000)\n",
    "    x2 = [f(x, a, b) for x in x1]\n",
    "    plt.plot(x1, x2, 'g-')\n",
    "    \n",
    "    xlim(-2, 6)\n",
    "    ylim(-2, 4)\n",
    "    plt.show()"
   ]
  },
  {
   "cell_type": "markdown",
   "metadata": {
    "collapsed": true
   },
   "source": [
    "#### homework2"
   ]
  },
  {
   "cell_type": "markdown",
   "metadata": {},
   "source": [
    "以下の散布行列のペア表現を求めよ\n",
    "\n",
    "クラス内\n",
    "\n",
    "\n",
    "$$\\mathbf{S}^{(w)} = \\frac{1}{2}\\sum_{i, i'=1}^{n}{\\mathbf{Q_{i,i'}^{(w)}}(\\mathbf{x_{i}}- \\mathbf{x_{i'}})(\\mathbf{x_{i}}- \\mathbf{x_{i'}})^{T}}$$\n",
    "\n",
    "$$\\mathbf{Q_{i,i'}^{(w)}} = \\begin{cases} 1/n\\quad -\\quad 1/n_{ y }\\qquad (y_{ i }=y_{ i' }=y) \\\\ 1/n\\qquad (y_{ i }\\neq y_{ i' }) \\end{cases}$$\n",
    "\n",
    "\n",
    "クラス間\n",
    "\n",
    "$$\\mathbf{S}^{(b)} = \\frac{1}{2}\\sum_{i, i'=1}^{n}{\\mathbf{Q_{i,i'}^{(b)}}(\\mathbf{x_{i}}- \\mathbf{x_{i'}})(\\mathbf{x_{i}}- \\mathbf{x_{i'}})^{T}}$$\n",
    "\n",
    "$$\\mathbf{Q_{i,i'}^{(b)}} = \\begin{cases} 1/n\\quad -\\quad 1/n_{ y }\\qquad (y_{ i }=y_{ i' }=y) \\\\ 1/n\\qquad (y_{ i }\\neq y_{ i' }) \\end{cases}$$\n"
   ]
  },
  {
   "cell_type": "markdown",
   "metadata": {},
   "source": [
    "#### answer"
   ]
  },
  {
   "cell_type": "markdown",
   "metadata": {},
   "source": [
    "\\begin{eqnarray}\n",
    "\\mathbf{S}^{(w)} &=& \\sum_{i=1}^{l}{\\sum_{j:y_{j}=i}{(\\mathbf{x_{j}} -\\frac{1}{n_{i}}\\sum_{p:y_{p}=i}{\\mathbf{x_{p}}}) (\\mathbf{x_{j}} - \\frac{1}{n_{i}} \\sum_{q:y_{q}=i}{\\mathbf{x_{q}}} )^{T}}} \\\\\n",
    "&=& \\sum_{i=1}^{l}{ \\mathbf{x_{i}x_{i}^{T}} } - \\sum_{i=1}^{l}{ \\frac{1}{n_{i}} \\sum_{p,q: y_{p}=y_{q}=i}{\\mathbf{x_{p}x_{q}^{T}} } }  \\\\ \n",
    "&=& \\sum_{i=1}^{n}{(\\sum_{j=1}^{n}{\\mathbf{A}_{i,j}^{(w)}})\\mathbf{x_{i}x_{i}^{T}}  } - \\sum_{i,j=1}^{n}{ \\mathbf{A}_{i,j}^{(w)}\\mathbf{x_{i}x_{i}^{T}} }   \\\\\n",
    "&=& \\frac{1}{2} \\sum_{i,j=1}^{n}{\\mathbf{A}_{i,j}^{(w)}(\\mathbf{x_{i}x_{i}^{T}} + \\mathbf{x_{j}x_{j}^{T}} - \\mathbf{x_{i}x_{j}^{T}} - \\mathbf{x_{j}x_{i}^{T}})}\n",
    "\\end{eqnarray}"
   ]
  },
  {
   "cell_type": "markdown",
   "metadata": {},
   "source": [
    "ここで\n",
    "\\begin{eqnarray}\n",
    "\\mathbf{S}^{(m)} &=& \\mathbf{S}^{(w)} + \\mathbf{S}^{(b)}  \\\\\n",
    "&=& \\sum_{i=1}^{n}{(x_{i}-\\mu)(x_{i}-\\mu)^{T}}\n",
    "\\end{eqnarray}\n",
    "であるから"
   ]
  },
  {
   "cell_type": "markdown",
   "metadata": {},
   "source": [
    "\\begin{eqnarray}\n",
    "\\mathbf{S}^{(b)} &=& \\sum_{i=1}^{n}{ \\mathbf{x_{i}x_{i}^{T}} } - \\frac{1}{n}\\sum_{i,j=1}^{n}{\\mathbf{x_{i}x_{j}^{T}}} - \\mathbf{S}^{(w)}  \\\\\n",
    "&=& \\sum_{i=1}^{n}{ (\\sum_{j=1}^{n}{ \\frac{1}{n} } ) \\mathbf{x_{i}x_{i}^{T}}} - \\sum_{i,j=1}^{n}{\\frac{1}{n}\\mathbf{x_{i}x_{j}^{T}}} - \\mathbf{S}^{(w)}  \\\\\n",
    "&=&  \\frac{1}{2} \\sum_{i,j=1}^{n}{(\\frac{1}{n}- \\mathbf{A}_{i,j}^{(w)})(\\mathbf{x_{i}x_{i}^{T}} + \\mathbf{x_{j}x_{j}^{T}} - \\mathbf{x_{i}x_{j}^{T}} - \\mathbf{x_{j}x_{i}^{T}})}\n",
    "\\end{eqnarray}"
   ]
  },
  {
   "cell_type": "code",
   "execution_count": null,
   "metadata": {
    "collapsed": true
   },
   "outputs": [],
   "source": []
  }
 ],
 "metadata": {
  "kernelspec": {
   "display_name": "Python 3",
   "language": "python",
   "name": "python3"
  },
  "language_info": {
   "codemirror_mode": {
    "name": "ipython",
    "version": 3
   },
   "file_extension": ".py",
   "mimetype": "text/x-python",
   "name": "python",
   "nbconvert_exporter": "python",
   "pygments_lexer": "ipython3",
   "version": "3.5.2"
  }
 },
 "nbformat": 4,
 "nbformat_minor": 1
}
