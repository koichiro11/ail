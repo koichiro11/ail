{
 "cells": [
  {
   "cell_type": "markdown",
   "metadata": {},
   "source": [
    "# Homework ada3"
   ]
  },
  {
   "cell_type": "markdown",
   "metadata": {},
   "source": [
    "### TMI M1 37-176839 Koichiro Tamura"
   ]
  },
  {
   "cell_type": "markdown",
   "metadata": {},
   "source": [
    "#### homework 1"
   ]
  },
  {
   "cell_type": "markdown",
   "metadata": {},
   "source": [
    "#### prove the following formula"
   ]
  },
  {
   "cell_type": "markdown",
   "metadata": {},
   "source": [
    "$$ \\min_{z} {T(\\mathbf{z})} = \\max(0, \\theta+u-\\lambda) + \\min(0, \\theta+u+\\lambda) $$\n",
    "\n",
    "$$ s.t  \\ \\ T(z) = \\lambda|z| + u(\\theta -z) + \\frac{1}{2}(\\theta - z)^{2} $$"
   ]
  },
  {
   "cell_type": "markdown",
   "metadata": {},
   "source": [
    "#### proof:"
   ]
  },
  {
   "cell_type": "markdown",
   "metadata": {},
   "source": [
    "i) if $z > 0$ :\n",
    "    $$\\frac{\\partial T(z)}{\\partial z} = \\lambda - u + (z - \\theta) = 0 $$\n",
    "    \\begin{equation}\n",
    "    \\therefore \\qquad z = \\theta + u -\\lambda\n",
    "    \\end{equation}\n",
    "   $$\\min(0, \\theta+u+\\lambda) = 0 \\qquad \\because \\lambda \\ge 0 $$\n",
    "   \n",
    "ii) if $z<0$ :\n",
    "    $$\\frac{\\partial T(z)}{\\partial z} = - \\lambda - u + (z - \\theta) = 0 $$\n",
    "    $$ \\therefore \\qquad z = \\theta + u +\\lambda$$\n",
    "    $$ \\max(0, \\theta+u-\\lambda) = 0 \\qquad \\because \\lambda \\ge 0 $$\n",
    "    \n",
    "    "
   ]
  },
  {
   "cell_type": "markdown",
   "metadata": {},
   "source": [
    "therefore,\n",
    "$$\\min_{z} {T(\\mathbf{z})} = \\max(0, \\theta+u-\\lambda) + \\min(0, \\theta+u+\\lambda)$$"
   ]
  },
  {
   "cell_type": "markdown",
   "metadata": {},
   "source": [
    "<div style=\"text-align: right;\">\n",
    "【Q.E.D】\n",
    "</div>"
   ]
  },
  {
   "cell_type": "markdown",
   "metadata": {},
   "source": [
    "### [homework 2]"
   ]
  },
  {
   "cell_type": "code",
   "execution_count": 1,
   "metadata": {
    "collapsed": true
   },
   "outputs": [],
   "source": [
    "%matplotlib inline\n",
    "\n",
    "import numpy as np\n",
    "import math\n",
    "import random\n",
    "import matplotlib.pyplot as plt"
   ]
  },
  {
   "cell_type": "markdown",
   "metadata": {
    "collapsed": true
   },
   "source": [
    "###### y = sin(πx)/(πx) + 0.1x "
   ]
  },
  {
   "cell_type": "code",
   "execution_count": 2,
   "metadata": {
    "collapsed": true
   },
   "outputs": [],
   "source": [
    "def func(x):\n",
    "    return math.sin(math.pi*x) / math.pi*x + 0.1*x"
   ]
  },
  {
   "cell_type": "markdown",
   "metadata": {},
   "source": [
    "###### create dataset with noise"
   ]
  },
  {
   "cell_type": "code",
   "execution_count": 3,
   "metadata": {
    "collapsed": true
   },
   "outputs": [],
   "source": [
    "train_x = np.linspace(-3, 3, 500)\n",
    "# np.random.shuffle(train_x)\n",
    "train_y = np.array([func(train_x[i]) for i in range(len(train_x))] + (np.random.rand(len(train_x)) - 0.5)*0.2)\n",
    "test_x = np.linspace(-3, 3, 50)\n",
    "test_y = np.array([func(test_x[i]) for i in range(len(test_x))] + (np.random.rand(len(test_x)) - 0.5)*0.2)"
   ]
  },
  {
   "cell_type": "markdown",
   "metadata": {},
   "source": [
    "##### define GaussKernelModel"
   ]
  },
  {
   "cell_type": "code",
   "execution_count": 4,
   "metadata": {
    "collapsed": true
   },
   "outputs": [],
   "source": [
    "class GaussKernelModel(object):\n",
    "    \"\"\"sparse regression of GaussKernelModel \"\"\"\n",
    "    def __init__(self, h=0.3, _lambda=0.1):\n",
    "        # hyperparameter \n",
    "        self.h = h\n",
    "        self._lambda = _lambda\n",
    "        self.theta = None\n",
    "        self.z = None\n",
    "        self.u = None\n",
    "        self.train_x = None\n",
    "        self.sigma = 0.1\n",
    "    \n",
    "    def fit(self, train_x, train_y):\n",
    "        \"\"\"cal theta  by Alternating Direction Method of Multipliers\"\"\"\n",
    "        self.train_x = train_x\n",
    "        trian_y = train_y.reshape([len(train_y), 1])\n",
    "        # cal K\n",
    "        K =  np.zeros(len(train_x)*len(train_x)).reshape([len(train_x), len(train_x)])\n",
    "\n",
    "        for i in range(len(train_x)):\n",
    "            for j in range(len(train_x)):\n",
    "                K[i, j] = self.kernel(train_x[i], train_x[j])\n",
    "        \n",
    "        # initialize \n",
    "        np.random.seed(0)\n",
    "        self.theta = np.random.rand(K.shape[0])\n",
    "        np.random.seed(1)\n",
    "        self.z = np.random.rand(K.shape[0])\n",
    "        np.random.seed(2)\n",
    "        self.u = np.random.rand(K.shape[0])\n",
    "        sigma = float(\"inf\")\n",
    "        count = 0\n",
    "        \n",
    "        # update \n",
    "        while self.sigma < sigma:\n",
    "            \n",
    "            # theta\n",
    "            theta = np.linalg.inv(K.T.dot(K) + np.eye(K.shape[0])).dot((K.T).dot(train_y) + self.z -self.u)\n",
    "            sigma = np.linalg.norm(self.theta - theta)\n",
    "            self.theta = theta\n",
    "            \n",
    "            # z\n",
    "            if np.linalg.norm(self.theta + self.u - self._lambda) > 0:\n",
    "                z = self.theta + self.u - self._lambda\n",
    "            elif np.linalg.norm(self.theta + self.u + self._lambda) < 0:\n",
    "                z = self.theta + self.u + self._lambda\n",
    "            else:\n",
    "                z = np.zeros(K.shape[0])\n",
    "                \n",
    "            # u\n",
    "            self.u += self.theta - self.z\n",
    "            count += 1\n",
    "           \n",
    "            # print(count)\n",
    "            \n",
    "        \n",
    "    def kernel(self, x, c):\n",
    "        \"\"\"kernel function\"\"\"\n",
    "        return math.exp(-1*np.power(x-c, 2).sum()) / (2*self.h**2)\n",
    "    \n",
    "    def predict(self, test_x):\n",
    "        \"\"\"\n",
    "        predict funcation\n",
    "        :return :predictions\n",
    "        \"\"\"\n",
    "        if self.theta is None:\n",
    "            print(\"You have not fitted yet.\")\n",
    "        predictions = []\n",
    "        for i in range(len(test_x)):\n",
    "            predict = 0\n",
    "            for j in range(len(self.train_x)):\n",
    "                predict += self.theta[j]*self.kernel(test_x[i], self.train_x[j])\n",
    "            predictions.append(predict)\n",
    "        return np.array(predictions)"
   ]
  },
  {
   "cell_type": "code",
   "execution_count": 5,
   "metadata": {
    "collapsed": true
   },
   "outputs": [],
   "source": [
    "# train\n",
    "model = GaussKernelModel()\n",
    "model.fit(train_x, train_y)"
   ]
  },
  {
   "cell_type": "code",
   "execution_count": 6,
   "metadata": {},
   "outputs": [
    {
     "data": {
      "text/plain": [
       "[<matplotlib.lines.Line2D at 0x10a7906a0>]"
      ]
     },
     "execution_count": 6,
     "metadata": {},
     "output_type": "execute_result"
    },
    {
     "data": {
      "image/png": "[encoded data removed]",
      "text/plain": [
       "<matplotlib.figure.Figure at 0x10a7906d8>"
      ]
     },
     "metadata": {},
     "output_type": "display_data"
    }
   ],
   "source": [
    "# predict\n",
    "y = model.predict(test_x)\n",
    "plt.plot(test_x, y)\n",
    "plt.plot(test_x, test_y)"
   ]
  },
  {
   "cell_type": "code",
   "execution_count": null,
   "metadata": {
    "collapsed": true
   },
   "outputs": [],
   "source": []
  }
 ],
 "metadata": {
  "kernelspec": {
   "display_name": "Python 3",
   "language": "python",
   "name": "python3"
  },
  "language_info": {
   "codemirror_mode": {
    "name": "ipython",
    "version": 3
   },
   "file_extension": ".py",
   "mimetype": "text/x-python",
   "name": "python",
   "nbconvert_exporter": "python",
   "pygments_lexer": "ipython3",
   "version": "3.5.2"
  }
 },
 "nbformat": 4,
 "nbformat_minor": 1
}
