{
 "cells": [
  {
   "cell_type": "markdown",
   "metadata": {},
   "source": [
    "### 宿題1"
   ]
  },
  {
   "cell_type": "markdown",
   "metadata": {},
   "source": [
    "### ガウスカーネルモデルに対する正則化パラメタとガウス幅の決定"
   ]
  },
  {
   "cell_type": "code",
   "execution_count": 1,
   "metadata": {
    "collapsed": true
   },
   "outputs": [],
   "source": [
    "%matplotlib inline\n",
    "\n",
    "import numpy as np\n",
    "import math\n",
    "import random\n",
    "import matplotlib.pyplot as plt"
   ]
  },
  {
   "cell_type": "markdown",
   "metadata": {},
   "source": [
    "###### y = sin(πx)/(πx) + 0.1x の推定"
   ]
  },
  {
   "cell_type": "code",
   "execution_count": 2,
   "metadata": {
    "collapsed": false
   },
   "outputs": [],
   "source": [
    "def func(x):\n",
    "    return math.sin(math.pi*x) / math.pi*x + 0.1*x"
   ]
  },
  {
   "cell_type": "markdown",
   "metadata": {},
   "source": [
    "###### データの作成"
   ]
  },
  {
   "cell_type": "code",
   "execution_count": 3,
   "metadata": {
    "collapsed": false
   },
   "outputs": [],
   "source": [
    "# ノイズ入りのデータ作成\n",
    "train_x = np.linspace(-3, 3, 500)\n",
    "# np.random.shuffle(train_x)\n",
    "train_y = np.array([func(train_x[i]) for i in range(len(train_x))] + (np.random.rand(len(train_x)) - 0.5)*0.2)\n",
    "test_x = np.linspace(-3, 3, 50)\n",
    "test_y = np.array([func(test_x[i]) for i in range(len(test_x))] + (np.random.rand(len(test_x)) - 0.5)*0.2)"
   ]
  },
  {
   "cell_type": "markdown",
   "metadata": {},
   "source": [
    "###### モデルの定義"
   ]
  },
  {
   "cell_type": "code",
   "execution_count": 4,
   "metadata": {
    "collapsed": false
   },
   "outputs": [],
   "source": [
    "class GaussKernelModel(object):\n",
    "    \"\"\"ガウスカーネルモデル\"\"\"\n",
    "    def __init__(self, h=0.3, _lambda=0.1):\n",
    "        # hyperparameter \n",
    "        self.h = h\n",
    "        self._lambda = _lambda\n",
    "        self.weight = None\n",
    "        self.train_x = None\n",
    "    \n",
    "    def fit(self, train_x, train_y):\n",
    "        \"\"\"cal weight of model\"\"\"\n",
    "        self.train_x = train_x\n",
    "        trian_y = train_y.reshape([len(train_y), 1])\n",
    "        # cal K\n",
    "        K =  np.zeros(len(train_x)*len(train_x)).reshape([len(train_x), len(train_x)])\n",
    "\n",
    "        for i in range(len(train_x)):\n",
    "            for j in range(len(train_x)):\n",
    "                K[i, j] = self.kernel(train_x[i], train_x[j])\n",
    "        \n",
    "        # update weight\n",
    "        self.weight = np.linalg.inv(K.dot(K) + self._lambda*np.eye(K.shape[0])).dot(K.T).dot(train_y)\n",
    "        \n",
    "    def kernel(self, x, c):\n",
    "        \"\"\"kernel function\"\"\"\n",
    "        return math.exp(-1*np.power(x-c, 2).sum()) / (2*self.h**2)\n",
    "    \n",
    "    def predict(self, test_x):\n",
    "        \"\"\"\n",
    "        predict funcation\n",
    "        :return :predictions\n",
    "        \"\"\"\n",
    "        if self.weight is None:\n",
    "            print(\"You have not fitted yet.\")\n",
    "        predictions = []\n",
    "        for i in range(len(test_x)):\n",
    "            predict = 0\n",
    "            for j in range(len(self.train_x)):\n",
    "                predict += self.weight[j]*self.kernel(test_x[i], self.train_x[j])\n",
    "            predictions.append(predict)\n",
    "        return np.array(predictions)"
   ]
  },
  {
   "cell_type": "code",
   "execution_count": 5,
   "metadata": {
    "collapsed": false
   },
   "outputs": [],
   "source": [
    "# 学習\n",
    "model = GaussKernelModel()\n",
    "model.fit(train_x, train_y)"
   ]
  },
  {
   "cell_type": "code",
   "execution_count": 6,
   "metadata": {
    "collapsed": false
   },
   "outputs": [
    {
     "data": {
      "text/plain": [
       "[<matplotlib.lines.Line2D at 0x10a743048>]"
      ]
     },
     "execution_count": 6,
     "metadata": {},
     "output_type": "execute_result"
    },
    {
     "data": {
      "image/png": "[encoded data removed]",
      "text/plain": [
       "<matplotlib.figure.Figure at 0x10a73afd0>"
      ]
     },
     "metadata": {},
     "output_type": "display_data"
    }
   ],
   "source": [
    "# 予測\n",
    "y = model.predict(test_x)\n",
    "plt.plot(test_x, y)\n",
    "plt.plot(test_x, test_y)"
   ]
  },
  {
   "cell_type": "markdown",
   "metadata": {},
   "source": [
    "###### 交差検証によるパラメタサーチ"
   ]
  },
  {
   "cell_type": "code",
   "execution_count": 8,
   "metadata": {
    "collapsed": false
   },
   "outputs": [
    {
     "name": "stdout",
     "output_type": "stream",
     "text": [
      "{'h': 0.1, '_lambda': 0.05}\n",
      "0.212327368055\n",
      "{'h': 0.2, '_lambda': 0.05}\n",
      "0.209504349339\n",
      "{'h': 0.2, '_lambda': 0.1}\n",
      "0.205308978675\n",
      "{'h': 0.2, '_lambda': 0.15}\n",
      "0.202207200287\n",
      "{'h': 0.2, '_lambda': 0.2}\n",
      "0.199672897935\n",
      "{'h': 0.3, '_lambda': 0.05}\n",
      "0.197401425894\n",
      "{'h': 0.3, '_lambda': 0.1}\n",
      "0.190187514275\n",
      "{'h': 0.3, '_lambda': 0.15}\n",
      "0.186363155431\n",
      "{'h': 0.3, '_lambda': 0.2}\n",
      "0.184320598108\n",
      "{'h': 0.4, '_lambda': 0.1}\n",
      "0.182992744507\n",
      "\n",
      "====================\n",
      "best_params:{'h': 0.4, '_lambda': 0.1}\n",
      "best_score:0.182993\n",
      "====================\n"
     ]
    }
   ],
   "source": [
    "from sklearn.model_selection import KFold\n",
    "from sklearn import metrics\n",
    "from itertools import product\n",
    "\n",
    "hyperparameter_space = {\n",
    "    \"h\":[0.1, 0.2, 0.3, 0.4],\n",
    "    \"_lambda\":[0.05, 0.1, 0.15, 0.2],\n",
    "}\n",
    "\n",
    "best_score = float('inf')\n",
    "best_params = None\n",
    "\n",
    "valss = [v if isinstance(v, (tuple, list)) else (v,) for v in hyperparameter_space.values()]\n",
    "for vals in product(*valss):\n",
    "    params = dict(zip(hyperparameter_space.keys(), vals))\n",
    "    scores = []\n",
    "    # K-fold 交差検証でアルゴリズムの汎化性能を調べる\n",
    "    kfold = KFold(n_splits=3)\n",
    "    for train, val in kfold.split(train_x):\n",
    "        model = GaussKernelModel(**params)\n",
    "        model.fit(train_x[train], train_y[train])\n",
    "        \n",
    "        score = metrics.mean_squared_error(model.predict(train_x[val]), train_y[val])\n",
    "        scores.append(score)\n",
    "        \n",
    "    _score  = np.mean(scores)\n",
    "        \n",
    "    if _score < best_score:\n",
    "        best_score = _score\n",
    "        best_params = params\n",
    "        print(params)\n",
    "        print(_score)\n",
    "\n",
    "            \n",
    "print(\"\")\n",
    "print(\"====================\")\n",
    "print(\"best_params:%s\" % str(best_params))\n",
    "print(\"best_score:%f\" % best_score)               \n",
    "print(\"====================\")                                 "
   ]
  },
  {
   "cell_type": "code",
   "execution_count": null,
   "metadata": {
    "collapsed": true
   },
   "outputs": [],
   "source": []
  }
 ],
 "metadata": {
  "kernelspec": {
   "display_name": "Python 3",
   "language": "python",
   "name": "python3"
  },
  "language_info": {
   "codemirror_mode": {
    "name": "ipython",
    "version": 3
   },
   "file_extension": ".py",
   "mimetype": "text/x-python",
   "name": "python",
   "nbconvert_exporter": "python",
   "pygments_lexer": "ipython3",
   "version": "3.5.2"
  }
 },
 "nbformat": 4,
 "nbformat_minor": 0
}
