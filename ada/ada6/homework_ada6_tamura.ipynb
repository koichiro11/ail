{
 "cells": [
  {
   "cell_type": "markdown",
   "metadata": {},
   "source": [
    "# Homework ada6"
   ]
  },
  {
   "cell_type": "markdown",
   "metadata": {},
   "source": [
    "### TMI M1 37-176839 Koichiro Tamura"
   ]
  },
  {
   "cell_type": "markdown",
   "metadata": {},
   "source": [
    "### homework1"
   ]
  },
  {
   "cell_type": "markdown",
   "metadata": {},
   "source": [
    "相補性条件\n",
    "$$\\alpha_{i} (y_{i}\\mathbf{w}^T \\mathbf{x_{i}} - 1 + \\xi_{i}) = 0$$\n",
    "\n",
    "$$\\beta_{i}\\xi_{i} = 0$$"
   ]
  },
  {
   "cell_type": "markdown",
   "metadata": {},
   "source": [
    "より，以下の性質を示せ"
   ]
  },
  {
   "cell_type": "markdown",
   "metadata": {},
   "source": [
    "1. $$\\alpha_{i} = 0 \\Longrightarrow y_{i}\\mathbf{w}^T \\mathbf{x_{i}} \\ge 1$$\n",
    "\n",
    "1. $$0 < \\alpha_{i} <  C  \\Longrightarrow y_{i}\\mathbf{w}^T \\mathbf{x_{i}} =1$$\n",
    "\n",
    "1. $$\\alpha_{i} = C \\Longrightarrow y_{i}\\mathbf{w}^T \\mathbf{x_{i}} \\le 1 $$\n",
    "\n",
    "1. $$y_{i}\\mathbf{w}^T \\mathbf{x_{i}} > 1\\Longrightarrow \\alpha_{i} = 0$$\n",
    "\n",
    "1. $$y_{i}\\mathbf{w}^T \\mathbf{x_{i}} < 1\\Longrightarrow \\alpha_{i} = C$$ "
   ]
  },
  {
   "cell_type": "markdown",
   "metadata": {},
   "source": [
    "### answer"
   ]
  },
  {
   "cell_type": "markdown",
   "metadata": {},
   "source": [
    "1:  \n",
    "$\\alpha_{i}=0$の時，\n",
    "$$\\beta_{i} = C$$\n",
    "\n",
    "\n",
    "$\\beta_{i}\\xi_{i} = 0$より\n",
    "\n",
    "$$\\xi_{i} = 0$$\n",
    "\n",
    "この時， $y_{i}\\mathbf{w}^T \\mathbf{x_{i}} - 1 + \\xi_{i} \\ge 0$において\n",
    "$$y_{i}\\mathbf{w}^T \\mathbf{x_{i}} \\ge 1 $$"
   ]
  },
  {
   "cell_type": "markdown",
   "metadata": {},
   "source": [
    "<div style=\"text-align: right;\">\n",
    "【Q.E.D】\n",
    "</div>"
   ]
  },
  {
   "cell_type": "markdown",
   "metadata": {},
   "source": [
    "======================================================================================================"
   ]
  },
  {
   "cell_type": "markdown",
   "metadata": {},
   "source": [
    "2:"
   ]
  },
  {
   "cell_type": "markdown",
   "metadata": {},
   "source": [
    "$0 < \\alpha_{i} <  C$の時， $\\alpha_{i} + \\beta_{i} = C$から，\n",
    "$$0 < \\beta_{i} <  C$$\n",
    "よって\n",
    "$$\\xi_{i} = 0$$"
   ]
  },
  {
   "cell_type": "markdown",
   "metadata": {},
   "source": [
    "$\\xi_{i} = 0$, $0 < \\alpha_{i} <  C$と相補性条件\n",
    "$$\\alpha_{i} (y_{i}\\mathbf{w}^T \\mathbf{x_{i}} - 1 + \\xi_{i}) = 0$$\n",
    "より，\n",
    "$$(y_{i}\\mathbf{w}^T \\mathbf{x_{i}} - 1) = 0$$\n",
    "$$\\therefore y_{i}\\mathbf{w}^T \\mathbf{x_{i}} = 1$$"
   ]
  },
  {
   "cell_type": "markdown",
   "metadata": {},
   "source": [
    "<div style=\"text-align: right;\">\n",
    "【Q.E.D】\n",
    "</div>"
   ]
  },
  {
   "cell_type": "markdown",
   "metadata": {},
   "source": [
    "======================================================================================================"
   ]
  },
  {
   "cell_type": "markdown",
   "metadata": {},
   "source": [
    "3."
   ]
  },
  {
   "cell_type": "markdown",
   "metadata": {},
   "source": [
    "$\\alpha_{i} = C$の時，$\\alpha_{i} + \\beta_{i} = C$から，\n",
    "$$\\beta_{i} = 0$$\n"
   ]
  },
  {
   "cell_type": "markdown",
   "metadata": {},
   "source": [
    " $ \\alpha_{i} =C$と相補性条件\n",
    "$$\\alpha_{i} (y_{i}\\mathbf{w}^T \\mathbf{x_{i}} - 1 + \\xi_{i}) = 0$$\n",
    "より，\n",
    "$$(y_{i}\\mathbf{w}^T \\mathbf{x_{i}} - 1+\\xi_{i}) = 0$$\n",
    "$$\\therefore y_{i}\\mathbf{w}^T \\mathbf{x_{i}} = 1-\\xi_{i}$$"
   ]
  },
  {
   "cell_type": "markdown",
   "metadata": {},
   "source": [
    "$\\xi_{i} \\ge 0$より\n",
    "$$\\alpha_{i} = C \\Longrightarrow y_{i}\\mathbf{w}^T \\mathbf{x_{i}} \\le 1 $$"
   ]
  },
  {
   "cell_type": "markdown",
   "metadata": {},
   "source": [
    "<div style=\"text-align: right;\">\n",
    "【Q.E.D】\n",
    "</div>"
   ]
  },
  {
   "cell_type": "markdown",
   "metadata": {},
   "source": [
    "======================================================================================================"
   ]
  },
  {
   "cell_type": "markdown",
   "metadata": {},
   "source": [
    "4."
   ]
  },
  {
   "cell_type": "markdown",
   "metadata": {},
   "source": [
    "$y_{i}\\mathbf{w}^T \\mathbf{x_{i}} > 1$の時，\n",
    "$$y_{i}\\mathbf{w}^T \\mathbf{x_{i}} - 1 + \\xi_{i}> \\xi_{i}$$\n",
    "$\\xi_{i} \\ge 0$より，\n",
    "$$y_{i}\\mathbf{w}^T \\mathbf{x_{i}} - 1 + \\xi_{i}> 0$$"
   ]
  },
  {
   "cell_type": "markdown",
   "metadata": {},
   "source": [
    "相補性条件\n",
    "$$\\alpha_{i} (y_{i}\\mathbf{w}^T \\mathbf{x_{i}} - 1 + \\xi_{i}) = 0$$\n",
    "より，\n",
    "$$\\alpha_{i} = 0$$"
   ]
  },
  {
   "cell_type": "markdown",
   "metadata": {},
   "source": [
    "<div style=\"text-align: right;\">\n",
    "【Q.E.D】\n",
    "</div>"
   ]
  },
  {
   "cell_type": "markdown",
   "metadata": {},
   "source": [
    "======================================================================================================"
   ]
  },
  {
   "cell_type": "markdown",
   "metadata": {},
   "source": [
    "5."
   ]
  },
  {
   "cell_type": "markdown",
   "metadata": {},
   "source": [
    "$y_{i}\\mathbf{w}^T \\mathbf{x_{i}} < 1$の時，\n",
    "$$y_{i}\\mathbf{w}^T \\mathbf{x_{i}} - 1 + \\xi_{i}< \\xi_{i}$$\n",
    "$i) \\alpha_{i} > 0$の時，\n",
    "$$\\alpha_{i} (y_{i}\\mathbf{w}^T \\mathbf{x_{i}} - 1 + \\xi_{i}) < \\alpha_{i} \\xi_{i}$$\n",
    "相補性条件\n",
    "$$\\alpha_{i} (y_{i}\\mathbf{w}^T \\mathbf{x_{i}} - 1 + \\xi_{i}) = 0$$\n",
    "より，\n",
    "$$0 < \\alpha_{i} \\xi_{i}$$\n",
    "$\\alpha_{i} > 0$なので\n",
    "$$\\xi_{i} > 0$$\n",
    "\n",
    "$\\beta_{i}\\xi_{i}=0$より，\n",
    "$$\\beta_{i} = 0$$\n",
    "\n",
    "$\\alpha_{i} + \\beta_{i} = C$から，\n",
    "$$\\alpha_{i} = C$$\n"
   ]
  },
  {
   "cell_type": "markdown",
   "metadata": {},
   "source": [
    "$ii) \\alpha_{i} = 0$の時，\n",
    "$\\alpha_{i} + \\beta_{i} = C$から，\n",
    "$$\\beta_{i}=C$$\n",
    "この時，$\\beta_{i}\\xi_{i} = 0$より\n",
    "$$\\xi_{i} = 0$$\n",
    "これと$y_{i}\\mathbf{w}^T \\mathbf{x_{i}} - 1 + \\xi_{i} \\ge 0$より，\n",
    "$$y_{i}\\mathbf{w}^T \\mathbf{x_{i}} \\ge 1$$\n",
    "しかし，これは所与の条件に矛盾。"
   ]
  },
  {
   "cell_type": "markdown",
   "metadata": {},
   "source": [
    "以上$i), ii)$より，\n",
    "$$y_{i}\\mathbf{w}^T \\mathbf{x_{i}} < 1\\Longrightarrow \\alpha_{i} = C$$ "
   ]
  },
  {
   "cell_type": "markdown",
   "metadata": {},
   "source": [
    "<div style=\"text-align: right;\">\n",
    "【Q.E.D】\n",
    "</div>"
   ]
  },
  {
   "cell_type": "markdown",
   "metadata": {},
   "source": [
    "### homework2"
   ]
  },
  {
   "cell_type": "markdown",
   "metadata": {},
   "source": [
    "線形モデル\n",
    "$$f_{\\mathbf{w}, b}(\\mathbf{x}) = \\mathbf{w}^T\\mathbf{x} + b$$\n",
    "に対するサポートベクターマシンの劣勾配アルゴリズムを実装せよ"
   ]
  },
  {
   "cell_type": "markdown",
   "metadata": {},
   "source": [
    "### answer"
   ]
  },
  {
   "cell_type": "code",
   "execution_count": 125,
   "metadata": {},
   "outputs": [],
   "source": [
    "%matplotlib inline\n",
    "import numpy as np\n",
    "import matplotlib.pyplot as plt\n",
    "import math"
   ]
  },
  {
   "cell_type": "markdown",
   "metadata": {},
   "source": [
    "#### サンプルデータ "
   ]
  },
  {
   "cell_type": "code",
   "execution_count": 107,
   "metadata": {},
   "outputs": [],
   "source": [
    "# X\n",
    "x_1 = np.random.normal(0,1, size=[100,2])\n",
    "x_1[:, 0] -= 5\n",
    "x_1[0:6,0] +=8\n",
    "x_1[0:6,1] +=3\n",
    "x_2 = np.random.normal(0,1, size=[100,2])\n",
    "x_2[:, 0] += 5\n",
    "x_2[0:6, 0] -=8\n",
    "x_2[0:6, 1] -=3\n",
    "\n",
    "X = np.concatenate([x_1, x_2])\n",
    "\n",
    "# Y \n",
    "\n",
    "t = []\n",
    "for i in range(100):\n",
    "    t.append(1.0)   # クラス1\n",
    "for i in range(100):\n",
    "    t.append(-1.0)  # クラス2\n",
    "y = np.array(t)"
   ]
  },
  {
   "cell_type": "code",
   "execution_count": 108,
   "metadata": {},
   "outputs": [
    {
     "name": "stderr",
     "output_type": "stream",
     "text": [
      "/Users/tamurakouichirou/.pyenv/versions/anaconda3-2.4.1/lib/python3.5/site-packages/matplotlib/figure.py:397: UserWarning: matplotlib is currently using a non-GUI backend, so cannot show the figure\n",
      "  \"matplotlib is currently using a non-GUI backend, \"\n"
     ]
    },
    {
     "data": {
      "image/png": "[encoded data removed]",
      "text/plain": [
       "<matplotlib.figure.Figure at 0x10ed5ff28>"
      ]
     },
     "metadata": {},
     "output_type": "display_data"
    }
   ],
   "source": [
    "fig = plt.figure()\n",
    "\n",
    "ax = fig.add_subplot(1,1,1)\n",
    "\n",
    "ax.scatter(x_1[:,0],x_1[:,1], color=\"b\")\n",
    "ax.scatter(x_2[:,0],x_2[:,1], color=\"r\")\n",
    "ax.set_title('plot')\n",
    "ax.set_xlabel('x')\n",
    "ax.set_ylabel('y')\n",
    "\n",
    "fig.show()"
   ]
  },
  {
   "cell_type": "code",
   "execution_count": 155,
   "metadata": {},
   "outputs": [],
   "source": [
    "class SVM:\n",
    "    def __init__(self, h=0.3, _lambda=0.1):\n",
    "        # hyperparameter \n",
    "        self.h = h\n",
    "        self._lambda = _lambda\n",
    "        self.LR = 0.05\n",
    "        self.C = float(\"inf\")\n",
    "        self.CountMax = 1000   \n",
    "        self.count = 0\n",
    "        \n",
    "    def function(self, x1):\n",
    "        \"\"\"\n",
    "        function of border\n",
    "        b=w[2]に対応している\n",
    "        \"\"\"\n",
    "        return  (self.w[0] / self.w[1]) * x1 + (self.w[2] / self.w[1])\n",
    "\n",
    "    def kernel(self, x, c):\n",
    "        \"\"\"kernel function\"\"\"\n",
    "        return math.exp(-1*np.power(x-c, 2).sum()) / (2*self.h**2)\n",
    "\n",
    "    def dL(self, i):\n",
    "        ans = 0\n",
    "        for j in range(0,self.N):\n",
    "            ans += self.L[j] * self.t[i] * self.t[j] * self.kernel(self.X[i], self.X[j])\n",
    "        return (1 - ans)\n",
    "\n",
    "    def train(self, X, y):\n",
    "        self.t = y\n",
    "        self.X = X\n",
    "        # bの項を追加(Xに畳み込む)\n",
    "        self.X = np.c_[self.X, np.ones(X.shape[0])]\n",
    "        self.N = X.shape[0]\n",
    "        \n",
    "        # データの個数分のラグランジュ乗数を用意\n",
    "        self.L = np.zeros((self.N,1))            \n",
    "        \n",
    "        # ラグランジュ未定乗数法を劣勾配で実現\n",
    "        while (self.count < self.CountMax):\n",
    "            for i in range(self.N):\n",
    "                self.L[i] = self.L[i] + self.LR * self.dL(i)    # ラグランジュ乗数の更新\n",
    "                if (self.L[i] < 0):\n",
    "                    self.L[i] = 0\n",
    "                elif (self.L[i] > self.C):\n",
    "                    self.L[i] = self.C\n",
    "            self.count += 1\n",
    "            \n",
    "        # ラグランジュ未定乗数法によって， マージンを最大にするa_{i}=L_{i}がもとまった\n",
    "    \n",
    "        \n",
    "        # サポートベクトルのインデックスを抽出\n",
    "        # 十分小さなa_{i}については無視できる\n",
    "        self.S = []\n",
    "        for i in range(len(self.L)):\n",
    "            if self.L[i] < 0.00001: continue\n",
    "            self.S.append(i)\n",
    "\n",
    "        # wを計算\n",
    "        self.w = np.dot(self.X.T, self.t*self.L)\n",
    "        "
   ]
  },
  {
   "cell_type": "code",
   "execution_count": 156,
   "metadata": {},
   "outputs": [],
   "source": [
    "model = SVM()\n",
    "model.train(X, y)"
   ]
  },
  {
   "cell_type": "code",
   "execution_count": 157,
   "metadata": {},
   "outputs": [
    {
     "name": "stderr",
     "output_type": "stream",
     "text": [
      "/Users/tamurakouichirou/.pyenv/versions/anaconda3-2.4.1/lib/python3.5/site-packages/matplotlib/figure.py:397: UserWarning: matplotlib is currently using a non-GUI backend, so cannot show the figure\n",
      "  \"matplotlib is currently using a non-GUI backend, \"\n"
     ]
    },
    {
     "data": {
      "image/png": "[encoded data removed]",
      "text/plain": [
       "<matplotlib.figure.Figure at 0x110239550>"
      ]
     },
     "metadata": {},
     "output_type": "display_data"
    }
   ],
   "source": [
    "# 識別境界を描画\n",
    "fig = plt.figure()\n",
    "\n",
    "ax = fig.add_subplot(1,1,1)\n",
    "\n",
    "ax.scatter(x_1[:,0],x_1[:,1], color=\"b\")\n",
    "ax.scatter(x_2[:,0],x_2[:,1], color=\"r\")\n",
    "ax.set_title('plot')\n",
    "ax.set_xlabel('x')\n",
    "ax.set_ylabel('y')\n",
    "\n",
    "x1 = np.linspace(-8, 8, 1000)\n",
    "x2 = [model.function(x) for x in x1]\n",
    "plt.plot(x1, x2, 'g-')\n",
    "\n",
    "fig.show()"
   ]
  }
 ],
 "metadata": {
  "kernelspec": {
   "display_name": "Python 3",
   "language": "python",
   "name": "python3"
  },
  "language_info": {
   "codemirror_mode": {
    "name": "ipython",
    "version": 3
   },
   "file_extension": ".py",
   "mimetype": "text/x-python",
   "name": "python",
   "nbconvert_exporter": "python",
   "pygments_lexer": "ipython3",
   "version": "3.5.2"
  }
 },
 "nbformat": 4,
 "nbformat_minor": 1
}
