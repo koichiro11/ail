{
 "cells": [
  {
   "cell_type": "markdown",
   "metadata": {},
   "source": [
    "# Homework ada7"
   ]
  },
  {
   "cell_type": "markdown",
   "metadata": {},
   "source": [
    "### TMI M1 37-176839 Koichiro Tamura"
   ]
  },
  {
   "cell_type": "markdown",
   "metadata": {},
   "source": [
    "### homework1"
   ]
  },
  {
   "cell_type": "markdown",
   "metadata": {},
   "source": [
    "$$(\\mathbf{\\hat{\\mu}}, \\mathbf{\\hat{\\Sigma}}) = arg\\min _{ \\mathbf{\\mu}, \\mathbf{\\Sigma} }{ J(\\mathbf{\\mu}, \\mathbf{\\Sigma}) } $$\n",
    "\n",
    "$$J(\\mathbf{\\mu}, \\mathbf{\\Sigma})  = (\\max{ (0, 1-\\mathbf{\\mu}^T \\phi(\\mathbf{x})y }))^2 + \\phi(\\mathbf{x})^T\\mathbf{\\Sigma}\\phi(\\mathbf{x}) + \\gamma \\left\\{ log{\\frac{det(\\tilde{\\Sigma})}{det(\\Sigma)}} + tr(\\tilde{\\mathbf{\\Sigma}}^{-1}\\mathbf{\\Sigma}) + (\\mu - \\tilde{\\mu})^T \\tilde{\\Sigma}^{-1} (\\mu - \\tilde{\\mu}) - d  \\right\\}$$"
   ]
  },
  {
   "cell_type": "markdown",
   "metadata": {},
   "source": [
    "2乗ヒンジ損失に対する適応正則化分類の$\\mu$の解は，次式で表せることを示せ\n",
    "$$\\hat{\\mathbf{\\mu}} = \\tilde{\\mathbf{\\mu}} + \\frac{ y\\max{(0, 1- \\tilde{\\mathbf{\\mu}}^T} \\phi(\\mathbf{x}) y) }{  \\phi(\\mathbf{x})^T\\tilde{\\mathbf{\\Sigma}}\\phi(\\mathbf{x}) + \\gamma} \\tilde{\\mathbf{\\Sigma}}\\phi(\\mathbf{x})$$"
   ]
  },
  {
   "cell_type": "markdown",
   "metadata": {},
   "source": [
    "#### proof:"
   ]
  },
  {
   "cell_type": "markdown",
   "metadata": {},
   "source": [
    "$\\mathbf{\\mu}^T \\phi(\\mathbf{x}) = \\phi(\\mathbf{x})^Y \\mathbf{\\mu}$より，\n",
    "\n",
    "$$J(\\mathbf{\\mu}, \\mathbf{\\Sigma})  = (\\max{ (0, 1-\\phi(\\mathbf{x})^T \\mathbf{\\mu}  y }))^2 + \\phi(\\mathbf{x})^T\\mathbf{\\Sigma}\\phi(\\mathbf{x}) + \\gamma \\left\\{ log{\\frac{det(\\tilde{\\Sigma})}{det(\\Sigma)}} + tr(\\tilde{\\mathbf{\\Sigma}}^{-1}\\mathbf{\\Sigma}) + (\\tilde{\\Sigma}^{-1})^T (\\mu - \\tilde{\\mu})^2 - d  \\right\\}$$\n",
    "\n",
    "\n",
    "$\\max{(0, 1- \\tilde{\\mathbf{\\mu}}^T} \\phi(\\mathbf{x}) y)  = (1- \\tilde{\\mathbf{\\mu}}^T \\phi(\\mathbf{x}) y)$とすると，\n",
    "\n",
    "$$\\frac{\\partial J(\\mathbf{\\mu}, \\mathbf{\\sigma} )  }{ \\partial \\mu } = 0$$\n",
    "\n",
    "及び逆行列の公式より,  \n",
    "\n",
    "$$\\hat{\\mathbf{\\mu}} = \\tilde{\\mathbf{\\mu}} + \\frac{ y(1- \\tilde{\\mathbf{\\mu}}^T \\phi(\\mathbf{x}) y) }{  \\phi(\\mathbf{x})^T\\tilde{\\mathbf{\\Sigma}}\\phi(\\mathbf{x}) + \\gamma} \\tilde{\\mathbf{\\Sigma}}\\phi(\\mathbf{x})$$\n",
    "\n",
    "また，  $\\max{(0, 1- \\tilde{\\mathbf{\\mu}}^T} \\phi(\\mathbf{x}) y)  = 0$の時，$\\hat \\mu = \\tilde \\mu$なので，\n",
    "\n",
    "$$\\hat{\\mathbf{\\mu}} = \\tilde{\\mathbf{\\mu}} + \\frac{ y\\max{(0, 1- \\tilde{\\mathbf{\\mu}}^T} \\phi(\\mathbf{x}) y) }{  \\phi(\\mathbf{x})^T\\tilde{\\mathbf{\\Sigma}}\\phi(\\mathbf{x}) + \\gamma} \\tilde{\\mathbf{\\Sigma}}\\phi(\\mathbf{x})$$\n",
    "\n"
   ]
  },
  {
   "cell_type": "markdown",
   "metadata": {},
   "source": [
    "<div style=\"text-align: right;\">\n",
    "【Q.E.D】\n",
    "</div>"
   ]
  },
  {
   "cell_type": "markdown",
   "metadata": {},
   "source": [
    "### homework2"
   ]
  },
  {
   "cell_type": "markdown",
   "metadata": {},
   "source": [
    "二乗ヒンジ損失に基づく適応正則化分類を線形モデル\n",
    "$$f_{\\theta}(\\mathbf{x}) = f_{\\theta}(x^{(1)}, x^{(2)}) = (x^{(1)}  x^{(2)} 1 ) \\mathbf{\\theta}$$\n",
    "に対して実装せよ"
   ]
  },
  {
   "cell_type": "markdown",
   "metadata": {},
   "source": [
    "### 参考: https://openbook4.me/projects/233/sections/1477"
   ]
  },
  {
   "cell_type": "code",
   "execution_count": 3,
   "metadata": {},
   "outputs": [],
   "source": [
    "%matplotlib inline\n",
    "import numpy as np\n",
    "import matplotlib.pyplot as plt\n",
    "import pandas as pd\n",
    "from pandas import DataFrame, Series\n",
    "from numpy.random import rand, multivariate_normal\n",
    "from sklearn.utils import shuffle\n",
    "from sklearn.model_selection import train_test_split\n",
    "from numpy import dot   #np.dotはめんどくさいのでdotでつかえるようにする"
   ]
  },
  {
   "cell_type": "code",
   "execution_count": 4,
   "metadata": {},
   "outputs": [
    {
     "data": {
      "image/png": "[encoded data removed]",
      "text/plain": [
       "<matplotlib.figure.Figure at 0x10efebe80>"
      ]
     },
     "metadata": {},
     "output_type": "display_data"
    }
   ],
   "source": [
    "N1 = 50         #  t=+1 のデータ数\n",
    "Mu1 = [15,10]   #  t=+1 の中心座標    　　Muはμ\n",
    " \n",
    "N2 = 50         #  t=-1 のデータ数\n",
    "Mu2 = [0,0]     #  t=-1 の中心座標\n",
    " \n",
    "variance = 20\n",
    " \n",
    "# データセット を用意\n",
    "cov1 = np.array([[variance,0],[0,variance]])   #分散共分散行列\n",
    "cov2 = np.array([[variance,0],[0,variance]])\n",
    " \n",
    "df1 = DataFrame(multivariate_normal(Mu1,cov1,N1),columns=['x','y'])\n",
    "df1['type'] = 1\n",
    "df2 = DataFrame(multivariate_normal(Mu2,cov2,N2),columns=['x','y'])\n",
    "df2['type'] = -1\n",
    "df = pd.concat([df1,df2],ignore_index=True) #縦に結合\n",
    " \n",
    "plt.scatter(df1[\"x\"],df1[\"y\"], c='blue', marker='o')\n",
    "plt.scatter(df2[\"x\"],df2[\"y\"], c='red', marker='x')\n",
    " \n",
    "plt.show()"
   ]
  },
  {
   "cell_type": "code",
   "execution_count": 6,
   "metadata": {
    "collapsed": true
   },
   "outputs": [],
   "source": [
    "df = shuffle(df).reset_index().drop(\"index\", axis = 1)    #dfをシャッフル\n",
    "t = df[\"type\"]\n",
    "data = df[[\"x\", \"y\"]]\n",
    "phi = data\n",
    "phi[\"bias\"] = 1"
   ]
  },
  {
   "cell_type": "code",
   "execution_count": 7,
   "metadata": {
    "collapsed": true
   },
   "outputs": [],
   "source": [
    "#初期値\n",
    "theta = np.random.normal(loc=0, scale=0.1, size=3)\n",
    "sigma = np.random.normal(loc=0, scale=0.1, size=(3,3))"
   ]
  },
  {
   "cell_type": "code",
   "execution_count": 12,
   "metadata": {},
   "outputs": [],
   "source": [
    "for i in range(100):    #データ点すべてを使う\n",
    "    tmp = dot(phi.ix[i][:, np.newaxis], phi.ix[i][:, np.newaxis].T)\n",
    "    gamma = 0.0001   \n",
    "    beta = dot(dot(phi.ix[i][:, np.newaxis].T,  sigma) , phi.ix[i][:, np.newaxis])  + gamma\n",
    "    sigma = sigma - dot(dot(sigma, tmp), sigma) / beta   #シグマ更新\n",
    "    theta = theta + t[i] * np.max(1 - dot(theta[:, np.newaxis].T, phi.ix[i]) * t[i], 0) * dot(sigma, phi.ix[i]) / beta  #ミュー更新\n",
    "    theta = theta.flatten()\n",
    "    # print(theta)"
   ]
  },
  {
   "cell_type": "code",
   "execution_count": 10,
   "metadata": {
    "collapsed": true
   },
   "outputs": [],
   "source": [
    "def f(x):    #モデル関数\n",
    "    y = - theta[0] /theta[1] * x - theta[2] / theta[1]\n",
    "    return y"
   ]
  },
  {
   "cell_type": "code",
   "execution_count": 11,
   "metadata": {},
   "outputs": [
    {
     "data": {
      "image/png": "[encoded data removed]",
      "text/plain": [
       "<matplotlib.figure.Figure at 0x11141f908>"
      ]
     },
     "metadata": {},
     "output_type": "display_data"
    }
   ],
   "source": [
    "plt.scatter(df1[\"x\"],df1[\"y\"], c='blue', marker='o')\n",
    "plt.scatter(df2[\"x\"],df2[\"y\"], c='red', marker='x')\n",
    "linex = np.arange(df[\"x\"].min(),df[\"x\"].max(),0.01)\n",
    "liney = f(linex)                                    #求めたfを使って直線をかく\n",
    "plt.plot(linex, liney, color='green')\n",
    "plt.show()"
   ]
  },
  {
   "cell_type": "code",
   "execution_count": null,
   "metadata": {
    "collapsed": true
   },
   "outputs": [],
   "source": []
  }
 ],
 "metadata": {
  "kernelspec": {
   "display_name": "Python 3",
   "language": "python",
   "name": "python3"
  },
  "language_info": {
   "codemirror_mode": {
    "name": "ipython",
    "version": 3
   },
   "file_extension": ".py",
   "mimetype": "text/x-python",
   "name": "python",
   "nbconvert_exporter": "python",
   "pygments_lexer": "ipython3",
   "version": "3.5.2"
  }
 },
 "nbformat": 4,
 "nbformat_minor": 1
}
