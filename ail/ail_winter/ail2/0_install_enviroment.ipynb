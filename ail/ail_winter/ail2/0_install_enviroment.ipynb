{
 "cells": [
  {
   "cell_type": "markdown",
   "metadata": {},
   "source": [
    "# Install Cudnn"
   ]
  },
  {
   "cell_type": "code",
   "execution_count": null,
   "metadata": {},
   "outputs": [],
   "source": [
    "%%bash\n",
    "# Download cudnn\n",
    "CUDNN_TAR_FILE=\"cudnn-8.0-linux-x64-v6.0.tgz\"\n",
    "wget http://developer.download.nvidia.com/compute/redist/cudnn/v6.0/${CUDNN_TAR_FILE}\n",
    "tar xvf cudnn-8.0-linux-x64-v6.0.tgz\n",
    "# Deploy cudnn\n",
    "cp cuda/lib64/libcudnn.so* /usr/local/cuda-8.0/lib64/\n",
    "cp cuda/include/cudnn.h /usr/local/cuda-8.0/include/\n",
    "# Remove files\n",
    "rm cudnn-8.0-linux-x64-v6.0.tgz\n",
    "rm -rf cuda"
   ]
  },
  {
   "cell_type": "markdown",
   "metadata": {},
   "source": [
    "# Install Chainer and opencv"
   ]
  },
  {
   "cell_type": "code",
   "execution_count": null,
   "metadata": {},
   "outputs": [],
   "source": [
    "%%bash\n",
    "export CUDA_PATH=/usr/local/cuda/\n",
    "export CFLAGS=-I$CUDA_PATH/include \n",
    "export PATH=/usr/local/cuda/bin:$PATH\n",
    "export LD_LIBRARY_PATH=/usr/local/cuda/lib64:$LD_LIBRARY_PATH\n",
    "pip install tqdm opencv-python\n",
    "pip install cupy --no-cache-dir\n",
    "pip install chainer --no-cache-dir"
   ]
  },
  {
   "cell_type": "markdown",
   "metadata": {},
   "source": [
    "# Install axel"
   ]
  },
  {
   "cell_type": "code",
   "execution_count": null,
   "metadata": {},
   "outputs": [],
   "source": [
    "%%bash\n",
    "apt-get update\n",
    "apt-get install axel"
   ]
  }
 ],
 "metadata": {
  "kernelspec": {
   "display_name": "Python 3",
   "language": "python",
   "name": "python3"
  },
  "language_info": {
   "codemirror_mode": {
    "name": "ipython",
    "version": 3
   },
   "file_extension": ".py",
   "mimetype": "text/x-python",
   "name": "python",
   "nbconvert_exporter": "python",
   "pygments_lexer": "ipython3",
   "version": "3.5.2"
  }
 },
 "nbformat": 4,
 "nbformat_minor": 2
}
