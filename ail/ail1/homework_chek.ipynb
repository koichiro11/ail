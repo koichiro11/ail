{
 "cells": [
  {
   "cell_type": "markdown",
   "metadata": {},
   "source": [
    "# 課題チェック"
   ]
  },
  {
   "cell_type": "code",
   "execution_count": 1,
   "metadata": {
    "collapsed": true
   },
   "outputs": [],
   "source": [
    "import numpy as np"
   ]
  },
  {
   "cell_type": "markdown",
   "metadata": {},
   "source": [
    "## answer"
   ]
  },
  {
   "cell_type": "code",
   "execution_count": 53,
   "metadata": {
    "collapsed": true
   },
   "outputs": [],
   "source": [
    "# 答えを書く欄\n",
    "Q1_1 = 'ABC'\n",
    "Q1_2 = 'AC'\n",
    "Q1_3 = 'AC'\n",
    "Q1_4 = 'ABC'\n",
    "\n",
    "import numpy as np\n",
    "\n",
    "\n",
    "def Q2(A, B, C, x):\n",
    "    \"\"\"\n",
    "    Description: \n",
    "        matrix-vector calculation\n",
    "    Arguments: \n",
    "        A: matrix l by m (2-dimensional numpy array)\n",
    "        B: matrix m by n (2-dimensional numpy array)\n",
    "        C: matrix n by l (2-dimensional numpy array)\n",
    "        x: vector size m (1-dimensional numpy array)\n",
    "    Return: \n",
    "        A_ik x_k B_kj - C_ji (k-index summed [0 to m-1])\n",
    "    \"\"\"\n",
    "    # CODEME\n",
    "    return np.einsum('ik,k,kj->ij', A, x, B) - C.T\n",
    "\n",
    "\n",
    "def Q3(x, a):\n",
    "    \"\"\"\n",
    "    Description:\n",
    "        sorting function\n",
    "    Arguments:\n",
    "        x: 2-dimensional numpy array\n",
    "    Return:\n",
    "        numpy array with the same shape as x\n",
    "    \"\"\"\n",
    "    # CODEME\n",
    "    def distance(_a, _b):\n",
    "        return np.sqrt(np.power(_a -_b, 2).sum())\n",
    "    \n",
    "    index = np.argsort(np.array([distance(x[i], a) for i in range(x.shape[0])]))\n",
    "    \n",
    "    return x[index]\n",
    "\n",
    "\n",
    "def Q4(M, N, x0, x1, y0, y1):\n",
    "    \"\"\"\n",
    "    Description:\n",
    "        sum over cropped region\n",
    "    Arguments:\n",
    "        M, N, x0, x1, y0, y1: integer\n",
    "    Return:\n",
    "        the sum over region in (x0, x1), (y0, y1)\n",
    "    \"\"\"\n",
    "    # CODEME\n",
    "    A = np.arange(M*N).reshape(N, M)\n",
    "    a = A[y0:y1+1, x0:x1+1]\n",
    "\n",
    "    return a.sum()\n",
    "\n",
    "\n",
    "def Q5_1(x):\n",
    "    \"\"\"\n",
    "    Description:\n",
    "        get one-hot expression from category expression\n",
    "    Arguments:\n",
    "        x: one-dimensional numpy array, data type integer \n",
    "    Return:\n",
    "        numpy array, one-hot expression of x\n",
    "    \"\"\"\n",
    "    # CODEME\n",
    "    columns = np.unique(x)\n",
    "    X = np.zeros([x.shape[0], len(columns)])\n",
    "    for i, column in enumerate(columns):\n",
    "        X[np.where(x==column), i] = 1\n",
    "    return X\n",
    "\n",
    "\n",
    "def Q5_2(x):\n",
    "    \"\"\"\n",
    "    Description:\n",
    "        get category expression from one-hot expression\n",
    "    Arguments:\n",
    "        x: numpy array, one-hot expression\n",
    "    Return:\n",
    "        one-dimensional numpy array, category expression of x\n",
    "    \"\"\"\n",
    "    # CODEME\n",
    "    return x.argmax(axis=1)\n",
    "\n",
    "\n",
    "def Q6(m, n):\n",
    "    \"\"\"\n",
    "    Description:\n",
    "        produce multiplication tables m by n\n",
    "    Arguments:\n",
    "        m, n: integer\n",
    "    Return:\n",
    "        numpy array with shape (m,n)\n",
    "    \"\"\"\n",
    "    # CODEME\n",
    "    a = np.arange(1, n+1)[:, np.newaxis]\n",
    "    b = np.arange(1, m+1)[np.newaxis, :]\n",
    "    return a.dot(b)\n",
    "\n",
    "\n",
    "def Q7(x):\n",
    "    \"\"\"\n",
    "    Arguments:\n",
    "        x: numpy array 1 dimension\n",
    "    Return:\n",
    "        numpy array 1 dimension\n",
    "        each component is x[i+1] - x[i]  \n",
    "    \"\"\"\n",
    "    # CODEME\n",
    "    return np.array([x[i+1] - x[i] for i in range(len(x)-1)])"
   ]
  },
  {
   "cell_type": "code",
   "execution_count": 2,
   "metadata": {
    "collapsed": false
   },
   "outputs": [
    {
     "name": "stdout",
     "output_type": "stream",
     "text": [
      "[0 0 1 1 2 2 3 3 4 4]\n",
      "[0 0 1 1 2 2 3 3 4 4]\n",
      "[0 0 1 1 2 2 3 3 4 4]\n"
     ]
    }
   ],
   "source": [
    "print(np.arange(10)//2)\n",
    "print((np.arange(5)[:,np.newaxis]*(1,1)).flatten())\n",
    "print(np.array([(i,i) for i in range(5)]).flatten())"
   ]
  },
  {
   "cell_type": "markdown",
   "metadata": {},
   "source": [
    "#### np.newaxis\n",
    "\n",
    "大きさが1の次元を追加する"
   ]
  },
  {
   "cell_type": "code",
   "execution_count": 12,
   "metadata": {
    "collapsed": false
   },
   "outputs": [
    {
     "data": {
      "text/plain": [
       "array([[0, 0],\n",
       "       [1, 1],\n",
       "       [2, 2],\n",
       "       [3, 3],\n",
       "       [4, 4]])"
      ]
     },
     "execution_count": 12,
     "metadata": {},
     "output_type": "execute_result"
    }
   ],
   "source": [
    "np.arange(5)[:,np.newaxis]*(1,1)"
   ]
  },
  {
   "cell_type": "code",
   "execution_count": 13,
   "metadata": {
    "collapsed": false
   },
   "outputs": [
    {
     "data": {
      "text/plain": [
       "array([0, 1, 0, 3, 0, 5, 0, 7, 0, 9])"
      ]
     },
     "execution_count": 13,
     "metadata": {},
     "output_type": "execute_result"
    }
   ],
   "source": [
    "x = np.arange(10)\n",
    "x * (x%2==1)"
   ]
  },
  {
   "cell_type": "code",
   "execution_count": 14,
   "metadata": {
    "collapsed": false
   },
   "outputs": [
    {
     "data": {
      "text/plain": [
       "array([0, 0, 2, 0, 4, 0, 6, 0, 8, 0])"
      ]
     },
     "execution_count": 14,
     "metadata": {},
     "output_type": "execute_result"
    }
   ],
   "source": [
    "np.array([i if i%2==0 else 0 for i in range(10)])"
   ]
  },
  {
   "cell_type": "code",
   "execution_count": 15,
   "metadata": {
    "collapsed": false
   },
   "outputs": [
    {
     "data": {
      "text/plain": [
       "array([0, 1, 0, 3, 0, 5, 0, 7, 0, 9])"
      ]
     },
     "execution_count": 15,
     "metadata": {},
     "output_type": "execute_result"
    }
   ],
   "source": [
    "np.arange(10) * np.tile([0,1], 5)"
   ]
  },
  {
   "cell_type": "markdown",
   "metadata": {},
   "source": [
    "#### np.tile\n",
    "配列aをタイル状に並べる"
   ]
  },
  {
   "cell_type": "code",
   "execution_count": 16,
   "metadata": {
    "collapsed": false
   },
   "outputs": [
    {
     "data": {
      "text/plain": [
       "array([ 1,  2,  4,  8, 16])"
      ]
     },
     "execution_count": 16,
     "metadata": {},
     "output_type": "execute_result"
    }
   ],
   "source": [
    "2**(np.arange(5))"
   ]
  },
  {
   "cell_type": "code",
   "execution_count": 17,
   "metadata": {
    "collapsed": false
   },
   "outputs": [
    {
     "data": {
      "text/plain": [
       "array([ 0,  1,  4,  9, 16])"
      ]
     },
     "execution_count": 17,
     "metadata": {},
     "output_type": "execute_result"
    }
   ],
   "source": [
    "np.apply_along_axis(np.square, 0, (np.arange(5)))"
   ]
  },
  {
   "cell_type": "code",
   "execution_count": 18,
   "metadata": {
    "collapsed": false
   },
   "outputs": [
    {
     "data": {
      "text/plain": [
       "array([ 1,  2,  4,  8, 16])"
      ]
     },
     "execution_count": 18,
     "metadata": {},
     "output_type": "execute_result"
    }
   ],
   "source": [
    "x = [1]\n",
    "[x.append(x[i]*2) for i in range(4)]    \n",
    "np.array(x)"
   ]
  },
  {
   "cell_type": "code",
   "execution_count": 19,
   "metadata": {
    "collapsed": false
   },
   "outputs": [
    {
     "data": {
      "text/plain": [
       "array([-1., -1., -1., -1., -1.,  1.,  1.,  1.,  1.,  1.])"
      ]
     },
     "execution_count": 19,
     "metadata": {},
     "output_type": "execute_result"
    }
   ],
   "source": [
    "np.sign(np.arange(10) - 4.5)"
   ]
  },
  {
   "cell_type": "code",
   "execution_count": 20,
   "metadata": {
    "collapsed": false
   },
   "outputs": [
    {
     "data": {
      "text/plain": [
       "array([-1., -1., -1., -1., -1.,  1.,  1.,  1.,  1.,  1.])"
      ]
     },
     "execution_count": 20,
     "metadata": {},
     "output_type": "execute_result"
    }
   ],
   "source": [
    "np.concatenate([-np.ones(5), np.ones(5)])"
   ]
  },
  {
   "cell_type": "code",
   "execution_count": 21,
   "metadata": {
    "collapsed": false
   },
   "outputs": [
    {
     "data": {
      "text/plain": [
       "array([-1., -1., -1., -1., -1.,  1.,  1.,  1.,  1.,  1.])"
      ]
     },
     "execution_count": 21,
     "metadata": {},
     "output_type": "execute_result"
    }
   ],
   "source": [
    "(np.arange(10) > 4.5) * 2.0 - 1"
   ]
  },
  {
   "cell_type": "markdown",
   "metadata": {},
   "source": [
    "\n",
    "- einsum  \n",
    "  テンソル積一般を表現でき、表現力の意味では最も強力です。（byアインシュタインの縮約規則）\n",
    "  \n",
    "  このeinsumがあればtraceやtransposeはもちろん、これまでに扱ったmatmulやtensordotも実現可能できてしまいます。（※要使い分け）\n",
    "  \n",
    "  重要なのは、einsumでは2テンソル間の演算だけでなく3つ以上のテンソル間の演算も一度に実現可能であることでしょう。\n",
    "  \n",
    "  なお、積和の式が与えられた時のeinsumの表現は一般に次のようにして得ることができます（例：$c_{ik} = \\sum_{j} a_{ij}\\times b_{jk}$）\n",
    "  1. 変数名を消す（例：$ik = \\sum_{j} ij \\times jk$）\n",
    "  2. 積（$\\times$）をカンマで置き換える（例：$ik = \\sum_{j} ij, jk$）\n",
    "  3. シグマを消す（例：$ik = ij, jk$）\n",
    "  4. 左辺右辺を反転させ、等号を->にする（例：$ij, jk -> ik$）\n",
    "  \n",
    "  （例）\n",
    "  \n",
    "  `np.einsum('ij,jk->ik', A, B)`：行列積$\\sum_{j} a_{ij}b_{jk}$\n",
    "  \n",
    "  `np.einsum('i,i->', v, u)`：ベクトルの内積$\\sum_{i} v_{i}u_{i}$"
   ]
  },
  {
   "cell_type": "markdown",
   "metadata": {},
   "source": [
    "# Q2\n",
    "以下の関数を実装してください。\n",
    "$$\n",
    "\\sum_k A_{ik} x_k B_{kj} - C_{ji}\n",
    "$$\n",
    "\n",
    "\n",
    "例えば\n",
    "```\n",
    "A = np.array([[1,2,3],[4,5,6]])\n",
    "B = np.array([[1,2],[3,4],[5,6]])\n",
    "C = np.array([[2,3],[1,2]])\n",
    "x = np.array([-1, 1, 3])\n",
    "```\n",
    "の場合この関数は\n",
    "```\n",
    "array([[ 48,  59],\n",
    "       [ 98, 118]])\n",
    "```\n",
    "を与えます。"
   ]
  },
  {
   "cell_type": "code",
   "execution_count": 44,
   "metadata": {
    "collapsed": true
   },
   "outputs": [],
   "source": [
    "def Q2(A, B, C, x):\n",
    "    \"\"\"\n",
    "    Description: \n",
    "        matrix-vector calculation\n",
    "    Arguments: \n",
    "        A: matrix l by m (2-dimensional numpy array)\n",
    "        B: matrix m by n (2-dimensional numpy array)\n",
    "        C: matrix n by l (2-dimensional numpy array)\n",
    "        x: vector size m (1-dimensional numpy array)\n",
    "    Return: \n",
    "        A_ik x_k B_kj - C_ji (k-index summed [0 to m-1])\n",
    "    \"\"\"\n",
    "    # CODEME\n",
    "    return np.einsum('ik,k,kj->ij', A, x, B) - C.T"
   ]
  },
  {
   "cell_type": "code",
   "execution_count": 23,
   "metadata": {
    "collapsed": true
   },
   "outputs": [],
   "source": [
    "# einsum\n",
    "A = np.arange(25).reshape(5,5)\n",
    "b = np.arange(5)\n",
    "b2 = np.arange(5) + 1"
   ]
  },
  {
   "cell_type": "code",
   "execution_count": 25,
   "metadata": {
    "collapsed": false
   },
   "outputs": [
    {
     "data": {
      "text/plain": [
       "array([[ 0,  1,  2,  3,  4],\n",
       "       [ 5,  6,  7,  8,  9],\n",
       "       [10, 11, 12, 13, 14],\n",
       "       [15, 16, 17, 18, 19],\n",
       "       [20, 21, 22, 23, 24]])"
      ]
     },
     "execution_count": 25,
     "metadata": {},
     "output_type": "execute_result"
    }
   ],
   "source": [
    "A"
   ]
  },
  {
   "cell_type": "code",
   "execution_count": 24,
   "metadata": {
    "collapsed": false
   },
   "outputs": [
    {
     "name": "stdout",
     "output_type": "stream",
     "text": [
      "[ 0  6 12 18 24]\n",
      "[ 0  6 12 18 24]\n",
      "\n"
     ]
    }
   ],
   "source": [
    "# 対角成分\n",
    "print(np.einsum('ii->i', A))    # c_{i} = a_{ii}\n",
    "print(np.diag(A))\n",
    "print()"
   ]
  },
  {
   "cell_type": "code",
   "execution_count": 26,
   "metadata": {
    "collapsed": false
   },
   "outputs": [
    {
     "name": "stdout",
     "output_type": "stream",
     "text": [
      "60\n",
      "60\n",
      "\n"
     ]
    }
   ],
   "source": [
    "# トレース\n",
    "print(np.einsum('ii', A))   # C = \\sum_{i} a_{ii}\n",
    "print(np.trace(A))\n",
    "print()"
   ]
  },
  {
   "cell_type": "code",
   "execution_count": 45,
   "metadata": {
    "collapsed": false
   },
   "outputs": [
    {
     "data": {
      "text/plain": [
       "array([[ 48,  59],\n",
       "       [ 98, 118]])"
      ]
     },
     "execution_count": 45,
     "metadata": {},
     "output_type": "execute_result"
    }
   ],
   "source": [
    "A = np.array([[1, 2, 3], [4, 5, 6]])\n",
    "B = np.array([[1, 2], [3, 4], [5, 6]])\n",
    "C = np.array([[2, 3], [1, 2]])\n",
    "x = np.array([-1, 1, 3])\n",
    "\n",
    "Q2(A, B, C, x) \n"
   ]
  },
  {
   "cell_type": "markdown",
   "metadata": {},
   "source": [
    "# Q3\n",
    "x, a が shape = (N,M), (M,) の numpy array として与えらえれています。\n",
    "\n",
    "xの各要素をについて、a に近い順に並べ替えて出力する関数を書いてください。\n",
    "\n",
    "ここで、a, b が近いとはノルム $ \\left | a - b \\right| = \\sqrt{\\sum_i \\left(a_i - b_i\\right)^2}  $ が小さい事を意味します。\n",
    "\n",
    "例\n",
    "```\n",
    "x = np.array([[87, 14], [81, 62], [81, 18], [ 8, 63], [51, 15], [38, 63], [80, 36], [69, 78], [26, 9]])\n",
    "a = np.array([25, 75]) \n",
    "```\n",
    "として x, y が与えられた時、この関数は\n",
    "```\n",
    "array([[38, 63],\n",
    "       [ 8, 63],\n",
    "       [69, 78],\n",
    "       [81, 62],\n",
    "       [51, 15],\n",
    "       [26,  9],\n",
    "       [80, 36],\n",
    "       [81, 18],\n",
    "       [87, 14]])\n",
    "```\n",
    "を返します"
   ]
  },
  {
   "cell_type": "code",
   "execution_count": 47,
   "metadata": {
    "collapsed": true
   },
   "outputs": [],
   "source": [
    "def Q3(x, a):\n",
    "    \"\"\"\n",
    "    Description:\n",
    "        sorting function\n",
    "    Arguments:\n",
    "        x: 2-dimensional numpy array\n",
    "    Return:\n",
    "        numpy array with the same shape as x\n",
    "    \"\"\"\n",
    "    # CODEME\n",
    "    def distance(_a, _b):\n",
    "        return np.sqrt(np.power(_a-_b, 2))\n",
    "    \n",
    "    index = np.argsort(np.array([distance(x[i], a) for i in range(x.shape[0])]))\n",
    "    return x[index]"
   ]
  },
  {
   "cell_type": "markdown",
   "metadata": {},
   "source": [
    "# Q5\n",
    "\n",
    "category 表現から one-hot 表現を得る関数を作成してください。\n",
    "\n",
    "またその逆関数も作成して下さい。\n",
    "\n",
    "category表現とone-hot表現は例えば以下のような関係です。\n",
    "```\n",
    "category　[0, 1, 2, 1, 0, 2, 2, 1, 0]\n",
    "```\n",
    "```\n",
    "one-hot\n",
    "[[ 1., 0., 0.],\n",
    "[ 0., 1., 0.],\n",
    "[ 0., 0., 1.],\n",
    "[ 0., 1., 0.],\n",
    "[ 1., 0., 0.],\n",
    "[ 0., 0., 1.],\n",
    "[ 0., 0., 1.],\n",
    "[ 0., 1., 0.],\n",
    "[ 1., 0., 0.]]\n",
    "```\n",
    "今、category表現はintegerとして、\n",
    "one-hotのスロット数はcategory表現の最大値+1とします。(例ではcategoryの最大値が２でone-hotは３スロット)"
   ]
  }
 ],
 "metadata": {
  "kernelspec": {
   "display_name": "Python 3",
   "language": "python",
   "name": "python3"
  },
  "language_info": {
   "codemirror_mode": {
    "name": "ipython",
    "version": 3
   },
   "file_extension": ".py",
   "mimetype": "text/x-python",
   "name": "python",
   "nbconvert_exporter": "python",
   "pygments_lexer": "ipython3",
   "version": "3.5.2"
  }
 },
 "nbformat": 4,
 "nbformat_minor": 0
}
