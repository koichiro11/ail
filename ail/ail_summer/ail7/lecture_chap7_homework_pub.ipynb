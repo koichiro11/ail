{
 "cells": [
  {
   "cell_type": "markdown",
   "metadata": {
    "deletable": true,
    "editable": true
   },
   "source": [
    "# 第7回講義 宿題"
   ]
  },
  {
   "cell_type": "markdown",
   "metadata": {
    "deletable": true,
    "editable": true
   },
   "source": [
    "## 課題. Tensorflowを用いて, MNISTを畳み込みニューラルネットワーク(CNN)で学習せよ"
   ]
  },
  {
   "cell_type": "markdown",
   "metadata": {
    "deletable": true,
    "editable": true
   },
   "source": [
    "### 注意"
   ]
  },
  {
   "cell_type": "markdown",
   "metadata": {
    "deletable": true,
    "editable": true
   },
   "source": [
    "- homework関数を完成させて提出してください\n",
    "    - 訓練データはtrain_X, train_y, テストデータはtest_Xで与えられます\n",
    "    - train_Xとtrain_yをtrain_X, train_yとvalid_X, valid_yに分けるなどしてモデルを学習させてください\n",
    "    - test_Xに対して予想ラベルpred_yを作り, homework関数の戻り値としてください\\\n",
    "- pred_yのtest_yに対する精度(F値)で評価します\n",
    "- 全体の実行時間がiLect上で60分を超えないようにしてください\n",
    "- homework関数の外には何も書かないでください (必要なものは全てhomework関数に入れてください)\n",
    "- 解答提出時には Answer Cell の内容のみを提出してください"
   ]
  },
  {
   "cell_type": "markdown",
   "metadata": {
    "deletable": true,
    "editable": true
   },
   "source": [
    "**`tf` の以下のモジュールはこの回では使用できないように制限されています. 注意してください.**\n",
    "```python\n",
    "tf.app\n",
    "tf.compat\n",
    "tf.contrib\n",
    "tf.erros\n",
    "tf.gfile\n",
    "tf.graph_util\n",
    "tf.image\n",
    "tf.layers\n",
    "tf.logging\n",
    "tf.losses\n",
    "tf.metrics\n",
    "tf.python_io\n",
    "tf.resource_loader\n",
    "tf.saved_model\n",
    "tf.sdca\n",
    "tf.sets\n",
    "tf.summary\n",
    "tf.sysconfig\n",
    "tf.test\n",
    "```"
   ]
  },
  {
   "cell_type": "markdown",
   "metadata": {
    "deletable": true,
    "editable": true
   },
   "source": [
    "次のセルのhomework関数を完成させて提出してください"
   ]
  },
  {
   "cell_type": "markdown",
   "metadata": {
    "deletable": true,
    "editable": true
   },
   "source": [
    "# Answer Cell"
   ]
  },
  {
   "cell_type": "markdown",
   "metadata": {
    "deletable": true,
    "editable": true
   },
   "source": [
    "- 以下のvalidate_homework関数を用いてエラーが起きないか動作確認をして下さい。\n",
    "- 提出に際して、以下のscore_homework関数で60分で実行が終わることを確認して下さい。\n",
    "- 評価は以下のscore_homework関数で行われますが、random_stateの値は変更されます。"
   ]
  },
  {
   "cell_type": "markdown",
   "metadata": {
    "deletable": true,
    "editable": true
   },
   "source": [
    "# Checker Cell (for student)"
   ]
  },
  {
   "cell_type": "code",
   "execution_count": 1,
   "metadata": {
    "collapsed": false,
    "deletable": true,
    "editable": true
   },
   "outputs": [],
   "source": [
    "from sklearn.utils import shuffle\n",
    "from sklearn.metrics import f1_score\n",
    "from sklearn.model_selection import train_test_split\n",
    "from tensorflow.examples.tutorials.mnist import input_data\n",
    "\n",
    "import numpy as np\n",
    "import tensorflow as tf\n",
    "\n",
    "del [\n",
    "    tf.app,\n",
    "    tf.compat,\n",
    "    tf.contrib,\n",
    "    tf.errors,\n",
    "    tf.gfile,\n",
    "    tf.graph_util,\n",
    "    tf.image,\n",
    "    tf.layers,\n",
    "    tf.logging,\n",
    "    tf.losses,\n",
    "    tf.metrics,\n",
    "    tf.python_io,\n",
    "    tf.resource_loader,\n",
    "    tf.saved_model,\n",
    "    tf.sdca,\n",
    "    tf.sets,\n",
    "    tf.summary,\n",
    "    tf.sysconfig,\n",
    "    tf.test\n",
    "]\n",
    "\n",
    "def load_mnist():\n",
    "    mnist = input_data.read_data_sets('MNIST_data/', one_hot=True)\n",
    "    mnist_X = np.r_[mnist.train.images, mnist.test.images]\n",
    "    mnist_y = np.r_[mnist.train.labels, mnist.test.labels]\n",
    "    return train_test_split(mnist_X, mnist_y, test_size=0.2, random_state=42)\n",
    "\n",
    "def validate_homework():\n",
    "    train_X, test_X, train_y, test_y = load_mnist()\n",
    "    train_X = train_X.reshape((train_X.shape[0], 28, 28, 1))\n",
    "    test_X = test_X.reshape((test_X.shape[0], 28, 28, 1))\n",
    "\n",
    "    # validate for small dataset\n",
    "    train_X_mini = train_X[:1000]\n",
    "    train_y_mini = train_y[:1000]\n",
    "    test_X_mini = test_X[:100]\n",
    "    test_y_mini = test_y[:100]\n",
    "\n",
    "    pred_y = homework(train_X_mini, train_y_mini, test_X_mini)\n",
    "    print(pred_y)\n",
    "    print(f1_score(np.argmax(test_y_mini, 1), pred_y, average='macro'))\n",
    "\n",
    "def score_homework():\n",
    "    train_X, test_X, train_y, test_y = load_mnist()\n",
    "    train_X = train_X.reshape((train_X.shape[0], 28, 28, 1))\n",
    "    test_X = test_X.reshape((test_X.shape[0], 28, 28, 1))\n",
    "    \n",
    "    pred_y = homework(train_X, train_y, test_X)\n",
    "    print(f1_score(np.argmax(test_y, 1), pred_y, average='macro'))"
   ]
  },
  {
   "cell_type": "code",
   "execution_count": 1,
   "metadata": {
    "collapsed": true,
    "deletable": true,
    "editable": true
   },
   "outputs": [],
   "source": [
    "def homework(train_X, train_y, test_X):\n",
    "    \n",
    "    import numpy as np\n",
    "    import tensorflow as tf \n",
    "    from sklearn.utils import shuffle\n",
    "    from sklearn.metrics import f1_score\n",
    "    from sklearn.datasets import fetch_mldata\n",
    "    from sklearn.model_selection import train_test_split\n",
    "    \n",
    "    # hyperparameter\n",
    "    rng = np.random.RandomState(1234)\n",
    "    random_state = 42\n",
    "    \n",
    "    # method\n",
    "    def one_to_hot(x):\n",
    "        \"\"\"one to hot method\"\"\"\n",
    "        columns = np.unique(x)\n",
    "        X = np.zeros([x.shape[0], len(columns)])\n",
    "        for i, column in enumerate(columns):\n",
    "            X[np.where(x==column), i] = 1\n",
    "        return X\n",
    "\n",
    "    class EarlyStopping(object):\n",
    "        \"\"\"early stopping\"\"\"\n",
    "        \n",
    "        def __init__(self, limit=15):\n",
    "            self.stop_count = 0\n",
    "            self.limit = limit\n",
    "            self.best_validation_loss = float('inf')\n",
    "            \n",
    "        def check(self, loss):\n",
    "            if loss < self.best_validation_loss:\n",
    "                self.best_validation_loss = loss\n",
    "                self.stop_count = 0\n",
    "            else:\n",
    "                self.stop_count += 1\n",
    "            \n",
    "            if self.stop_count > self.limit:\n",
    "                return True\n",
    "            else:\n",
    "                return False\n",
    "\n",
    "    class Conv:\n",
    "        def __init__(self, filter_shape, function=lambda x: x, strides=[1,1,1,1], padding=\"SAME\"):\n",
    "            # Xavier Initialization\n",
    "            fan_in = np.prod(filter_shape[:3])\n",
    "            fan_out = np.prod(filter_shape[:2]) * filter_shape[3]\n",
    "            self.W = tf.Variable(rng.uniform(\n",
    "                            low=-np.sqrt(6/(fan_in + fan_out)),\n",
    "                            high=np.sqrt(6/(fan_in + fan_out)),\n",
    "                            size=filter_shape\n",
    "                        ).astype('float32'), name='W')\n",
    "            self.b = tf.Variable(np.zeros((filter_shape[3]), dtype='float32'), name='b') # バイアスはフィルタごとなので, 出力フィルタ数と同じ次元数\n",
    "            self.function = function\n",
    "            self.strides = strides\n",
    "            self.padding = padding\n",
    "\n",
    "        def f_prop(self, x):\n",
    "            u = tf.nn.conv2d(x, self.W, strides=self.strides, padding=self.padding) + self.b\n",
    "            return self.function(u)\n",
    "\n",
    "    class Pooling:\n",
    "        def __init__(self, ksize=[1,2,2,1], strides=[1,2,2,1], padding=\"SAME\"):\n",
    "            self.ksize = ksize\n",
    "            self.strides = strides\n",
    "            self.padding = padding\n",
    "\n",
    "        def f_prop(self, x):\n",
    "            return tf.nn.max_pool(x, ksize=self.ksize, strides=self.strides, padding=self.padding)\n",
    "        \n",
    "    class Flatten:\n",
    "        def f_prop(self, x):\n",
    "            # prod -> 指定方向の配列の要素の積\n",
    "            return tf.reshape(x, (-1, np.prod(x.get_shape().as_list()[1:])))\n",
    "        \n",
    "    class Dense:\n",
    "        def __init__(self, in_dim, out_dim, function=lambda x: x):\n",
    "            # Xavier Initialization\n",
    "            self.W = tf.Variable(rng.uniform(\n",
    "                            low=-np.sqrt(6/(in_dim + out_dim)),\n",
    "                            high=np.sqrt(6/(in_dim + out_dim)),\n",
    "                            size=(in_dim, out_dim)\n",
    "                        ).astype('float32'), name='W')\n",
    "            self.b = tf.Variable(np.zeros([out_dim]).astype('float32'))\n",
    "            self.function = function\n",
    "\n",
    "        def f_prop(self, x):\n",
    "            return self.function(tf.matmul(x, self.W) + self.b)\n",
    "        \n",
    "    \n",
    "    class ConvolutionNeuralNetwork:\n",
    "    \n",
    "        def __init__(self, layers):\n",
    "            \"\"\"\n",
    "            # :param layers: = [                            # (縦の次元数)x(横の次元数)x(チャネル数)\n",
    "            #                 Conv((5, 5, 1, 20), tf.nn.relu),  # 28x28x 1 -> 24x24x20\n",
    "            #                Pooling((1, 2, 2, 1)),            # 24x24x20 -> 12x12x20\n",
    "            #                 Conv((5, 5, 20, 50), tf.nn.relu), # 12x12x20 ->  8x 8x50\n",
    "            #                 Pooling((1, 2, 2, 1)),            #  8x 8x50 ->  4x 4x50\n",
    "            #                Flatten(),\n",
    "            #                 Dense(4*4*50, 10, tf.nn.softmax)\n",
    "            # ]\n",
    "            \n",
    "            \"\"\"\n",
    "            self.layers = layers\n",
    "            # start session\n",
    "            self.sess = tf.Session()\n",
    "            self.sess.run(tf.global_variables_initializer())\n",
    "            \n",
    "            self.n_epochs = 150\n",
    "            self.batch_size = 100\n",
    "            self.n_batches = train_X.shape[0] // self.batch_size\n",
    "            \n",
    "        def __call__(self, input_shape=[None, 28, 28, 1], target_shape=[None, 10]):\n",
    "            # define graph\n",
    "            self.x = tf.placeholder(tf.float32, input_shape)\n",
    "            self.t = tf.placeholder(tf.float32, target_shape)\n",
    "            self.keep_prob = tf.placeholder(tf.float32)\n",
    "            \n",
    "            #self.cost = -tf.reduce_mean(tf.reduce_sum(self.t * tf.log(self.y), 1))\n",
    "            self.y = self.f_props(self.layers, self.x)\n",
    "            loss = tf.nn.softmax_cross_entropy_with_logits(logits=self.y, labels=self.t)\n",
    "            self.cross_entropy = tf.reduce_mean(loss)\n",
    "            # self.cross_entropy = tf.reduce_mean(-tf.reduce_sum(y_ * tf.log(y), reduction_indices=[1]))\n",
    "            self.train_step = tf.train.AdamOptimizer(1e-4).minimize(self.cross_entropy)\n",
    "            \n",
    "            \n",
    "            self.valid = tf.argmax(self.y, 1)\n",
    "            self.sess.run(tf.global_variables_initializer())\n",
    "            \n",
    "        def f_props(self, layers, x):\n",
    "            params = []\n",
    "            for idx, layer in enumerate(layers):\n",
    "                # dropout\n",
    "                if idx > 0:\n",
    "                    x = tf.nn.dropout(x, self.keep_prob)\n",
    "                x = layer.f_prop(x)\n",
    "                # これextendかな?\n",
    "            return x\n",
    "        \n",
    "        def _train(self, train_X, train_y):\n",
    "            \n",
    "            # start learning\n",
    "            for epoch in range(self.n_epochs):\n",
    "                train_X, train_y = shuffle(train_X, train_y, random_state=random_state)\n",
    "                # batch_train_X, batch_valid_X, batch_train_y, batch_valid_y = train_test_split(train_X, train_y, train_size=0.8, random_state=random_state)\n",
    "                \n",
    "                for i in range(self.n_batches):\n",
    "                    # print(i)\n",
    "                    start = i * self.batch_size\n",
    "                    end = start + self.batch_size\n",
    "                    self.sess.run(self.train_step, feed_dict={self.x: train_X[start:end], self.t: train_y[start:end], self.keep_prob: 0.8})\n",
    "                                 \n",
    "        def predict(self, test_X):\n",
    "            return self.sess.run(self.valid, feed_dict={self.x: test_X, self.keep_prob: 1.0})\n",
    "\n",
    "    # main\n",
    "    #  train_y = one_to_hot(train_y)\n",
    "    layers = [                            # (縦の次元数)x(横の次元数)x(チャネル数)\n",
    "        Conv((5, 5, 1, 32), tf.nn.relu),  # 28x28x 1 -> 24x24x32\n",
    "        Pooling((1, 2, 2, 1)),            # 24x24x32 -> 12x12x32\n",
    "        Conv((5, 5, 32, 64), tf.nn.relu), # 12x12x32 ->  8x 8x64\n",
    "        Pooling((1, 1, 1, 1)),            #  8x 8x64 ->  4x 4x64\n",
    "        Flatten(),\n",
    "        Dense(7*7*64, 1024, tf.nn.relu),\n",
    "        Dense(1024, 10, tf.nn.softmax)\n",
    "    ]\n",
    "    \n",
    "    model = ConvolutionNeuralNetwork(layers)\n",
    "    model()\n",
    "    model._train(train_X, train_y)\n",
    "    pred_y = model.predict(test_X)\n",
    "    model.sess.close()\n",
    "    \n",
    "    return pred_y"
   ]
  },
  {
   "cell_type": "code",
   "execution_count": 3,
   "metadata": {
    "collapsed": false,
    "deletable": true,
    "editable": true
   },
   "outputs": [
    {
     "name": "stdout",
     "output_type": "stream",
     "text": [
      "Extracting MNIST_data/train-images-idx3-ubyte.gz\n",
      "Extracting MNIST_data/train-labels-idx1-ubyte.gz\n",
      "Extracting MNIST_data/t10k-images-idx3-ubyte.gz\n",
      "Extracting MNIST_data/t10k-labels-idx1-ubyte.gz\n",
      "[6 6 9 7 0 0 3 1 3 1 3 0 2 3 2 4 9 1 2 6 8 6 9 2 6 6 7 6 7 6 2 1 3 5 4 3 9\n",
      " 0 0 0 0 8 1 6 7 6 7 9 9 5 5 2 5 1 0 1 4 1 2 0 2 1 1 9 2 3 1 8 6 0 5 7 7 0\n",
      " 6 5 7 3 5 1 0 3 8 6 0 3 7 3 7 8 6 7 7 7 0 2 0 0 1 5]\n",
      "0.946031746032\n"
     ]
    }
   ],
   "source": [
    "validate_homework()"
   ]
  },
  {
   "cell_type": "code",
   "execution_count": null,
   "metadata": {
    "collapsed": true,
    "deletable": true,
    "editable": true
   },
   "outputs": [],
   "source": []
  }
 ],
 "metadata": {
  "kernelspec": {
   "display_name": "Python 3",
   "language": "python",
   "name": "python3"
  },
  "language_info": {
   "codemirror_mode": {
    "name": "ipython",
    "version": 3
   },
   "file_extension": ".py",
   "mimetype": "text/x-python",
   "name": "python",
   "nbconvert_exporter": "python",
   "pygments_lexer": "ipython3",
   "version": "3.4.3"
  }
 },
 "nbformat": 4,
 "nbformat_minor": 1
}
