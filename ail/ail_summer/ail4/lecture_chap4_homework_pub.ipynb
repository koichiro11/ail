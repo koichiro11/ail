{
 "cells": [
  {
   "cell_type": "markdown",
   "metadata": {
    "deletable": true,
    "editable": true
   },
   "source": [
    "# 第4回講義 宿題"
   ]
  },
  {
   "cell_type": "markdown",
   "metadata": {
    "collapsed": true,
    "deletable": true,
    "editable": true
   },
   "source": [
    "## 課題. MNISTデータセットを多層パーセプトロン(MLP)で学習せよ"
   ]
  },
  {
   "cell_type": "markdown",
   "metadata": {
    "deletable": true,
    "editable": true
   },
   "source": [
    "### 注意\n",
    "- homework関数を完成させて提出してください\n",
    "    - 訓練データはtrain_X, train_y, テストデータはtest_Xで与えられます\n",
    "    - train_Xとtrain_yをtrain_X, train_yとvalid_X, valid_yに分けるなどしてモデルを学習させてください\n",
    "    - test_Xに対して予想ラベルpred_yを作り, homework関数の戻り値としてください\\\n",
    "- pred_yのtest_yに対する精度(F値)で評価します\n",
    "- 全体の実行時間がiLect上で60分を超えないようにしてください\n",
    "- homework関数の外には何も書かないでください (必要なものは全てhomework関数に入れてください)\n",
    "- 解答提出時には Answer Cell の内容のみを提出してください"
   ]
  },
  {
   "cell_type": "markdown",
   "metadata": {
    "deletable": true,
    "editable": true
   },
   "source": [
    "- MLPの実装にTensorflowなどのライブラリを使わないでください"
   ]
  },
  {
   "cell_type": "markdown",
   "metadata": {
    "deletable": true,
    "editable": true
   },
   "source": [
    "### ヒント\n",
    "- 出力yはone-of-k表現\n",
    "- 最終層の活性化関数はソフトマックス関数, 誤差関数は多クラス交差エントロピー\n",
    "- 最終層のデルタは教科書参照"
   ]
  },
  {
   "cell_type": "markdown",
   "metadata": {
    "deletable": true,
    "editable": true
   },
   "source": [
    "次のセルのhomework関数を完成させて提出してください"
   ]
  },
  {
   "cell_type": "markdown",
   "metadata": {
    "deletable": true,
    "editable": true
   },
   "source": [
    "# Answer Cell"
   ]
  },
  {
   "cell_type": "code",
   "execution_count": 1,
   "metadata": {
    "collapsed": false,
    "deletable": false,
    "editable": true,
    "ilect": {
     "is_homework": true
    }
   },
   "outputs": [],
   "source": [
    "def homework(_train_X, _train_Y, test_X):\n",
    "    import copy \n",
    "    # hyperparameter \n",
    "    batch = 20\n",
    "    eps=0.01\n",
    "    \n",
    "    # method\n",
    "    def one_to_hot(x):\n",
    "        \"\"\"one to hot method\"\"\"\n",
    "        columns = np.unique(x)\n",
    "        X = np.zeros([x.shape[0], len(columns)])\n",
    "        for i, column in enumerate(columns):\n",
    "            X[np.where(x==column), i] = 1\n",
    "        return X\n",
    "\n",
    "    def softmax(x):\n",
    "        \"\"\"softmax\"\"\"\n",
    "        exp_x = np.exp(x)\n",
    "        return exp_x/np.sum(exp_x, axis=1, keepdims=True)\n",
    "\n",
    "    def deriv_softmax(x):\n",
    "        \"\"\"derive of softmax\"\"\"\n",
    "        return softmax(x)*(1 - softmax(x))\n",
    "    \n",
    "    def tanh(x):\n",
    "        \"\"\"tanh\"\"\"\n",
    "        return np.tanh(x)\n",
    "\n",
    "    def deriv_tanh(x):\n",
    "        \"\"\"derive of tanh\"\"\"\n",
    "        return 1 - tanh(x)**2\n",
    "    \n",
    "    def train(x, t, W1, b1, W2, b2, W3, b3, eps=0.01):\n",
    "        \"\"\"train method\"\"\"\n",
    "            \n",
    "        # Forward Propagation Layer1\n",
    "        u1 = np.matmul(x, W1) + b1\n",
    "        z1 = tanh(u1)\n",
    "\n",
    "        # Forward Propagation Layer2\n",
    "        u2 = np.matmul(z1, W2) + b2\n",
    "        z2 = tanh(u2)\n",
    "        \n",
    "        # Forward Propagation Layer3\n",
    "        u3 = np.matmul(z2, W3) + b3\n",
    "        z3 = softmax(u3)\n",
    "\n",
    "        # Back Propagation (Cost Function: Negative Loglikelihood)\n",
    "        y = z3\n",
    "        cost = np.sum(-t*np.log(y) - (1 - t)*np.log(1 - y))\n",
    "        \n",
    "        # 下のように出力層の活性化関数の微分もかけた方が精度がずっとよくなる\n",
    "        delta_3 = deriv_softmax(u3)*(y - t) # Layer3 delta\n",
    "        # delta_3 = (y - t) # Layer3 delta\n",
    "        delta_2 = deriv_tanh(u2) * np.matmul(delta_3, W3.T) # Layer2 delta\n",
    "        delta_1 = deriv_tanh(u1) * np.matmul(delta_2, W2.T) # Layer2 delta\n",
    "\n",
    "        # Update Parameters Layer1\n",
    "        dW1 = np.matmul(x.T, delta_1)\n",
    "        db1 = np.matmul(np.ones(len(x)), delta_1)\n",
    "        W1 = W1 - eps*dW1\n",
    "        b1 = b1 - eps*db1\n",
    "\n",
    "        # Update Parameters Layer2\n",
    "        dW2 = np.matmul(z1.T, delta_2)\n",
    "        db2 = np.matmul(np.ones(len(z1)), delta_2)\n",
    "        W2 = W2 - eps*dW2\n",
    "        b2 = b2 - eps*db2\n",
    "        \n",
    "        # Update Parameters Layer3\n",
    "        dW3 = np.matmul(z2.T, delta_3)\n",
    "        db3 = np.matmul(np.ones(len(z2)), delta_3)\n",
    "        W3 = W3 - eps*dW3\n",
    "        b3 = b3 - eps*db3\n",
    "\n",
    "        return cost, W1, b1, W2, b2, W3, b3\n",
    "    \n",
    "    def validation(x, t):\n",
    "        # Forward Propagation Layer1\n",
    "        u1 = np.matmul(x, W1) + b1\n",
    "        z1 = tanh(u1)\n",
    "\n",
    "        # Forward Propagation Layer2\n",
    "        u2 = np.matmul(z1, W2) + b2\n",
    "        z2 = tanh(u2)\n",
    "\n",
    "        # Forward Propagation Layer3\n",
    "        u3 = np.matmul(z2, W3) + b3\n",
    "        z3 = softmax(u3)\n",
    "\n",
    "        y = z3\n",
    "        \n",
    "        # validation Cost\n",
    "        cost = np.sum(-t*np.log(y)-(1-t)*np.log(1-y))\n",
    "        return cost\n",
    "    \n",
    "    def predict(x):\n",
    "        # Forward Propagation Layer1\n",
    "        u1 = np.matmul(x, W1) + b1\n",
    "        z1 = tanh(u1)\n",
    "\n",
    "        # Forward Propagation Layer2\n",
    "        u2 = np.matmul(z1, W2) + b2\n",
    "        z2 = tanh(u2)\n",
    "\n",
    "        # Forward Propagation Layer3\n",
    "        u3 = np.matmul(z2, W3) + b3\n",
    "        z3 = softmax(u3)\n",
    "\n",
    "        y = z3\n",
    "        \n",
    "        return y\n",
    "    \n",
    "    # main\n",
    "    _train_Y = one_to_hot(_train_Y)\n",
    "    num = _train_Y.shape[0]\n",
    "    validation_num = int(_train_Y.shape[0] / 10)\n",
    "    \n",
    "    # layer setting\n",
    "    len_columns = test_X.shape[1]\n",
    "    len_categories = _train_Y.shape[1]\n",
    "    # Layer1 weights\n",
    "    W1 = np.random.uniform(low=-0.08, high=0.08, size=(len_columns, 100)).astype('float32')\n",
    "    b1 = np.zeros(100).astype('float32')\n",
    "    \n",
    "    # Layer2 weights\n",
    "    W2 = np.random.uniform(low=-0.08, high=0.08, size=(100, 50)).astype('float32')\n",
    "    b2 = np.zeros(50).astype('float32')\n",
    "\n",
    "    # Layer3 weights\n",
    "    W3 = np.random.uniform(low=-0.08, high=0.08, size=(50, len_categories)).astype('float32')\n",
    "    b3 = np.zeros(len_categories).astype('float32')\n",
    "    \n",
    "    # train\n",
    "    validation_cost_min = float(\"inf\")\n",
    "    early_stopping_count = 0\n",
    "    for epoch in range(1000):\n",
    "        if epoch%5 == 0:\n",
    "            validation_index = np.random.randint(0, num, validation_num)\n",
    "            validation_X = copy.deepcopy(_train_X[validation_index,:])\n",
    "            ind = np.ones(num, dtype=bool)\n",
    "            ind[validation_index] = False\n",
    "            train_X = copy.deepcopy(_train_X [ind, :])\n",
    "            validation_y = copy.deepcopy(_train_Y[validation_index, :])\n",
    "            train_y = copy.deepcopy(_train_Y[ind, :])\n",
    "        # batch learning\n",
    "        for n in range(0,  train_X.shape[0], batch):\n",
    "            _train_x, _train_y = train_X[n:n+batch], train_y[n:n+batch]\n",
    "            _cost, W1, b1, W2, b2, W3, b3 = train(_train_x, _train_y, W1, b1, W2, b2, W3, b3, eps=eps)\n",
    "            \n",
    "        if epoch%5 == 0:\n",
    "            validation_cost = validation(validation_X, validation_y)\n",
    "            if validation_cost_min < validation_cost:\n",
    "                # print(epoch)\n",
    "                # print(validation_cost)\n",
    "                early_stopping_count += 1\n",
    "            else:\n",
    "                early_stopping_count = 0\n",
    "                validation_cost_min = validation_cost\n",
    "        \n",
    "        if early_stopping_count > 5:\n",
    "            # print(\"break\")\n",
    "            break\n",
    "\n",
    "    pred_y = predict(test_X)\n",
    "    # print(pred_y)\n",
    "\n",
    "    return pred_y.argmax(axis=1)"
   ]
  },
  {
   "cell_type": "markdown",
   "metadata": {
    "deletable": true,
    "editable": true
   },
   "source": [
    "- 以下のvalidate_homework関数を用いてエラーが起きないか動作確認をして下さい。\n",
    "- 提出に際して、score_homework関数で60分で実行が終わることを確認して下さい。\n",
    "- 評価は以下のscore_homework関数で行われますが、random_stateの値は変更されます。"
   ]
  },
  {
   "cell_type": "markdown",
   "metadata": {
    "deletable": true,
    "editable": true
   },
   "source": [
    "# Checker Cell (for student)"
   ]
  },
  {
   "cell_type": "code",
   "execution_count": 2,
   "metadata": {
    "collapsed": false,
    "deletable": false,
    "editable": true,
    "ilect": {
     "course_id": 4,
     "course_rank": 4,
     "is_evaluation": true
    }
   },
   "outputs": [],
   "source": [
    "from sklearn.utils import shuffle\n",
    "from sklearn.metrics import f1_score\n",
    "from sklearn.datasets import fetch_mldata\n",
    "from sklearn.model_selection import train_test_split\n",
    "import time \n",
    "\n",
    "import numpy as np\n",
    "\n",
    "def load_mnist():\n",
    "    mnist = fetch_mldata('MNIST original')\n",
    "    mnist_X, mnist_y = shuffle(mnist.data.astype('float32'),\n",
    "                               mnist.target.astype('int32'), random_state=42)\n",
    "\n",
    "    mnist_X = mnist_X / 255.0\n",
    "\n",
    "    return train_test_split(mnist_X, mnist_y,\n",
    "                test_size=0.2,\n",
    "                random_state=42)\n",
    "\n",
    "def validate_homework():\n",
    "    train_X, test_X, train_y, test_y = load_mnist()\n",
    "\n",
    "    # validate for small dataset\n",
    "    train_X_mini = train_X[:1000]\n",
    "    train_y_mini = train_y[:1000]\n",
    "    test_X_mini = test_X[:100]\n",
    "    test_y_mini = test_y[:100]\n",
    "\n",
    "    pred_y = homework(train_X_mini, train_y_mini, test_X_mini)\n",
    "    print(f1_score(test_y_mini, pred_y, average='macro'))\n",
    "\n",
    "def score_homework():\n",
    "    train_X, test_X, train_y, test_y = load_mnist()\n",
    "    pred_y = homework(train_X, train_y, test_X)\n",
    "    print(f1_score(test_y, pred_y, average='macro'))"
   ]
  },
  {
   "cell_type": "code",
   "execution_count": 7,
   "metadata": {
    "collapsed": false,
    "deletable": true,
    "editable": true
   },
   "outputs": [
    {
     "name": "stdout",
     "output_type": "stream",
     "text": [
      "25\n",
      "57.6591455428\n",
      "40\n",
      "23.8518824097\n",
      "50\n",
      "37.5896594737\n",
      "65\n",
      "12.0812161727\n",
      "70\n",
      "10.5694509892\n",
      "80\n",
      "26.4484350524\n",
      "90\n",
      "6.33613062895\n",
      "100\n",
      "4.94313083635\n",
      "105\n",
      "6.15635383415\n",
      "110\n",
      "5.31009110126\n",
      "125\n",
      "5.14861063166\n",
      "130\n",
      "4.91121832753\n",
      "135\n",
      "4.56079583582\n",
      "140\n",
      "4.82649019391\n",
      "145\n",
      "4.40783669766\n",
      "150\n",
      "4.47760207595\n",
      "0.841292202208\n",
      "7.034273862838745\n"
     ]
    }
   ],
   "source": [
    "start = time.time()\n",
    "validate_homework()\n",
    "end = time.time()\n",
    "print(end-start)\n",
    "# score_homework()"
   ]
  },
  {
   "cell_type": "code",
   "execution_count": 3,
   "metadata": {
    "collapsed": false,
    "deletable": true,
    "editable": true
   },
   "outputs": [
    {
     "name": "stdout",
     "output_type": "stream",
     "text": [
      "45\n",
      "223.982163285\n",
      "55\n",
      "116.743696131\n",
      "60\n",
      "169.917430143\n",
      "65\n",
      "96.3490784865\n",
      "70\n",
      "216.002913126\n",
      "75\n",
      "113.408338462\n",
      "80\n",
      "148.752564938\n",
      "0.976366185955\n",
      "206.42156267166138\n"
     ]
    }
   ],
   "source": [
    "start = time.time()\n",
    "score_homework()\n",
    "end = time.time()\n",
    "print(end-start)"
   ]
  },
  {
   "cell_type": "markdown",
   "metadata": {
    "deletable": true,
    "editable": true
   },
   "source": [
    "1.20079128646\n",
    "0.646603966863\n",
    "0.509422359096\n",
    "0.41167448721\n",
    "0.345116980671\n",
    "0.303201268896\n",
    "0.273704189566\n",
    "0.248743505878\n",
    "0.305688774066\n",
    "0.869893914823"
   ]
  },
  {
   "cell_type": "code",
   "execution_count": null,
   "metadata": {
    "collapsed": true,
    "deletable": true,
    "editable": true
   },
   "outputs": [],
   "source": [
    "train_x, test_x, train_y, test_y = load_mnist()"
   ]
  },
  {
   "cell_type": "code",
   "execution_count": null,
   "metadata": {
    "collapsed": true,
    "deletable": true,
    "editable": true
   },
   "outputs": [],
   "source": [
    "# self validation"
   ]
  },
  {
   "cell_type": "code",
   "execution_count": null,
   "metadata": {
    "collapsed": true,
    "deletable": true,
    "editable": true
   },
   "outputs": [],
   "source": [
    "import matplotlib.pyplot as plt\n",
    "\n",
    "# グラフをipython notebook内に表示\n",
    "%matplotlib inline"
   ]
  },
  {
   "cell_type": "code",
   "execution_count": null,
   "metadata": {
    "collapsed": false,
    "deletable": true,
    "editable": true
   },
   "outputs": [],
   "source": [
    "def self_validate_homework():\n",
    "    train_X, test_X, train_y, test_y = load_mnist()\n",
    "\n",
    "    # validate for small dataset\n",
    "    train_X_mini = train_X[:100]\n",
    "    train_y_mini = train_y[:100]\n",
    "    test_X_mini = test_X[:100]\n",
    "    test_y_mini = test_y[:100]\n",
    "\n",
    "    pred_y, costs = homework(train_X_mini, train_y_mini, test_X_mini)\n",
    "    print(f1_score(test_y_mini, pred_y, average='macro'))\n",
    "    plt.plot(np.arange(len(costs)), costs)\n",
    "    "
   ]
  },
  {
   "cell_type": "code",
   "execution_count": null,
   "metadata": {
    "collapsed": false,
    "deletable": true,
    "editable": true
   },
   "outputs": [],
   "source": [
    "self_validate_homework()"
   ]
  },
  {
   "cell_type": "code",
   "execution_count": null,
   "metadata": {
    "collapsed": false,
    "deletable": true,
    "editable": true
   },
   "outputs": [],
   "source": [
    "def one_to_hot(x):\n",
    "    columns = np.unique(x)\n",
    "    X = np.zeros([x.shape[0], len(columns)])\n",
    "    for i, column in enumerate(columns):\n",
    "        X[np.where(x==column), i] = 1\n",
    "    return X"
   ]
  },
  {
   "cell_type": "code",
   "execution_count": null,
   "metadata": {
    "collapsed": false,
    "deletable": true,
    "editable": true
   },
   "outputs": [],
   "source": [
    "one_to_hot(test_y)[0]"
   ]
  },
  {
   "cell_type": "code",
   "execution_count": null,
   "metadata": {
    "collapsed": false,
    "deletable": true,
    "editable": true
   },
   "outputs": [],
   "source": [
    "len(np.where(test_y==0)[0])"
   ]
  },
  {
   "cell_type": "code",
   "execution_count": null,
   "metadata": {
    "collapsed": false,
    "deletable": true,
    "editable": true
   },
   "outputs": [],
   "source": [
    "test_x[0].min()"
   ]
  },
  {
   "cell_type": "code",
   "execution_count": null,
   "metadata": {
    "collapsed": false,
    "deletable": true,
    "editable": true
   },
   "outputs": [],
   "source": [
    "train_x.shape"
   ]
  },
  {
   "cell_type": "code",
   "execution_count": null,
   "metadata": {
    "collapsed": true,
    "deletable": true,
    "editable": true
   },
   "outputs": [],
   "source": [
    "a = np.arange(7)"
   ]
  },
  {
   "cell_type": "code",
   "execution_count": null,
   "metadata": {
    "collapsed": false,
    "deletable": true,
    "editable": true
   },
   "outputs": [],
   "source": [
    "ind = np.ones(7, dtype=bool)\n",
    "ind[3] = False"
   ]
  },
  {
   "cell_type": "code",
   "execution_count": null,
   "metadata": {
    "collapsed": false,
    "deletable": true,
    "editable": true
   },
   "outputs": [],
   "source": [
    "a[ind]"
   ]
  },
  {
   "cell_type": "code",
   "execution_count": null,
   "metadata": {
    "collapsed": true,
    "deletable": true,
    "editable": true
   },
   "outputs": [],
   "source": []
  }
 ],
 "metadata": {
  "anaconda-cloud": {},
  "kernelspec": {
   "display_name": "Python 3",
   "language": "python",
   "name": "python3"
  },
  "language_info": {
   "codemirror_mode": {
    "name": "ipython",
    "version": 3
   },
   "file_extension": ".py",
   "mimetype": "text/x-python",
   "name": "python",
   "nbconvert_exporter": "python",
   "pygments_lexer": "ipython3",
   "version": "3.4.3"
  }
 },
 "nbformat": 4,
 "nbformat_minor": 0
}
