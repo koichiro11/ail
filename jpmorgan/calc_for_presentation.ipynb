{
 "cells": [
  {
   "cell_type": "markdown",
   "metadata": {},
   "source": [
    "# 発表資料用データ作成"
   ]
  },
  {
   "cell_type": "markdown",
   "metadata": {},
   "source": [
    "- 内需と外需の変化\n",
    "    -  すでに内需株が上がっていることを示す \n",
    "-  為替との相関\n",
    "-  "
   ]
  },
  {
   "cell_type": "markdown",
   "metadata": {},
   "source": [
    "### 内需と外需の変化"
   ]
  },
  {
   "cell_type": "code",
   "execution_count": 1,
   "metadata": {
    "collapsed": false
   },
   "outputs": [],
   "source": [
    "%matplotlib inline\n",
    "import matplotlib\n",
    "import matplotlib.pyplot as plt\n",
    "import pandas as pd \n",
    "import mysql.connector\n",
    "\n",
    "import db_info"
   ]
  },
  {
   "cell_type": "code",
   "execution_count": 2,
   "metadata": {
    "collapsed": false
   },
   "outputs": [],
   "source": [
    "con_fund = mysql.connector.connect(user=db_info.user, password=db_info.passwd,\n",
    "                                  host=db_info.host, database=db_info.db_fund, charset='utf8')"
   ]
  },
  {
   "cell_type": "markdown",
   "metadata": {},
   "source": [
    "### sector分類\n",
    "[関連株とセクター株分類](http://www.netgokui.com/kabuhajimete/sectorkanren.html)"
   ]
  },
  {
   "cell_type": "markdown",
   "metadata": {},
   "source": [
    "#### 外需株の対象sector"
   ]
  },
  {
   "cell_type": "markdown",
   "metadata": {},
   "source": [
    "- 卸売\n",
    "- 機械\n",
    "- 電気機器\n",
    "- 精密機器\n",
    "- 輸送用機器"
   ]
  },
  {
   "cell_type": "markdown",
   "metadata": {},
   "source": [
    "#### 内需株の対象のsector\n",
    "- 情報通信\n",
    "- 小売\n",
    "- 不動産\n",
    "- 建設\n",
    "- サービス\n",
    "- 倉庫・運輸\n",
    "- 電気・ガス\n"
   ]
  },
  {
   "cell_type": "code",
   "execution_count": 3,
   "metadata": {
    "collapsed": true
   },
   "outputs": [],
   "source": [
    "sql = \"\"\"\n",
    "         SELECT code, name FROM stock_info \n",
    "         WHERE (`sector`= '卸売' OR '機械' OR '電気機器' OR '精密機器' OR '輸送用機器') \n",
    "         AND listed_date < '2007-08-21';\n",
    "         \n",
    "         \"\"\"\n",
    "\n",
    "df_out = pd.read_sql(sql, con_fund)"
   ]
  },
  {
   "cell_type": "code",
   "execution_count": 4,
   "metadata": {
    "collapsed": false
   },
   "outputs": [
    {
     "data": {
      "text/html": [
       "<div>\n",
       "<table border=\"1\" class=\"dataframe\">\n",
       "  <thead>\n",
       "    <tr style=\"text-align: right;\">\n",
       "      <th></th>\n",
       "      <th>code</th>\n",
       "      <th>name</th>\n",
       "    </tr>\n",
       "  </thead>\n",
       "  <tbody>\n",
       "    <tr>\n",
       "      <th>0</th>\n",
       "      <td>1352</td>\n",
       "      <td>ホウスイ</td>\n",
       "    </tr>\n",
       "    <tr>\n",
       "      <th>1</th>\n",
       "      <td>2654</td>\n",
       "      <td>アスモ</td>\n",
       "    </tr>\n",
       "    <tr>\n",
       "      <th>2</th>\n",
       "      <td>2667</td>\n",
       "      <td>イメージワン</td>\n",
       "    </tr>\n",
       "    <tr>\n",
       "      <th>3</th>\n",
       "      <td>2668</td>\n",
       "      <td>タビオ</td>\n",
       "    </tr>\n",
       "    <tr>\n",
       "      <th>4</th>\n",
       "      <td>2676</td>\n",
       "      <td>高千穂交易</td>\n",
       "    </tr>\n",
       "  </tbody>\n",
       "</table>\n",
       "</div>"
      ],
      "text/plain": [
       "   code    name\n",
       "0  1352    ホウスイ\n",
       "1  2654     アスモ\n",
       "2  2667  イメージワン\n",
       "3  2668     タビオ\n",
       "4  2676   高千穂交易"
      ]
     },
     "execution_count": 4,
     "metadata": {},
     "output_type": "execute_result"
    }
   ],
   "source": [
    "df_out.head()"
   ]
  },
  {
   "cell_type": "code",
   "execution_count": 5,
   "metadata": {
    "collapsed": false
   },
   "outputs": [
    {
     "data": {
      "text/plain": [
       "(290, 2)"
      ]
     },
     "execution_count": 5,
     "metadata": {},
     "output_type": "execute_result"
    }
   ],
   "source": [
    "df_out.shape"
   ]
  },
  {
   "cell_type": "code",
   "execution_count": 6,
   "metadata": {
    "collapsed": true
   },
   "outputs": [],
   "source": [
    "sql = \"\"\"\n",
    "         SELECT code, name FROM stock_info \n",
    "         WHERE (`sector`= '情報通信' OR '小売' OR '不動産' OR '建設' OR 'サービス' OR '倉庫・運輸' OR '電気・ガス') \n",
    "         AND listed_date < '2007-08-21';\n",
    "         \"\"\"\n",
    "\n",
    "df_in = pd.read_sql(sql, con_fund)"
   ]
  },
  {
   "cell_type": "code",
   "execution_count": 7,
   "metadata": {
    "collapsed": false
   },
   "outputs": [
    {
     "data": {
      "text/html": [
       "<div>\n",
       "<table border=\"1\" class=\"dataframe\">\n",
       "  <thead>\n",
       "    <tr style=\"text-align: right;\">\n",
       "      <th></th>\n",
       "      <th>code</th>\n",
       "      <th>name</th>\n",
       "    </tr>\n",
       "  </thead>\n",
       "  <tbody>\n",
       "    <tr>\n",
       "      <th>0</th>\n",
       "      <td>1973</td>\n",
       "      <td>NECネッツエスアイ</td>\n",
       "    </tr>\n",
       "    <tr>\n",
       "      <th>1</th>\n",
       "      <td>2138</td>\n",
       "      <td>クルーズ</td>\n",
       "    </tr>\n",
       "    <tr>\n",
       "      <th>2</th>\n",
       "      <td>2303</td>\n",
       "      <td>ドーン</td>\n",
       "    </tr>\n",
       "    <tr>\n",
       "      <th>3</th>\n",
       "      <td>2307</td>\n",
       "      <td>クロスキャット</td>\n",
       "    </tr>\n",
       "    <tr>\n",
       "      <th>4</th>\n",
       "      <td>2315</td>\n",
       "      <td>SJI</td>\n",
       "    </tr>\n",
       "  </tbody>\n",
       "</table>\n",
       "</div>"
      ],
      "text/plain": [
       "   code        name\n",
       "0  1973  NECネッツエスアイ\n",
       "1  2138        クルーズ\n",
       "2  2303         ドーン\n",
       "3  2307     クロスキャット\n",
       "4  2315         SJI"
      ]
     },
     "execution_count": 7,
     "metadata": {},
     "output_type": "execute_result"
    }
   ],
   "source": [
    "df_in.head()"
   ]
  },
  {
   "cell_type": "code",
   "execution_count": 8,
   "metadata": {
    "collapsed": false
   },
   "outputs": [
    {
     "data": {
      "text/plain": [
       "(250, 2)"
      ]
     },
     "execution_count": 8,
     "metadata": {},
     "output_type": "execute_result"
    }
   ],
   "source": [
    "df_in.shape"
   ]
  },
  {
   "cell_type": "code",
   "execution_count": 9,
   "metadata": {
    "collapsed": true
   },
   "outputs": [],
   "source": [
    "con_fund.close()"
   ]
  },
  {
   "cell_type": "code",
   "execution_count": 10,
   "metadata": {
    "collapsed": true
   },
   "outputs": [],
   "source": [
    "con_price = mysql.connector.connect(user=db_info.user, password=db_info.passwd,\n",
    "                                  host=db_info.host, database=db_info.db_price, charset='utf8')"
   ]
  },
  {
   "cell_type": "code",
   "execution_count": 11,
   "metadata": {
    "collapsed": false
   },
   "outputs": [],
   "source": [
    "# 外需株データを取得\n",
    "df_outs_list = [] \n",
    "df_outs_deviate_list = []\n",
    "for code in df_out[\"code\"]:\n",
    "    table_name = str(code) + \".T\"\n",
    "    sql = \"\"\"\n",
    "             SELECT date, adjusted_closing_price, deviationrate_75 FROM `{table_name}` WHERE date >'2007-08-21';\n",
    "             \"\"\".format(table_name=table_name)\n",
    "    df = pd.read_sql(sql, con_price, index_col=\"date\")\n",
    "    df.columns = [str(code), str(code) + \"_dev_75\"]\n",
    "    df_outs_list.append(pd.DataFrame(df[str(code)]))\n",
    "    df_outs_deviate_list.append(pd.DataFrame(df[str(code) + \"_dev_75\"]))\n",
    "\n",
    "df_outs = pd.concat(df_outs_list, axis=1).fillna(method=\"bfill\")\n",
    "df_outs_dev = pd.concat(df_outs_deviate_list, axis=1).fillna(method=\"bfill\")"
   ]
  },
  {
   "cell_type": "code",
   "execution_count": 12,
   "metadata": {
    "collapsed": false
   },
   "outputs": [
    {
     "data": {
      "text/html": [
       "<div>\n",
       "<table border=\"1\" class=\"dataframe\">\n",
       "  <thead>\n",
       "    <tr style=\"text-align: right;\">\n",
       "      <th></th>\n",
       "      <th>1352</th>\n",
       "      <th>2654</th>\n",
       "      <th>2667</th>\n",
       "      <th>2668</th>\n",
       "      <th>2676</th>\n",
       "      <th>2689</th>\n",
       "      <th>2692</th>\n",
       "      <th>2693</th>\n",
       "      <th>2700</th>\n",
       "      <th>2703</th>\n",
       "      <th>...</th>\n",
       "      <th>9964</th>\n",
       "      <th>9967</th>\n",
       "      <th>9972</th>\n",
       "      <th>9982</th>\n",
       "      <th>9986</th>\n",
       "      <th>9987</th>\n",
       "      <th>9991</th>\n",
       "      <th>9992</th>\n",
       "      <th>9995</th>\n",
       "      <th>9996</th>\n",
       "    </tr>\n",
       "  </thead>\n",
       "  <tbody>\n",
       "    <tr>\n",
       "      <th>2007-08-22</th>\n",
       "      <td>160.0</td>\n",
       "      <td>100.0</td>\n",
       "      <td>402.0</td>\n",
       "      <td>1580.0</td>\n",
       "      <td>1555.0</td>\n",
       "      <td>1403.0</td>\n",
       "      <td>3450.0</td>\n",
       "      <td>395.0</td>\n",
       "      <td>322.0</td>\n",
       "      <td>510.0</td>\n",
       "      <td>...</td>\n",
       "      <td>1216.0</td>\n",
       "      <td>294.0</td>\n",
       "      <td>398.0</td>\n",
       "      <td>411.0</td>\n",
       "      <td>1053.0</td>\n",
       "      <td>3040.91</td>\n",
       "      <td>619.0</td>\n",
       "      <td>262.0</td>\n",
       "      <td>383.0</td>\n",
       "      <td>1070.0</td>\n",
       "    </tr>\n",
       "    <tr>\n",
       "      <th>2007-08-23</th>\n",
       "      <td>160.0</td>\n",
       "      <td>100.0</td>\n",
       "      <td>415.0</td>\n",
       "      <td>1680.0</td>\n",
       "      <td>1585.0</td>\n",
       "      <td>1403.0</td>\n",
       "      <td>3500.0</td>\n",
       "      <td>397.0</td>\n",
       "      <td>326.0</td>\n",
       "      <td>511.0</td>\n",
       "      <td>...</td>\n",
       "      <td>1290.0</td>\n",
       "      <td>306.0</td>\n",
       "      <td>404.0</td>\n",
       "      <td>411.0</td>\n",
       "      <td>1040.0</td>\n",
       "      <td>3040.91</td>\n",
       "      <td>646.0</td>\n",
       "      <td>269.0</td>\n",
       "      <td>412.5</td>\n",
       "      <td>1090.0</td>\n",
       "    </tr>\n",
       "    <tr>\n",
       "      <th>2007-08-24</th>\n",
       "      <td>157.0</td>\n",
       "      <td>94.0</td>\n",
       "      <td>422.0</td>\n",
       "      <td>1770.0</td>\n",
       "      <td>1563.0</td>\n",
       "      <td>1413.0</td>\n",
       "      <td>3540.0</td>\n",
       "      <td>394.0</td>\n",
       "      <td>326.0</td>\n",
       "      <td>522.0</td>\n",
       "      <td>...</td>\n",
       "      <td>1231.0</td>\n",
       "      <td>306.0</td>\n",
       "      <td>407.0</td>\n",
       "      <td>411.0</td>\n",
       "      <td>1030.0</td>\n",
       "      <td>3040.91</td>\n",
       "      <td>637.0</td>\n",
       "      <td>270.0</td>\n",
       "      <td>414.5</td>\n",
       "      <td>1090.0</td>\n",
       "    </tr>\n",
       "    <tr>\n",
       "      <th>2007-08-27</th>\n",
       "      <td>160.0</td>\n",
       "      <td>94.0</td>\n",
       "      <td>415.5</td>\n",
       "      <td>1789.0</td>\n",
       "      <td>1579.0</td>\n",
       "      <td>1458.0</td>\n",
       "      <td>3550.0</td>\n",
       "      <td>398.0</td>\n",
       "      <td>334.0</td>\n",
       "      <td>536.0</td>\n",
       "      <td>...</td>\n",
       "      <td>1185.0</td>\n",
       "      <td>306.0</td>\n",
       "      <td>406.0</td>\n",
       "      <td>411.0</td>\n",
       "      <td>1030.0</td>\n",
       "      <td>3040.91</td>\n",
       "      <td>639.0</td>\n",
       "      <td>265.0</td>\n",
       "      <td>414.5</td>\n",
       "      <td>1125.0</td>\n",
       "    </tr>\n",
       "    <tr>\n",
       "      <th>2007-08-28</th>\n",
       "      <td>160.0</td>\n",
       "      <td>94.0</td>\n",
       "      <td>430.0</td>\n",
       "      <td>1850.0</td>\n",
       "      <td>1577.0</td>\n",
       "      <td>1490.0</td>\n",
       "      <td>3570.0</td>\n",
       "      <td>393.0</td>\n",
       "      <td>340.0</td>\n",
       "      <td>570.0</td>\n",
       "      <td>...</td>\n",
       "      <td>1170.0</td>\n",
       "      <td>306.0</td>\n",
       "      <td>436.0</td>\n",
       "      <td>411.0</td>\n",
       "      <td>1025.0</td>\n",
       "      <td>3040.91</td>\n",
       "      <td>638.0</td>\n",
       "      <td>267.0</td>\n",
       "      <td>412.5</td>\n",
       "      <td>1085.0</td>\n",
       "    </tr>\n",
       "  </tbody>\n",
       "</table>\n",
       "<p>5 rows × 290 columns</p>\n",
       "</div>"
      ],
      "text/plain": [
       "             1352   2654   2667    2668    2676    2689    2692   2693   2700  \\\n",
       "2007-08-22  160.0  100.0  402.0  1580.0  1555.0  1403.0  3450.0  395.0  322.0   \n",
       "2007-08-23  160.0  100.0  415.0  1680.0  1585.0  1403.0  3500.0  397.0  326.0   \n",
       "2007-08-24  157.0   94.0  422.0  1770.0  1563.0  1413.0  3540.0  394.0  326.0   \n",
       "2007-08-27  160.0   94.0  415.5  1789.0  1579.0  1458.0  3550.0  398.0  334.0   \n",
       "2007-08-28  160.0   94.0  430.0  1850.0  1577.0  1490.0  3570.0  393.0  340.0   \n",
       "\n",
       "             2703   ...      9964   9967   9972   9982    9986     9987  \\\n",
       "2007-08-22  510.0   ...    1216.0  294.0  398.0  411.0  1053.0  3040.91   \n",
       "2007-08-23  511.0   ...    1290.0  306.0  404.0  411.0  1040.0  3040.91   \n",
       "2007-08-24  522.0   ...    1231.0  306.0  407.0  411.0  1030.0  3040.91   \n",
       "2007-08-27  536.0   ...    1185.0  306.0  406.0  411.0  1030.0  3040.91   \n",
       "2007-08-28  570.0   ...    1170.0  306.0  436.0  411.0  1025.0  3040.91   \n",
       "\n",
       "             9991   9992   9995    9996  \n",
       "2007-08-22  619.0  262.0  383.0  1070.0  \n",
       "2007-08-23  646.0  269.0  412.5  1090.0  \n",
       "2007-08-24  637.0  270.0  414.5  1090.0  \n",
       "2007-08-27  639.0  265.0  414.5  1125.0  \n",
       "2007-08-28  638.0  267.0  412.5  1085.0  \n",
       "\n",
       "[5 rows x 290 columns]"
      ]
     },
     "execution_count": 12,
     "metadata": {},
     "output_type": "execute_result"
    }
   ],
   "source": [
    "# 10年分の株価と75日乖離率\n",
    "df_outs.head()"
   ]
  },
  {
   "cell_type": "code",
   "execution_count": 13,
   "metadata": {
    "collapsed": false
   },
   "outputs": [
    {
     "data": {
      "text/html": [
       "<div>\n",
       "<table border=\"1\" class=\"dataframe\">\n",
       "  <thead>\n",
       "    <tr style=\"text-align: right;\">\n",
       "      <th></th>\n",
       "      <th>1352_dev_75</th>\n",
       "      <th>2654_dev_75</th>\n",
       "      <th>2667_dev_75</th>\n",
       "      <th>2668_dev_75</th>\n",
       "      <th>2676_dev_75</th>\n",
       "      <th>2689_dev_75</th>\n",
       "      <th>2692_dev_75</th>\n",
       "      <th>2693_dev_75</th>\n",
       "      <th>2700_dev_75</th>\n",
       "      <th>2703_dev_75</th>\n",
       "      <th>...</th>\n",
       "      <th>9964_dev_75</th>\n",
       "      <th>9967_dev_75</th>\n",
       "      <th>9972_dev_75</th>\n",
       "      <th>9982_dev_75</th>\n",
       "      <th>9986_dev_75</th>\n",
       "      <th>9987_dev_75</th>\n",
       "      <th>9991_dev_75</th>\n",
       "      <th>9992_dev_75</th>\n",
       "      <th>9995_dev_75</th>\n",
       "      <th>9996_dev_75</th>\n",
       "    </tr>\n",
       "  </thead>\n",
       "  <tbody>\n",
       "    <tr>\n",
       "      <th>2007-08-22</th>\n",
       "      <td>0.073826</td>\n",
       "      <td>0.043841</td>\n",
       "      <td>-0.005197</td>\n",
       "      <td>0.037562</td>\n",
       "      <td>0.012502</td>\n",
       "      <td>-0.002276</td>\n",
       "      <td>-0.009759</td>\n",
       "      <td>-0.005539</td>\n",
       "      <td>0.003741</td>\n",
       "      <td>-0.147157</td>\n",
       "      <td>...</td>\n",
       "      <td>-0.026577</td>\n",
       "      <td>-0.054054</td>\n",
       "      <td>-0.001505</td>\n",
       "      <td>None</td>\n",
       "      <td>-0.008848</td>\n",
       "      <td>None</td>\n",
       "      <td>-0.009283</td>\n",
       "      <td>-0.031065</td>\n",
       "      <td>-0.008286</td>\n",
       "      <td>-0.009993</td>\n",
       "    </tr>\n",
       "    <tr>\n",
       "      <th>2007-08-23</th>\n",
       "      <td>0.065246</td>\n",
       "      <td>0.028807</td>\n",
       "      <td>0.020157</td>\n",
       "      <td>0.081917</td>\n",
       "      <td>0.027353</td>\n",
       "      <td>-0.002276</td>\n",
       "      <td>0.008065</td>\n",
       "      <td>0.001009</td>\n",
       "      <td>0.012422</td>\n",
       "      <td>-0.089127</td>\n",
       "      <td>...</td>\n",
       "      <td>0.027725</td>\n",
       "      <td>-0.009067</td>\n",
       "      <td>0.019173</td>\n",
       "      <td>None</td>\n",
       "      <td>-0.013657</td>\n",
       "      <td>None</td>\n",
       "      <td>0.030303</td>\n",
       "      <td>0.002983</td>\n",
       "      <td>0.055797</td>\n",
       "      <td>0.013199</td>\n",
       "    </tr>\n",
       "    <tr>\n",
       "      <th>2007-08-24</th>\n",
       "      <td>0.023468</td>\n",
       "      <td>-0.028926</td>\n",
       "      <td>0.027264</td>\n",
       "      <td>0.091111</td>\n",
       "      <td>0.006698</td>\n",
       "      <td>0.012903</td>\n",
       "      <td>0.017241</td>\n",
       "      <td>-0.005553</td>\n",
       "      <td>0.012422</td>\n",
       "      <td>-0.015466</td>\n",
       "      <td>...</td>\n",
       "      <td>-0.016302</td>\n",
       "      <td>-0.009067</td>\n",
       "      <td>0.022099</td>\n",
       "      <td>None</td>\n",
       "      <td>-0.017738</td>\n",
       "      <td>None</td>\n",
       "      <td>0.010470</td>\n",
       "      <td>0.014275</td>\n",
       "      <td>0.043818</td>\n",
       "      <td>0.008512</td>\n",
       "    </tr>\n",
       "    <tr>\n",
       "      <th>2007-08-27</th>\n",
       "      <td>0.017812</td>\n",
       "      <td>-0.030928</td>\n",
       "      <td>0.006297</td>\n",
       "      <td>0.069976</td>\n",
       "      <td>0.009462</td>\n",
       "      <td>0.032139</td>\n",
       "      <td>0.014866</td>\n",
       "      <td>0.003530</td>\n",
       "      <td>0.028325</td>\n",
       "      <td>0.026427</td>\n",
       "      <td>...</td>\n",
       "      <td>-0.046201</td>\n",
       "      <td>-0.009067</td>\n",
       "      <td>0.009950</td>\n",
       "      <td>None</td>\n",
       "      <td>-0.012085</td>\n",
       "      <td>None</td>\n",
       "      <td>0.007251</td>\n",
       "      <td>0.003028</td>\n",
       "      <td>0.043818</td>\n",
       "      <td>0.032300</td>\n",
       "    </tr>\n",
       "    <tr>\n",
       "      <th>2007-08-28</th>\n",
       "      <td>0.003764</td>\n",
       "      <td>-0.024896</td>\n",
       "      <td>0.031422</td>\n",
       "      <td>0.067020</td>\n",
       "      <td>0.003308</td>\n",
       "      <td>0.039922</td>\n",
       "      <td>0.013629</td>\n",
       "      <td>-0.006070</td>\n",
       "      <td>0.034693</td>\n",
       "      <td>0.075878</td>\n",
       "      <td>...</td>\n",
       "      <td>-0.039724</td>\n",
       "      <td>0.000000</td>\n",
       "      <td>0.062896</td>\n",
       "      <td>None</td>\n",
       "      <td>-0.010236</td>\n",
       "      <td>None</td>\n",
       "      <td>0.003460</td>\n",
       "      <td>0.001500</td>\n",
       "      <td>0.028422</td>\n",
       "      <td>-0.006410</td>\n",
       "    </tr>\n",
       "  </tbody>\n",
       "</table>\n",
       "<p>5 rows × 290 columns</p>\n",
       "</div>"
      ],
      "text/plain": [
       "            1352_dev_75  2654_dev_75  2667_dev_75  2668_dev_75  2676_dev_75  \\\n",
       "2007-08-22     0.073826     0.043841    -0.005197     0.037562     0.012502   \n",
       "2007-08-23     0.065246     0.028807     0.020157     0.081917     0.027353   \n",
       "2007-08-24     0.023468    -0.028926     0.027264     0.091111     0.006698   \n",
       "2007-08-27     0.017812    -0.030928     0.006297     0.069976     0.009462   \n",
       "2007-08-28     0.003764    -0.024896     0.031422     0.067020     0.003308   \n",
       "\n",
       "            2689_dev_75  2692_dev_75  2693_dev_75  2700_dev_75  2703_dev_75  \\\n",
       "2007-08-22    -0.002276    -0.009759    -0.005539     0.003741    -0.147157   \n",
       "2007-08-23    -0.002276     0.008065     0.001009     0.012422    -0.089127   \n",
       "2007-08-24     0.012903     0.017241    -0.005553     0.012422    -0.015466   \n",
       "2007-08-27     0.032139     0.014866     0.003530     0.028325     0.026427   \n",
       "2007-08-28     0.039922     0.013629    -0.006070     0.034693     0.075878   \n",
       "\n",
       "               ...       9964_dev_75  9967_dev_75  9972_dev_75  9982_dev_75  \\\n",
       "2007-08-22     ...         -0.026577    -0.054054    -0.001505         None   \n",
       "2007-08-23     ...          0.027725    -0.009067     0.019173         None   \n",
       "2007-08-24     ...         -0.016302    -0.009067     0.022099         None   \n",
       "2007-08-27     ...         -0.046201    -0.009067     0.009950         None   \n",
       "2007-08-28     ...         -0.039724     0.000000     0.062896         None   \n",
       "\n",
       "            9986_dev_75  9987_dev_75  9991_dev_75  9992_dev_75  9995_dev_75  \\\n",
       "2007-08-22    -0.008848         None    -0.009283    -0.031065    -0.008286   \n",
       "2007-08-23    -0.013657         None     0.030303     0.002983     0.055797   \n",
       "2007-08-24    -0.017738         None     0.010470     0.014275     0.043818   \n",
       "2007-08-27    -0.012085         None     0.007251     0.003028     0.043818   \n",
       "2007-08-28    -0.010236         None     0.003460     0.001500     0.028422   \n",
       "\n",
       "            9996_dev_75  \n",
       "2007-08-22    -0.009993  \n",
       "2007-08-23     0.013199  \n",
       "2007-08-24     0.008512  \n",
       "2007-08-27     0.032300  \n",
       "2007-08-28    -0.006410  \n",
       "\n",
       "[5 rows x 290 columns]"
      ]
     },
     "execution_count": 13,
     "metadata": {},
     "output_type": "execute_result"
    }
   ],
   "source": [
    "df_outs_dev.head()"
   ]
  },
  {
   "cell_type": "code",
   "execution_count": 14,
   "metadata": {
    "collapsed": true
   },
   "outputs": [],
   "source": [
    "# 内需株データを取得\n",
    "df_ins_list = [] \n",
    "df_ins_deviate_list = []\n",
    "for code in df_in[\"code\"]:\n",
    "    table_name = str(code) + \".T\"\n",
    "    sql = \"\"\"\n",
    "             SELECT date, adjusted_closing_price, deviationrate_75 FROM `{table_name}` WHERE date >'2007-08-21';\n",
    "             \"\"\".format(table_name=table_name)\n",
    "    df = pd.read_sql(sql, con_price, index_col=\"date\")\n",
    "    df.columns = [str(code), str(code) + \"_dev_75\"]\n",
    "    df_ins_list.append(pd.DataFrame(df[str(code)]))\n",
    "    df_ins_deviate_list.append(pd.DataFrame(df[str(code) + \"_dev_75\"]))\n",
    "\n",
    "df_ins = pd.concat(df_ins_list, axis=1).fillna(method=\"bfill\")\n",
    "df_ins_dev = pd.concat(df_ins_deviate_list, axis=1).fillna(method=\"bfill\")"
   ]
  },
  {
   "cell_type": "code",
   "execution_count": 15,
   "metadata": {
    "collapsed": false
   },
   "outputs": [
    {
     "data": {
      "text/html": [
       "<div>\n",
       "<table border=\"1\" class=\"dataframe\">\n",
       "  <thead>\n",
       "    <tr style=\"text-align: right;\">\n",
       "      <th></th>\n",
       "      <th>1973</th>\n",
       "      <th>2138</th>\n",
       "      <th>2303</th>\n",
       "      <th>2307</th>\n",
       "      <th>2315</th>\n",
       "      <th>2321</th>\n",
       "      <th>2323</th>\n",
       "      <th>2326</th>\n",
       "      <th>2327</th>\n",
       "      <th>2329</th>\n",
       "      <th>...</th>\n",
       "      <th>9749</th>\n",
       "      <th>9753</th>\n",
       "      <th>9758</th>\n",
       "      <th>9759</th>\n",
       "      <th>9766</th>\n",
       "      <th>9790</th>\n",
       "      <th>9799</th>\n",
       "      <th>9889</th>\n",
       "      <th>9928</th>\n",
       "      <th>9984</th>\n",
       "    </tr>\n",
       "  </thead>\n",
       "  <tbody>\n",
       "    <tr>\n",
       "      <th>2007-08-22</th>\n",
       "      <td>1097.0</td>\n",
       "      <td>372.5</td>\n",
       "      <td>170.0</td>\n",
       "      <td>236.0</td>\n",
       "      <td>670.0</td>\n",
       "      <td>758.0</td>\n",
       "      <td>1260.0</td>\n",
       "      <td>440.0</td>\n",
       "      <td>1525.0</td>\n",
       "      <td>1097.0</td>\n",
       "      <td>...</td>\n",
       "      <td>2305.0</td>\n",
       "      <td>345.0</td>\n",
       "      <td>247.0</td>\n",
       "      <td>1611.82</td>\n",
       "      <td>2710.0</td>\n",
       "      <td>398.0</td>\n",
       "      <td>1165.0</td>\n",
       "      <td>933.0</td>\n",
       "      <td>304.0</td>\n",
       "      <td>2260.0</td>\n",
       "    </tr>\n",
       "    <tr>\n",
       "      <th>2007-08-23</th>\n",
       "      <td>1172.0</td>\n",
       "      <td>422.5</td>\n",
       "      <td>182.5</td>\n",
       "      <td>236.0</td>\n",
       "      <td>679.0</td>\n",
       "      <td>805.0</td>\n",
       "      <td>1400.0</td>\n",
       "      <td>440.0</td>\n",
       "      <td>1560.0</td>\n",
       "      <td>1102.0</td>\n",
       "      <td>...</td>\n",
       "      <td>2395.0</td>\n",
       "      <td>348.0</td>\n",
       "      <td>250.0</td>\n",
       "      <td>1673.64</td>\n",
       "      <td>2745.0</td>\n",
       "      <td>398.0</td>\n",
       "      <td>1141.0</td>\n",
       "      <td>960.0</td>\n",
       "      <td>303.0</td>\n",
       "      <td>2290.0</td>\n",
       "    </tr>\n",
       "    <tr>\n",
       "      <th>2007-08-24</th>\n",
       "      <td>1183.0</td>\n",
       "      <td>435.0</td>\n",
       "      <td>190.0</td>\n",
       "      <td>238.0</td>\n",
       "      <td>665.0</td>\n",
       "      <td>797.0</td>\n",
       "      <td>1420.0</td>\n",
       "      <td>440.0</td>\n",
       "      <td>1555.0</td>\n",
       "      <td>1080.0</td>\n",
       "      <td>...</td>\n",
       "      <td>2355.0</td>\n",
       "      <td>353.0</td>\n",
       "      <td>260.0</td>\n",
       "      <td>1700.00</td>\n",
       "      <td>2720.0</td>\n",
       "      <td>401.0</td>\n",
       "      <td>1141.0</td>\n",
       "      <td>1012.0</td>\n",
       "      <td>308.0</td>\n",
       "      <td>2270.0</td>\n",
       "    </tr>\n",
       "    <tr>\n",
       "      <th>2007-08-27</th>\n",
       "      <td>1186.0</td>\n",
       "      <td>415.0</td>\n",
       "      <td>205.0</td>\n",
       "      <td>257.0</td>\n",
       "      <td>655.0</td>\n",
       "      <td>792.0</td>\n",
       "      <td>1380.0</td>\n",
       "      <td>440.0</td>\n",
       "      <td>1600.0</td>\n",
       "      <td>1059.0</td>\n",
       "      <td>...</td>\n",
       "      <td>2365.0</td>\n",
       "      <td>353.0</td>\n",
       "      <td>261.0</td>\n",
       "      <td>1728.18</td>\n",
       "      <td>2750.0</td>\n",
       "      <td>392.5</td>\n",
       "      <td>1150.0</td>\n",
       "      <td>1013.0</td>\n",
       "      <td>301.0</td>\n",
       "      <td>2270.0</td>\n",
       "    </tr>\n",
       "    <tr>\n",
       "      <th>2007-08-28</th>\n",
       "      <td>1149.0</td>\n",
       "      <td>410.0</td>\n",
       "      <td>225.0</td>\n",
       "      <td>264.0</td>\n",
       "      <td>661.0</td>\n",
       "      <td>777.0</td>\n",
       "      <td>1410.0</td>\n",
       "      <td>440.0</td>\n",
       "      <td>1570.0</td>\n",
       "      <td>1059.0</td>\n",
       "      <td>...</td>\n",
       "      <td>2350.0</td>\n",
       "      <td>343.0</td>\n",
       "      <td>261.0</td>\n",
       "      <td>1722.73</td>\n",
       "      <td>2735.0</td>\n",
       "      <td>393.5</td>\n",
       "      <td>1150.0</td>\n",
       "      <td>1007.0</td>\n",
       "      <td>300.0</td>\n",
       "      <td>2310.0</td>\n",
       "    </tr>\n",
       "  </tbody>\n",
       "</table>\n",
       "<p>5 rows × 250 columns</p>\n",
       "</div>"
      ],
      "text/plain": [
       "              1973   2138   2303   2307   2315   2321    2323   2326    2327  \\\n",
       "2007-08-22  1097.0  372.5  170.0  236.0  670.0  758.0  1260.0  440.0  1525.0   \n",
       "2007-08-23  1172.0  422.5  182.5  236.0  679.0  805.0  1400.0  440.0  1560.0   \n",
       "2007-08-24  1183.0  435.0  190.0  238.0  665.0  797.0  1420.0  440.0  1555.0   \n",
       "2007-08-27  1186.0  415.0  205.0  257.0  655.0  792.0  1380.0  440.0  1600.0   \n",
       "2007-08-28  1149.0  410.0  225.0  264.0  661.0  777.0  1410.0  440.0  1570.0   \n",
       "\n",
       "              2329   ...      9749   9753   9758     9759    9766   9790  \\\n",
       "2007-08-22  1097.0   ...    2305.0  345.0  247.0  1611.82  2710.0  398.0   \n",
       "2007-08-23  1102.0   ...    2395.0  348.0  250.0  1673.64  2745.0  398.0   \n",
       "2007-08-24  1080.0   ...    2355.0  353.0  260.0  1700.00  2720.0  401.0   \n",
       "2007-08-27  1059.0   ...    2365.0  353.0  261.0  1728.18  2750.0  392.5   \n",
       "2007-08-28  1059.0   ...    2350.0  343.0  261.0  1722.73  2735.0  393.5   \n",
       "\n",
       "              9799    9889   9928    9984  \n",
       "2007-08-22  1165.0   933.0  304.0  2260.0  \n",
       "2007-08-23  1141.0   960.0  303.0  2290.0  \n",
       "2007-08-24  1141.0  1012.0  308.0  2270.0  \n",
       "2007-08-27  1150.0  1013.0  301.0  2270.0  \n",
       "2007-08-28  1150.0  1007.0  300.0  2310.0  \n",
       "\n",
       "[5 rows x 250 columns]"
      ]
     },
     "execution_count": 15,
     "metadata": {},
     "output_type": "execute_result"
    }
   ],
   "source": [
    "# 10年分の株価と75日乖離率\n",
    "df_ins.head()"
   ]
  },
  {
   "cell_type": "code",
   "execution_count": 16,
   "metadata": {
    "collapsed": false
   },
   "outputs": [
    {
     "data": {
      "text/html": [
       "<div>\n",
       "<table border=\"1\" class=\"dataframe\">\n",
       "  <thead>\n",
       "    <tr style=\"text-align: right;\">\n",
       "      <th></th>\n",
       "      <th>1973_dev_75</th>\n",
       "      <th>2138_dev_75</th>\n",
       "      <th>2303_dev_75</th>\n",
       "      <th>2307_dev_75</th>\n",
       "      <th>2315_dev_75</th>\n",
       "      <th>2321_dev_75</th>\n",
       "      <th>2323_dev_75</th>\n",
       "      <th>2326_dev_75</th>\n",
       "      <th>2327_dev_75</th>\n",
       "      <th>2329_dev_75</th>\n",
       "      <th>...</th>\n",
       "      <th>9749_dev_75</th>\n",
       "      <th>9753_dev_75</th>\n",
       "      <th>9758_dev_75</th>\n",
       "      <th>9759_dev_75</th>\n",
       "      <th>9766_dev_75</th>\n",
       "      <th>9790_dev_75</th>\n",
       "      <th>9799_dev_75</th>\n",
       "      <th>9889_dev_75</th>\n",
       "      <th>9928_dev_75</th>\n",
       "      <th>9984_dev_75</th>\n",
       "    </tr>\n",
       "  </thead>\n",
       "  <tbody>\n",
       "    <tr>\n",
       "      <th>2007-08-22</th>\n",
       "      <td>-0.009749</td>\n",
       "      <td>0.023352</td>\n",
       "      <td>-0.026067</td>\n",
       "      <td>-0.008403</td>\n",
       "      <td>0.002094</td>\n",
       "      <td>0.003442</td>\n",
       "      <td>0.011236</td>\n",
       "      <td>0.0</td>\n",
       "      <td>-0.003268</td>\n",
       "      <td>-0.016143</td>\n",
       "      <td>...</td>\n",
       "      <td>0.002610</td>\n",
       "      <td>-0.020443</td>\n",
       "      <td>-0.065102</td>\n",
       "      <td>0.043801</td>\n",
       "      <td>0.030418</td>\n",
       "      <td>0.014271</td>\n",
       "      <td>0.011812</td>\n",
       "      <td>0.003442</td>\n",
       "      <td>0.015364</td>\n",
       "      <td>0.003998</td>\n",
       "    </tr>\n",
       "    <tr>\n",
       "      <th>2007-08-23</th>\n",
       "      <td>0.055666</td>\n",
       "      <td>0.132708</td>\n",
       "      <td>0.042559</td>\n",
       "      <td>-0.008403</td>\n",
       "      <td>0.016163</td>\n",
       "      <td>0.067356</td>\n",
       "      <td>0.105845</td>\n",
       "      <td>0.0</td>\n",
       "      <td>0.014964</td>\n",
       "      <td>-0.001269</td>\n",
       "      <td>...</td>\n",
       "      <td>0.034557</td>\n",
       "      <td>-0.009112</td>\n",
       "      <td>-0.038462</td>\n",
       "      <td>0.059507</td>\n",
       "      <td>0.035458</td>\n",
       "      <td>0.017903</td>\n",
       "      <td>-0.006444</td>\n",
       "      <td>0.032480</td>\n",
       "      <td>0.012024</td>\n",
       "      <td>0.019137</td>\n",
       "    </tr>\n",
       "    <tr>\n",
       "      <th>2007-08-24</th>\n",
       "      <td>0.043578</td>\n",
       "      <td>0.113956</td>\n",
       "      <td>0.065620</td>\n",
       "      <td>0.005068</td>\n",
       "      <td>-0.006276</td>\n",
       "      <td>0.033454</td>\n",
       "      <td>0.080670</td>\n",
       "      <td>0.0</td>\n",
       "      <td>0.007124</td>\n",
       "      <td>-0.012978</td>\n",
       "      <td>...</td>\n",
       "      <td>0.009863</td>\n",
       "      <td>0.005125</td>\n",
       "      <td>0.008534</td>\n",
       "      <td>0.054115</td>\n",
       "      <td>0.015683</td>\n",
       "      <td>0.010585</td>\n",
       "      <td>-0.010064</td>\n",
       "      <td>0.063025</td>\n",
       "      <td>0.016502</td>\n",
       "      <td>-0.001320</td>\n",
       "    </tr>\n",
       "    <tr>\n",
       "      <th>2007-08-27</th>\n",
       "      <td>0.027018</td>\n",
       "      <td>0.034913</td>\n",
       "      <td>0.112619</td>\n",
       "      <td>0.069942</td>\n",
       "      <td>-0.020634</td>\n",
       "      <td>0.013047</td>\n",
       "      <td>0.028316</td>\n",
       "      <td>0.0</td>\n",
       "      <td>0.032258</td>\n",
       "      <td>-0.026654</td>\n",
       "      <td>...</td>\n",
       "      <td>0.009390</td>\n",
       "      <td>0.009148</td>\n",
       "      <td>0.017147</td>\n",
       "      <td>0.043588</td>\n",
       "      <td>0.015885</td>\n",
       "      <td>-0.012082</td>\n",
       "      <td>0.001393</td>\n",
       "      <td>0.043254</td>\n",
       "      <td>-0.007256</td>\n",
       "      <td>-0.003074</td>\n",
       "    </tr>\n",
       "    <tr>\n",
       "      <th>2007-08-28</th>\n",
       "      <td>-0.007258</td>\n",
       "      <td>-0.002433</td>\n",
       "      <td>0.156812</td>\n",
       "      <td>0.073171</td>\n",
       "      <td>-0.007508</td>\n",
       "      <td>-0.011199</td>\n",
       "      <td>0.026201</td>\n",
       "      <td>0.0</td>\n",
       "      <td>0.005122</td>\n",
       "      <td>-0.018899</td>\n",
       "      <td>...</td>\n",
       "      <td>-0.001699</td>\n",
       "      <td>-0.015499</td>\n",
       "      <td>0.020328</td>\n",
       "      <td>0.021013</td>\n",
       "      <td>0.001098</td>\n",
       "      <td>-0.007816</td>\n",
       "      <td>0.001393</td>\n",
       "      <td>0.022335</td>\n",
       "      <td>-0.010554</td>\n",
       "      <td>0.013158</td>\n",
       "    </tr>\n",
       "  </tbody>\n",
       "</table>\n",
       "<p>5 rows × 250 columns</p>\n",
       "</div>"
      ],
      "text/plain": [
       "            1973_dev_75  2138_dev_75  2303_dev_75  2307_dev_75  2315_dev_75  \\\n",
       "2007-08-22    -0.009749     0.023352    -0.026067    -0.008403     0.002094   \n",
       "2007-08-23     0.055666     0.132708     0.042559    -0.008403     0.016163   \n",
       "2007-08-24     0.043578     0.113956     0.065620     0.005068    -0.006276   \n",
       "2007-08-27     0.027018     0.034913     0.112619     0.069942    -0.020634   \n",
       "2007-08-28    -0.007258    -0.002433     0.156812     0.073171    -0.007508   \n",
       "\n",
       "            2321_dev_75  2323_dev_75  2326_dev_75  2327_dev_75  2329_dev_75  \\\n",
       "2007-08-22     0.003442     0.011236          0.0    -0.003268    -0.016143   \n",
       "2007-08-23     0.067356     0.105845          0.0     0.014964    -0.001269   \n",
       "2007-08-24     0.033454     0.080670          0.0     0.007124    -0.012978   \n",
       "2007-08-27     0.013047     0.028316          0.0     0.032258    -0.026654   \n",
       "2007-08-28    -0.011199     0.026201          0.0     0.005122    -0.018899   \n",
       "\n",
       "               ...       9749_dev_75  9753_dev_75  9758_dev_75  9759_dev_75  \\\n",
       "2007-08-22     ...          0.002610    -0.020443    -0.065102     0.043801   \n",
       "2007-08-23     ...          0.034557    -0.009112    -0.038462     0.059507   \n",
       "2007-08-24     ...          0.009863     0.005125     0.008534     0.054115   \n",
       "2007-08-27     ...          0.009390     0.009148     0.017147     0.043588   \n",
       "2007-08-28     ...         -0.001699    -0.015499     0.020328     0.021013   \n",
       "\n",
       "            9766_dev_75  9790_dev_75  9799_dev_75  9889_dev_75  9928_dev_75  \\\n",
       "2007-08-22     0.030418     0.014271     0.011812     0.003442     0.015364   \n",
       "2007-08-23     0.035458     0.017903    -0.006444     0.032480     0.012024   \n",
       "2007-08-24     0.015683     0.010585    -0.010064     0.063025     0.016502   \n",
       "2007-08-27     0.015885    -0.012082     0.001393     0.043254    -0.007256   \n",
       "2007-08-28     0.001098    -0.007816     0.001393     0.022335    -0.010554   \n",
       "\n",
       "            9984_dev_75  \n",
       "2007-08-22     0.003998  \n",
       "2007-08-23     0.019137  \n",
       "2007-08-24    -0.001320  \n",
       "2007-08-27    -0.003074  \n",
       "2007-08-28     0.013158  \n",
       "\n",
       "[5 rows x 250 columns]"
      ]
     },
     "execution_count": 16,
     "metadata": {},
     "output_type": "execute_result"
    }
   ],
   "source": [
    "df_ins_dev.head()"
   ]
  },
  {
   "cell_type": "code",
   "execution_count": 17,
   "metadata": {
    "collapsed": false
   },
   "outputs": [],
   "source": [
    "out_average_price = pd.DataFrame(df_outs.mean(axis=1))\n",
    "in_average_price = pd.DataFrame(df_ins.mean(axis=1))\n",
    "price = pd.concat([out_average_price, in_average_price], axis=1)\n",
    "price.columns = [\"overseas demand related index\", \"domestic demand related index\"]"
   ]
  },
  {
   "cell_type": "code",
   "execution_count": 18,
   "metadata": {
    "collapsed": false
   },
   "outputs": [
    {
     "data": {
      "text/plain": [
       "<matplotlib.axes._subplots.AxesSubplot at 0x7f007d506048>"
      ]
     },
     "execution_count": 18,
     "metadata": {},
     "output_type": "execute_result"
    },
    {
     "data": {
      "image/png": "[encoded data removed]",
      "text/plain": [
       "<matplotlib.figure.Figure at 0x7f007c5ca7b8>"
      ]
     },
     "metadata": {},
     "output_type": "display_data"
    }
   ],
   "source": [
    "price.plot(figsize=(10,5))\n",
    "# plt.savefig(\"image2.png\")"
   ]
  },
  {
   "cell_type": "markdown",
   "metadata": {},
   "source": [
    "東京オリンピックが決まったのが2013年9月8日\n",
    "http://www.nikkei.com/article/DGXNASDG07047_Y3A900C1000000/"
   ]
  },
  {
   "cell_type": "markdown",
   "metadata": {},
   "source": [
    "###### 考察\n",
    "\n",
    "- リーマンショック後は外需と内需が拮抗している\n",
    "- 2013年アベノミクスで上昇\n",
    "- やはり大きなさが出たのは東京オリンピックか(すでに織り込み済みという説はあっているかも)"
   ]
  },
  {
   "cell_type": "markdown",
   "metadata": {},
   "source": [
    "###### 指数(全体平均からの乖離を見てみる)"
   ]
  },
  {
   "cell_type": "code",
   "execution_count": 19,
   "metadata": {
    "collapsed": true
   },
   "outputs": [],
   "source": [
    "average_price = (out_average_price*250 + in_average_price*290)/(250+290)\n",
    "average_price.columns = [\"average\"]"
   ]
  },
  {
   "cell_type": "code",
   "execution_count": 20,
   "metadata": {
    "collapsed": false
   },
   "outputs": [],
   "source": [
    "diff_out_average_price = price[\"overseas demand related index\"] - average_price[\"average\"]\n",
    "diff_in_average_price = price[\"domestic demand related index\"] - average_price[\"average\"]\n",
    "diff_price = pd.concat([diff_out_average_price, diff_in_average_price], axis=1)\n",
    "diff_price.columns = [\"deviation of overseas demand related index\", \"deviation of domestic demand related index\"]"
   ]
  },
  {
   "cell_type": "code",
   "execution_count": 21,
   "metadata": {
    "collapsed": false
   },
   "outputs": [
    {
     "data": {
      "text/plain": [
       "<matplotlib.axes._subplots.AxesSubplot at 0x7f007ad1c6d8>"
      ]
     },
     "execution_count": 21,
     "metadata": {},
     "output_type": "execute_result"
    },
    {
     "data": {
      "image/png": "[encoded data removed]",
      "text/plain": [
       "<matplotlib.figure.Figure at 0x7f007c029ef0>"
      ]
     },
     "metadata": {},
     "output_type": "display_data"
    }
   ],
   "source": [
    "diff_price.plot(figsize=(10,5))"
   ]
  },
  {
   "cell_type": "code",
   "execution_count": 22,
   "metadata": {
    "collapsed": true
   },
   "outputs": [],
   "source": [
    "table_name = \"USDJPY\"\n",
    "sql = \"\"\"\n",
    "         SELECT date, closing_price FROM `{table_name}` WHERE date >'2007-08-21';\n",
    "         \"\"\".format(table_name=table_name)\n",
    "df_usdjpy = pd.read_sql(sql, con_price, index_col=\"date\")\n",
    "df_usdjpy.columns = [\"USDJPY\"]"
   ]
  },
  {
   "cell_type": "markdown",
   "metadata": {},
   "source": [
    "###### ドル円 "
   ]
  },
  {
   "cell_type": "code",
   "execution_count": 23,
   "metadata": {
    "collapsed": false
   },
   "outputs": [
    {
     "data": {
      "text/plain": [
       "<matplotlib.axes._subplots.AxesSubplot at 0x7f00778ad588>"
      ]
     },
     "execution_count": 23,
     "metadata": {},
     "output_type": "execute_result"
    },
    {
     "data": {
      "image/png": "[encoded data removed]",
      "text/plain": [
       "<matplotlib.figure.Figure at 0x7f007781b080>"
      ]
     },
     "metadata": {},
     "output_type": "display_data"
    }
   ],
   "source": [
    "df_usdjpy.plot(figsize=(10,5))"
   ]
  },
  {
   "cell_type": "markdown",
   "metadata": {},
   "source": [
    "###### ドル円と内需と外需の乖離"
   ]
  },
  {
   "cell_type": "code",
   "execution_count": 24,
   "metadata": {
    "collapsed": false
   },
   "outputs": [
    {
     "data": {
      "text/plain": [
       "<matplotlib.axes._subplots.AxesSubplot at 0x7f0077762080>"
      ]
     },
     "execution_count": 24,
     "metadata": {},
     "output_type": "execute_result"
    },
    {
     "data": {
      "image/png": "[encoded data removed]",
      "text/plain": [
       "<matplotlib.figure.Figure at 0x7f007789c9e8>"
      ]
     },
     "metadata": {},
     "output_type": "display_data"
    }
   ],
   "source": [
    "fig, ax1 = plt.subplots()\n",
    "diff_average = price[\"overseas demand related index\"] - price[\"domestic demand related index\"]\n",
    "diff_average.columns = [\"diff between overseas and domestic\"]\n",
    "diff_average.plot(ax=ax1, figsize=(10, 5), color=\"red\",grid=True,)\n",
    "\n",
    "ax2 = ax1.twinx()\n",
    "df_usdjpy.plot(ax=ax2, figsize=(10,5))"
   ]
  },
  {
   "cell_type": "code",
   "execution_count": null,
   "metadata": {
    "collapsed": true
   },
   "outputs": [],
   "source": []
  }
 ],
 "metadata": {
  "kernelspec": {
   "display_name": "Python 3",
   "language": "python",
   "name": "python3"
  },
  "language_info": {
   "codemirror_mode": {
    "name": "ipython",
    "version": 3
   },
   "file_extension": ".py",
   "mimetype": "text/x-python",
   "name": "python",
   "nbconvert_exporter": "python",
   "pygments_lexer": "ipython3",
   "version": "3.5.2"
  }
 },
 "nbformat": 4,
 "nbformat_minor": 0
}
